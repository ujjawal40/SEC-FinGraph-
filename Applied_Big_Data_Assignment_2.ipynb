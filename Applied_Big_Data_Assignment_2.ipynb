{
  "nbformat": 4,
  "nbformat_minor": 0,
  "metadata": {
    "colab": {
      "provenance": [],
      "authorship_tag": "ABX9TyNb2dsHmOObu7HmlSIfh0gC",
      "include_colab_link": true
    },
    "kernelspec": {
      "name": "python3",
      "display_name": "Python 3"
    },
    "language_info": {
      "name": "python"
    }
  },
  "cells": [
    {
      "cell_type": "markdown",
      "metadata": {
        "id": "view-in-github",
        "colab_type": "text"
      },
      "source": [
        "<a href=\"https://colab.research.google.com/github/ujjawal40/SEC-FinGraph-/blob/main/Applied_Big_Data_Assignment_2.ipynb\" target=\"_parent\"><img src=\"https://colab.research.google.com/assets/colab-badge.svg\" alt=\"Open In Colab\"/></a>"
      ]
    },
    {
      "cell_type": "code",
      "execution_count": null,
      "metadata": {
        "id": "xsnOvYrbvOIe"
      },
      "outputs": [],
      "source": [
        "from google.colab import drive\n",
        "import os\n",
        "import pandas as pd\n",
        "import numpy as np\n",
        "\n",
        "# Neo4j and database tools\n",
        "from neo4j import GraphDatabase\n",
        "\n",
        "# Visualization\n",
        "import matplotlib.pyplot as plt\n",
        "%matplotlib inline\n",
        "from yfiles_jupyter_graphs_for_neo4j import visualize\n",
        "\n",
        "# PySpark and ML\n",
        "from pyspark.sql import SparkSession\n",
        "from pyspark.ml.clustering import KMeans\n",
        "from sklearn.cluster import KMeans as SKMeans  # Alternative (small datasets)\n",
        "\n",
        "# Statistics and data analysis\n",
        "from scipy import stats\n",
        "\n",
        "# GraphRAG and NLP (optional)\n",
        "from langchain.chains import GraphQAChain\n",
        "from langchain.llms import OpenAI\n"
      ]
    }
  ]
}