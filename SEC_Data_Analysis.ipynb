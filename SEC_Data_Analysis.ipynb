{
  "cells": [
    {
      "cell_type": "markdown",
      "metadata": {
        "id": "view-in-github",
        "colab_type": "text"
      },
      "source": [
        "<a href=\"https://colab.research.google.com/github/ujjawal40/SEC-FinGraph-/blob/main/SEC_Data_Analysis.ipynb\" target=\"_parent\"><img src=\"https://colab.research.google.com/assets/colab-badge.svg\" alt=\"Open In Colab\"/></a>"
      ]
    },
    {
      "cell_type": "code",
      "execution_count": 1,
      "metadata": {
        "colab": {
          "base_uri": "https://localhost:8080/"
        },
        "id": "4PT5v50HsTwg",
        "outputId": "737d5b1a-5499-4f3b-b455-8936bfe112ea"
      },
      "outputs": [
        {
          "output_type": "stream",
          "name": "stdout",
          "text": [
            "Collecting neo4j\n",
            "  Downloading neo4j-5.28.1-py3-none-any.whl.metadata (5.9 kB)\n",
            "Requirement already satisfied: pytz in /usr/local/lib/python3.11/dist-packages (from neo4j) (2025.1)\n",
            "Downloading neo4j-5.28.1-py3-none-any.whl (312 kB)\n",
            "\u001b[2K   \u001b[90m━━━━━━━━━━━━━━━━━━━━━━━━━━━━━━━━━━━━━━━━\u001b[0m \u001b[32m312.3/312.3 kB\u001b[0m \u001b[31m2.9 MB/s\u001b[0m eta \u001b[36m0:00:00\u001b[0m\n",
            "\u001b[?25hInstalling collected packages: neo4j\n",
            "Successfully installed neo4j-5.28.1\n"
          ]
        }
      ],
      "source": [
        "pip install neo4j\n"
      ]
    },
    {
      "cell_type": "code",
      "source": [
        "yfiles_jupyter_graphs_for_neo4j"
      ],
      "metadata": {
        "colab": {
          "base_uri": "https://localhost:8080/"
        },
        "id": "rQuH8RsYHYPx",
        "outputId": "dc5dd6db-2061-411e-f437-cabb0f37c0f0"
      },
      "execution_count": 14,
      "outputs": [
        {
          "output_type": "stream",
          "name": "stdout",
          "text": [
            "Collecting yfiles_jupyter_graphs_for_neo4j\n",
            "  Downloading yfiles_jupyter_graphs_for_neo4j-1.6.0-py3-none-any.whl.metadata (17 kB)\n",
            "Requirement already satisfied: yfiles_jupyter_graphs>=1.9.0 in /usr/local/lib/python3.11/dist-packages (from yfiles_jupyter_graphs_for_neo4j) (1.10.1)\n",
            "Requirement already satisfied: ipywidgets>=8.0.0 in /usr/local/lib/python3.11/dist-packages (from yfiles_jupyter_graphs>=1.9.0->yfiles_jupyter_graphs_for_neo4j) (8.1.5)\n",
            "Requirement already satisfied: comm>=0.1.3 in /usr/local/lib/python3.11/dist-packages (from ipywidgets>=8.0.0->yfiles_jupyter_graphs>=1.9.0->yfiles_jupyter_graphs_for_neo4j) (0.2.2)\n",
            "Requirement already satisfied: ipython>=6.1.0 in /usr/local/lib/python3.11/dist-packages (from ipywidgets>=8.0.0->yfiles_jupyter_graphs>=1.9.0->yfiles_jupyter_graphs_for_neo4j) (7.34.0)\n",
            "Requirement already satisfied: traitlets>=4.3.1 in /usr/local/lib/python3.11/dist-packages (from ipywidgets>=8.0.0->yfiles_jupyter_graphs>=1.9.0->yfiles_jupyter_graphs_for_neo4j) (5.7.1)\n",
            "Requirement already satisfied: widgetsnbextension~=4.0.12 in /usr/local/lib/python3.11/dist-packages (from ipywidgets>=8.0.0->yfiles_jupyter_graphs>=1.9.0->yfiles_jupyter_graphs_for_neo4j) (4.0.13)\n",
            "Requirement already satisfied: jupyterlab-widgets~=3.0.12 in /usr/local/lib/python3.11/dist-packages (from ipywidgets>=8.0.0->yfiles_jupyter_graphs>=1.9.0->yfiles_jupyter_graphs_for_neo4j) (3.0.13)\n",
            "Requirement already satisfied: setuptools>=18.5 in /usr/local/lib/python3.11/dist-packages (from ipython>=6.1.0->ipywidgets>=8.0.0->yfiles_jupyter_graphs>=1.9.0->yfiles_jupyter_graphs_for_neo4j) (75.1.0)\n",
            "Requirement already satisfied: jedi>=0.16 in /usr/local/lib/python3.11/dist-packages (from ipython>=6.1.0->ipywidgets>=8.0.0->yfiles_jupyter_graphs>=1.9.0->yfiles_jupyter_graphs_for_neo4j) (0.19.2)\n",
            "Requirement already satisfied: decorator in /usr/local/lib/python3.11/dist-packages (from ipython>=6.1.0->ipywidgets>=8.0.0->yfiles_jupyter_graphs>=1.9.0->yfiles_jupyter_graphs_for_neo4j) (4.4.2)\n",
            "Requirement already satisfied: pickleshare in /usr/local/lib/python3.11/dist-packages (from ipython>=6.1.0->ipywidgets>=8.0.0->yfiles_jupyter_graphs>=1.9.0->yfiles_jupyter_graphs_for_neo4j) (0.7.5)\n",
            "Requirement already satisfied: prompt-toolkit!=3.0.0,!=3.0.1,<3.1.0,>=2.0.0 in /usr/local/lib/python3.11/dist-packages (from ipython>=6.1.0->ipywidgets>=8.0.0->yfiles_jupyter_graphs>=1.9.0->yfiles_jupyter_graphs_for_neo4j) (3.0.50)\n",
            "Requirement already satisfied: pygments in /usr/local/lib/python3.11/dist-packages (from ipython>=6.1.0->ipywidgets>=8.0.0->yfiles_jupyter_graphs>=1.9.0->yfiles_jupyter_graphs_for_neo4j) (2.18.0)\n",
            "Requirement already satisfied: backcall in /usr/local/lib/python3.11/dist-packages (from ipython>=6.1.0->ipywidgets>=8.0.0->yfiles_jupyter_graphs>=1.9.0->yfiles_jupyter_graphs_for_neo4j) (0.2.0)\n",
            "Requirement already satisfied: matplotlib-inline in /usr/local/lib/python3.11/dist-packages (from ipython>=6.1.0->ipywidgets>=8.0.0->yfiles_jupyter_graphs>=1.9.0->yfiles_jupyter_graphs_for_neo4j) (0.1.7)\n",
            "Requirement already satisfied: pexpect>4.3 in /usr/local/lib/python3.11/dist-packages (from ipython>=6.1.0->ipywidgets>=8.0.0->yfiles_jupyter_graphs>=1.9.0->yfiles_jupyter_graphs_for_neo4j) (4.9.0)\n",
            "Requirement already satisfied: parso<0.9.0,>=0.8.4 in /usr/local/lib/python3.11/dist-packages (from jedi>=0.16->ipython>=6.1.0->ipywidgets>=8.0.0->yfiles_jupyter_graphs>=1.9.0->yfiles_jupyter_graphs_for_neo4j) (0.8.4)\n",
            "Requirement already satisfied: ptyprocess>=0.5 in /usr/local/lib/python3.11/dist-packages (from pexpect>4.3->ipython>=6.1.0->ipywidgets>=8.0.0->yfiles_jupyter_graphs>=1.9.0->yfiles_jupyter_graphs_for_neo4j) (0.7.0)\n",
            "Requirement already satisfied: wcwidth in /usr/local/lib/python3.11/dist-packages (from prompt-toolkit!=3.0.0,!=3.0.1,<3.1.0,>=2.0.0->ipython>=6.1.0->ipywidgets>=8.0.0->yfiles_jupyter_graphs>=1.9.0->yfiles_jupyter_graphs_for_neo4j) (0.2.13)\n",
            "Downloading yfiles_jupyter_graphs_for_neo4j-1.6.0-py3-none-any.whl (13 kB)\n",
            "Installing collected packages: yfiles_jupyter_graphs_for_neo4j\n",
            "Successfully installed yfiles_jupyter_graphs_for_neo4j-1.6.0\n"
          ]
        }
      ]
    },
    {
      "cell_type": "code",
      "execution_count": 2,
      "metadata": {
        "colab": {
          "base_uri": "https://localhost:8080/"
        },
        "id": "JPRbqwrehZ5K",
        "outputId": "d8e99c45-4a63-4462-d35c-7794e0c70445"
      },
      "outputs": [
        {
          "output_type": "stream",
          "name": "stdout",
          "text": [
            "Collecting yfiles_jupyter_graphs\n",
            "  Downloading yfiles_jupyter_graphs-1.10.1-py3-none-any.whl.metadata (19 kB)\n",
            "Collecting ipywidgets>=8.0.0 (from yfiles_jupyter_graphs)\n",
            "  Downloading ipywidgets-8.1.5-py3-none-any.whl.metadata (2.3 kB)\n",
            "Collecting comm>=0.1.3 (from ipywidgets>=8.0.0->yfiles_jupyter_graphs)\n",
            "  Downloading comm-0.2.2-py3-none-any.whl.metadata (3.7 kB)\n",
            "Requirement already satisfied: ipython>=6.1.0 in /usr/local/lib/python3.11/dist-packages (from ipywidgets>=8.0.0->yfiles_jupyter_graphs) (7.34.0)\n",
            "Requirement already satisfied: traitlets>=4.3.1 in /usr/local/lib/python3.11/dist-packages (from ipywidgets>=8.0.0->yfiles_jupyter_graphs) (5.7.1)\n",
            "Collecting widgetsnbextension~=4.0.12 (from ipywidgets>=8.0.0->yfiles_jupyter_graphs)\n",
            "  Downloading widgetsnbextension-4.0.13-py3-none-any.whl.metadata (1.6 kB)\n",
            "Requirement already satisfied: jupyterlab-widgets~=3.0.12 in /usr/local/lib/python3.11/dist-packages (from ipywidgets>=8.0.0->yfiles_jupyter_graphs) (3.0.13)\n",
            "Requirement already satisfied: setuptools>=18.5 in /usr/local/lib/python3.11/dist-packages (from ipython>=6.1.0->ipywidgets>=8.0.0->yfiles_jupyter_graphs) (75.1.0)\n",
            "Collecting jedi>=0.16 (from ipython>=6.1.0->ipywidgets>=8.0.0->yfiles_jupyter_graphs)\n",
            "  Downloading jedi-0.19.2-py2.py3-none-any.whl.metadata (22 kB)\n",
            "Requirement already satisfied: decorator in /usr/local/lib/python3.11/dist-packages (from ipython>=6.1.0->ipywidgets>=8.0.0->yfiles_jupyter_graphs) (4.4.2)\n",
            "Requirement already satisfied: pickleshare in /usr/local/lib/python3.11/dist-packages (from ipython>=6.1.0->ipywidgets>=8.0.0->yfiles_jupyter_graphs) (0.7.5)\n",
            "Requirement already satisfied: prompt-toolkit!=3.0.0,!=3.0.1,<3.1.0,>=2.0.0 in /usr/local/lib/python3.11/dist-packages (from ipython>=6.1.0->ipywidgets>=8.0.0->yfiles_jupyter_graphs) (3.0.50)\n",
            "Requirement already satisfied: pygments in /usr/local/lib/python3.11/dist-packages (from ipython>=6.1.0->ipywidgets>=8.0.0->yfiles_jupyter_graphs) (2.18.0)\n",
            "Requirement already satisfied: backcall in /usr/local/lib/python3.11/dist-packages (from ipython>=6.1.0->ipywidgets>=8.0.0->yfiles_jupyter_graphs) (0.2.0)\n",
            "Requirement already satisfied: matplotlib-inline in /usr/local/lib/python3.11/dist-packages (from ipython>=6.1.0->ipywidgets>=8.0.0->yfiles_jupyter_graphs) (0.1.7)\n",
            "Requirement already satisfied: pexpect>4.3 in /usr/local/lib/python3.11/dist-packages (from ipython>=6.1.0->ipywidgets>=8.0.0->yfiles_jupyter_graphs) (4.9.0)\n",
            "Requirement already satisfied: parso<0.9.0,>=0.8.4 in /usr/local/lib/python3.11/dist-packages (from jedi>=0.16->ipython>=6.1.0->ipywidgets>=8.0.0->yfiles_jupyter_graphs) (0.8.4)\n",
            "Requirement already satisfied: ptyprocess>=0.5 in /usr/local/lib/python3.11/dist-packages (from pexpect>4.3->ipython>=6.1.0->ipywidgets>=8.0.0->yfiles_jupyter_graphs) (0.7.0)\n",
            "Requirement already satisfied: wcwidth in /usr/local/lib/python3.11/dist-packages (from prompt-toolkit!=3.0.0,!=3.0.1,<3.1.0,>=2.0.0->ipython>=6.1.0->ipywidgets>=8.0.0->yfiles_jupyter_graphs) (0.2.13)\n",
            "Downloading yfiles_jupyter_graphs-1.10.1-py3-none-any.whl (15.6 MB)\n",
            "\u001b[2K   \u001b[90m━━━━━━━━━━━━━━━━━━━━━━━━━━━━━━━━━━━━━━━━\u001b[0m \u001b[32m15.6/15.6 MB\u001b[0m \u001b[31m34.7 MB/s\u001b[0m eta \u001b[36m0:00:00\u001b[0m\n",
            "\u001b[?25hDownloading ipywidgets-8.1.5-py3-none-any.whl (139 kB)\n",
            "\u001b[2K   \u001b[90m━━━━━━━━━━━━━━━━━━━━━━━━━━━━━━━━━━━━━━━━\u001b[0m \u001b[32m139.8/139.8 kB\u001b[0m \u001b[31m9.5 MB/s\u001b[0m eta \u001b[36m0:00:00\u001b[0m\n",
            "\u001b[?25hDownloading comm-0.2.2-py3-none-any.whl (7.2 kB)\n",
            "Downloading widgetsnbextension-4.0.13-py3-none-any.whl (2.3 MB)\n",
            "\u001b[2K   \u001b[90m━━━━━━━━━━━━━━━━━━━━━━━━━━━━━━━━━━━━━━━━\u001b[0m \u001b[32m2.3/2.3 MB\u001b[0m \u001b[31m34.3 MB/s\u001b[0m eta \u001b[36m0:00:00\u001b[0m\n",
            "\u001b[?25hDownloading jedi-0.19.2-py2.py3-none-any.whl (1.6 MB)\n",
            "\u001b[2K   \u001b[90m━━━━━━━━━━━━━━━━━━━━━━━━━━━━━━━━━━━━━━━━\u001b[0m \u001b[32m1.6/1.6 MB\u001b[0m \u001b[31m27.3 MB/s\u001b[0m eta \u001b[36m0:00:00\u001b[0m\n",
            "\u001b[?25hInstalling collected packages: widgetsnbextension, jedi, comm, ipywidgets, yfiles_jupyter_graphs\n",
            "  Attempting uninstall: widgetsnbextension\n",
            "    Found existing installation: widgetsnbextension 3.6.10\n",
            "    Uninstalling widgetsnbextension-3.6.10:\n",
            "      Successfully uninstalled widgetsnbextension-3.6.10\n",
            "  Attempting uninstall: ipywidgets\n",
            "    Found existing installation: ipywidgets 7.7.1\n",
            "    Uninstalling ipywidgets-7.7.1:\n",
            "      Successfully uninstalled ipywidgets-7.7.1\n",
            "Successfully installed comm-0.2.2 ipywidgets-8.1.5 jedi-0.19.2 widgetsnbextension-4.0.13 yfiles_jupyter_graphs-1.10.1\n"
          ]
        }
      ],
      "source": [
        "pip install yfiles_jupyter_graphs"
      ]
    },
    {
      "cell_type": "code",
      "execution_count": 3,
      "metadata": {
        "colab": {
          "base_uri": "https://localhost:8080/"
        },
        "id": "pkJPW-uVho64",
        "outputId": "ae2af0e4-df89-4436-cb6d-80d6d5502b21"
      },
      "outputs": [
        {
          "output_type": "stream",
          "name": "stdout",
          "text": [
            "Collecting langchain-community\n",
            "  Downloading langchain_community-0.3.19-py3-none-any.whl.metadata (2.4 kB)\n",
            "Collecting langchain-core<1.0.0,>=0.3.41 (from langchain-community)\n",
            "  Downloading langchain_core-0.3.41-py3-none-any.whl.metadata (5.9 kB)\n",
            "Collecting langchain<1.0.0,>=0.3.20 (from langchain-community)\n",
            "  Downloading langchain-0.3.20-py3-none-any.whl.metadata (7.7 kB)\n",
            "Requirement already satisfied: SQLAlchemy<3,>=1.4 in /usr/local/lib/python3.11/dist-packages (from langchain-community) (2.0.38)\n",
            "Requirement already satisfied: requests<3,>=2 in /usr/local/lib/python3.11/dist-packages (from langchain-community) (2.32.3)\n",
            "Requirement already satisfied: PyYAML>=5.3 in /usr/local/lib/python3.11/dist-packages (from langchain-community) (6.0.2)\n",
            "Requirement already satisfied: aiohttp<4.0.0,>=3.8.3 in /usr/local/lib/python3.11/dist-packages (from langchain-community) (3.11.13)\n",
            "Requirement already satisfied: tenacity!=8.4.0,<10,>=8.1.0 in /usr/local/lib/python3.11/dist-packages (from langchain-community) (9.0.0)\n",
            "Collecting dataclasses-json<0.7,>=0.5.7 (from langchain-community)\n",
            "  Downloading dataclasses_json-0.6.7-py3-none-any.whl.metadata (25 kB)\n",
            "Collecting pydantic-settings<3.0.0,>=2.4.0 (from langchain-community)\n",
            "  Downloading pydantic_settings-2.8.1-py3-none-any.whl.metadata (3.5 kB)\n",
            "Requirement already satisfied: langsmith<0.4,>=0.1.125 in /usr/local/lib/python3.11/dist-packages (from langchain-community) (0.3.11)\n",
            "Collecting httpx-sse<1.0.0,>=0.4.0 (from langchain-community)\n",
            "  Downloading httpx_sse-0.4.0-py3-none-any.whl.metadata (9.0 kB)\n",
            "Requirement already satisfied: numpy<3,>=1.26.2 in /usr/local/lib/python3.11/dist-packages (from langchain-community) (1.26.4)\n",
            "Requirement already satisfied: aiohappyeyeballs>=2.3.0 in /usr/local/lib/python3.11/dist-packages (from aiohttp<4.0.0,>=3.8.3->langchain-community) (2.4.6)\n",
            "Requirement already satisfied: aiosignal>=1.1.2 in /usr/local/lib/python3.11/dist-packages (from aiohttp<4.0.0,>=3.8.3->langchain-community) (1.3.2)\n",
            "Requirement already satisfied: attrs>=17.3.0 in /usr/local/lib/python3.11/dist-packages (from aiohttp<4.0.0,>=3.8.3->langchain-community) (25.1.0)\n",
            "Requirement already satisfied: frozenlist>=1.1.1 in /usr/local/lib/python3.11/dist-packages (from aiohttp<4.0.0,>=3.8.3->langchain-community) (1.5.0)\n",
            "Requirement already satisfied: multidict<7.0,>=4.5 in /usr/local/lib/python3.11/dist-packages (from aiohttp<4.0.0,>=3.8.3->langchain-community) (6.1.0)\n",
            "Requirement already satisfied: propcache>=0.2.0 in /usr/local/lib/python3.11/dist-packages (from aiohttp<4.0.0,>=3.8.3->langchain-community) (0.3.0)\n",
            "Requirement already satisfied: yarl<2.0,>=1.17.0 in /usr/local/lib/python3.11/dist-packages (from aiohttp<4.0.0,>=3.8.3->langchain-community) (1.18.3)\n",
            "Collecting marshmallow<4.0.0,>=3.18.0 (from dataclasses-json<0.7,>=0.5.7->langchain-community)\n",
            "  Downloading marshmallow-3.26.1-py3-none-any.whl.metadata (7.3 kB)\n",
            "Collecting typing-inspect<1,>=0.4.0 (from dataclasses-json<0.7,>=0.5.7->langchain-community)\n",
            "  Downloading typing_inspect-0.9.0-py3-none-any.whl.metadata (1.5 kB)\n",
            "Requirement already satisfied: langchain-text-splitters<1.0.0,>=0.3.6 in /usr/local/lib/python3.11/dist-packages (from langchain<1.0.0,>=0.3.20->langchain-community) (0.3.6)\n",
            "Requirement already satisfied: pydantic<3.0.0,>=2.7.4 in /usr/local/lib/python3.11/dist-packages (from langchain<1.0.0,>=0.3.20->langchain-community) (2.10.6)\n",
            "Requirement already satisfied: jsonpatch<2.0,>=1.33 in /usr/local/lib/python3.11/dist-packages (from langchain-core<1.0.0,>=0.3.41->langchain-community) (1.33)\n",
            "Requirement already satisfied: packaging<25,>=23.2 in /usr/local/lib/python3.11/dist-packages (from langchain-core<1.0.0,>=0.3.41->langchain-community) (24.2)\n",
            "Requirement already satisfied: typing-extensions>=4.7 in /usr/local/lib/python3.11/dist-packages (from langchain-core<1.0.0,>=0.3.41->langchain-community) (4.12.2)\n",
            "Requirement already satisfied: httpx<1,>=0.23.0 in /usr/local/lib/python3.11/dist-packages (from langsmith<0.4,>=0.1.125->langchain-community) (0.28.1)\n",
            "Requirement already satisfied: orjson<4.0.0,>=3.9.14 in /usr/local/lib/python3.11/dist-packages (from langsmith<0.4,>=0.1.125->langchain-community) (3.10.15)\n",
            "Requirement already satisfied: requests-toolbelt<2.0.0,>=1.0.0 in /usr/local/lib/python3.11/dist-packages (from langsmith<0.4,>=0.1.125->langchain-community) (1.0.0)\n",
            "Requirement already satisfied: zstandard<0.24.0,>=0.23.0 in /usr/local/lib/python3.11/dist-packages (from langsmith<0.4,>=0.1.125->langchain-community) (0.23.0)\n",
            "Collecting python-dotenv>=0.21.0 (from pydantic-settings<3.0.0,>=2.4.0->langchain-community)\n",
            "  Downloading python_dotenv-1.0.1-py3-none-any.whl.metadata (23 kB)\n",
            "Requirement already satisfied: charset-normalizer<4,>=2 in /usr/local/lib/python3.11/dist-packages (from requests<3,>=2->langchain-community) (3.4.1)\n",
            "Requirement already satisfied: idna<4,>=2.5 in /usr/local/lib/python3.11/dist-packages (from requests<3,>=2->langchain-community) (3.10)\n",
            "Requirement already satisfied: urllib3<3,>=1.21.1 in /usr/local/lib/python3.11/dist-packages (from requests<3,>=2->langchain-community) (2.3.0)\n",
            "Requirement already satisfied: certifi>=2017.4.17 in /usr/local/lib/python3.11/dist-packages (from requests<3,>=2->langchain-community) (2025.1.31)\n",
            "Requirement already satisfied: greenlet!=0.4.17 in /usr/local/lib/python3.11/dist-packages (from SQLAlchemy<3,>=1.4->langchain-community) (3.1.1)\n",
            "Requirement already satisfied: anyio in /usr/local/lib/python3.11/dist-packages (from httpx<1,>=0.23.0->langsmith<0.4,>=0.1.125->langchain-community) (3.7.1)\n",
            "Requirement already satisfied: httpcore==1.* in /usr/local/lib/python3.11/dist-packages (from httpx<1,>=0.23.0->langsmith<0.4,>=0.1.125->langchain-community) (1.0.7)\n",
            "Requirement already satisfied: h11<0.15,>=0.13 in /usr/local/lib/python3.11/dist-packages (from httpcore==1.*->httpx<1,>=0.23.0->langsmith<0.4,>=0.1.125->langchain-community) (0.14.0)\n",
            "Requirement already satisfied: jsonpointer>=1.9 in /usr/local/lib/python3.11/dist-packages (from jsonpatch<2.0,>=1.33->langchain-core<1.0.0,>=0.3.41->langchain-community) (3.0.0)\n",
            "Requirement already satisfied: annotated-types>=0.6.0 in /usr/local/lib/python3.11/dist-packages (from pydantic<3.0.0,>=2.7.4->langchain<1.0.0,>=0.3.20->langchain-community) (0.7.0)\n",
            "Requirement already satisfied: pydantic-core==2.27.2 in /usr/local/lib/python3.11/dist-packages (from pydantic<3.0.0,>=2.7.4->langchain<1.0.0,>=0.3.20->langchain-community) (2.27.2)\n",
            "Collecting mypy-extensions>=0.3.0 (from typing-inspect<1,>=0.4.0->dataclasses-json<0.7,>=0.5.7->langchain-community)\n",
            "  Downloading mypy_extensions-1.0.0-py3-none-any.whl.metadata (1.1 kB)\n",
            "Requirement already satisfied: sniffio>=1.1 in /usr/local/lib/python3.11/dist-packages (from anyio->httpx<1,>=0.23.0->langsmith<0.4,>=0.1.125->langchain-community) (1.3.1)\n",
            "Downloading langchain_community-0.3.19-py3-none-any.whl (2.5 MB)\n",
            "\u001b[2K   \u001b[90m━━━━━━━━━━━━━━━━━━━━━━━━━━━━━━━━━━━━━━━━\u001b[0m \u001b[32m2.5/2.5 MB\u001b[0m \u001b[31m17.5 MB/s\u001b[0m eta \u001b[36m0:00:00\u001b[0m\n",
            "\u001b[?25hDownloading dataclasses_json-0.6.7-py3-none-any.whl (28 kB)\n",
            "Downloading httpx_sse-0.4.0-py3-none-any.whl (7.8 kB)\n",
            "Downloading langchain-0.3.20-py3-none-any.whl (1.0 MB)\n",
            "\u001b[2K   \u001b[90m━━━━━━━━━━━━━━━━━━━━━━━━━━━━━━━━━━━━━━━━\u001b[0m \u001b[32m1.0/1.0 MB\u001b[0m \u001b[31m26.9 MB/s\u001b[0m eta \u001b[36m0:00:00\u001b[0m\n",
            "\u001b[?25hDownloading langchain_core-0.3.41-py3-none-any.whl (415 kB)\n",
            "\u001b[2K   \u001b[90m━━━━━━━━━━━━━━━━━━━━━━━━━━━━━━━━━━━━━━━━\u001b[0m \u001b[32m415.1/415.1 kB\u001b[0m \u001b[31m10.8 MB/s\u001b[0m eta \u001b[36m0:00:00\u001b[0m\n",
            "\u001b[?25hDownloading pydantic_settings-2.8.1-py3-none-any.whl (30 kB)\n",
            "Downloading marshmallow-3.26.1-py3-none-any.whl (50 kB)\n",
            "\u001b[2K   \u001b[90m━━━━━━━━━━━━━━━━━━━━━━━━━━━━━━━━━━━━━━━━\u001b[0m \u001b[32m50.9/50.9 kB\u001b[0m \u001b[31m3.5 MB/s\u001b[0m eta \u001b[36m0:00:00\u001b[0m\n",
            "\u001b[?25hDownloading python_dotenv-1.0.1-py3-none-any.whl (19 kB)\n",
            "Downloading typing_inspect-0.9.0-py3-none-any.whl (8.8 kB)\n",
            "Downloading mypy_extensions-1.0.0-py3-none-any.whl (4.7 kB)\n",
            "Installing collected packages: python-dotenv, mypy-extensions, marshmallow, httpx-sse, typing-inspect, pydantic-settings, dataclasses-json, langchain-core, langchain, langchain-community\n",
            "  Attempting uninstall: langchain-core\n",
            "    Found existing installation: langchain-core 0.3.40\n",
            "    Uninstalling langchain-core-0.3.40:\n",
            "      Successfully uninstalled langchain-core-0.3.40\n",
            "  Attempting uninstall: langchain\n",
            "    Found existing installation: langchain 0.3.19\n",
            "    Uninstalling langchain-0.3.19:\n",
            "      Successfully uninstalled langchain-0.3.19\n",
            "Successfully installed dataclasses-json-0.6.7 httpx-sse-0.4.0 langchain-0.3.20 langchain-community-0.3.19 langchain-core-0.3.41 marshmallow-3.26.1 mypy-extensions-1.0.0 pydantic-settings-2.8.1 python-dotenv-1.0.1 typing-inspect-0.9.0\n"
          ]
        }
      ],
      "source": [
        "pip install -U langchain-community"
      ]
    },
    {
      "cell_type": "code",
      "execution_count": 5,
      "metadata": {
        "colab": {
          "base_uri": "https://localhost:8080/"
        },
        "id": "AJGek_PRh0OO",
        "outputId": "9b9645b6-3461-4ccd-9a53-5397fe55171d"
      },
      "outputs": [
        {
          "output_type": "stream",
          "name": "stdout",
          "text": [
            "Collecting pyvis\n",
            "  Downloading pyvis-0.3.2-py3-none-any.whl.metadata (1.7 kB)\n",
            "Requirement already satisfied: ipython>=5.3.0 in /usr/local/lib/python3.11/dist-packages (from pyvis) (7.34.0)\n",
            "Requirement already satisfied: jinja2>=2.9.6 in /usr/local/lib/python3.11/dist-packages (from pyvis) (3.1.5)\n",
            "Requirement already satisfied: jsonpickle>=1.4.1 in /usr/local/lib/python3.11/dist-packages (from pyvis) (4.0.2)\n",
            "Requirement already satisfied: networkx>=1.11 in /usr/local/lib/python3.11/dist-packages (from pyvis) (3.4.2)\n",
            "Requirement already satisfied: setuptools>=18.5 in /usr/local/lib/python3.11/dist-packages (from ipython>=5.3.0->pyvis) (75.1.0)\n",
            "Requirement already satisfied: jedi>=0.16 in /usr/local/lib/python3.11/dist-packages (from ipython>=5.3.0->pyvis) (0.19.2)\n",
            "Requirement already satisfied: decorator in /usr/local/lib/python3.11/dist-packages (from ipython>=5.3.0->pyvis) (4.4.2)\n",
            "Requirement already satisfied: pickleshare in /usr/local/lib/python3.11/dist-packages (from ipython>=5.3.0->pyvis) (0.7.5)\n",
            "Requirement already satisfied: traitlets>=4.2 in /usr/local/lib/python3.11/dist-packages (from ipython>=5.3.0->pyvis) (5.7.1)\n",
            "Requirement already satisfied: prompt-toolkit!=3.0.0,!=3.0.1,<3.1.0,>=2.0.0 in /usr/local/lib/python3.11/dist-packages (from ipython>=5.3.0->pyvis) (3.0.50)\n",
            "Requirement already satisfied: pygments in /usr/local/lib/python3.11/dist-packages (from ipython>=5.3.0->pyvis) (2.18.0)\n",
            "Requirement already satisfied: backcall in /usr/local/lib/python3.11/dist-packages (from ipython>=5.3.0->pyvis) (0.2.0)\n",
            "Requirement already satisfied: matplotlib-inline in /usr/local/lib/python3.11/dist-packages (from ipython>=5.3.0->pyvis) (0.1.7)\n",
            "Requirement already satisfied: pexpect>4.3 in /usr/local/lib/python3.11/dist-packages (from ipython>=5.3.0->pyvis) (4.9.0)\n",
            "Requirement already satisfied: MarkupSafe>=2.0 in /usr/local/lib/python3.11/dist-packages (from jinja2>=2.9.6->pyvis) (3.0.2)\n",
            "Requirement already satisfied: parso<0.9.0,>=0.8.4 in /usr/local/lib/python3.11/dist-packages (from jedi>=0.16->ipython>=5.3.0->pyvis) (0.8.4)\n",
            "Requirement already satisfied: ptyprocess>=0.5 in /usr/local/lib/python3.11/dist-packages (from pexpect>4.3->ipython>=5.3.0->pyvis) (0.7.0)\n",
            "Requirement already satisfied: wcwidth in /usr/local/lib/python3.11/dist-packages (from prompt-toolkit!=3.0.0,!=3.0.1,<3.1.0,>=2.0.0->ipython>=5.3.0->pyvis) (0.2.13)\n",
            "Downloading pyvis-0.3.2-py3-none-any.whl (756 kB)\n",
            "\u001b[2K   \u001b[90m━━━━━━━━━━━━━━━━━━━━━━━━━━━━━━━━━━━━━━━━\u001b[0m \u001b[32m756.0/756.0 kB\u001b[0m \u001b[31m5.5 MB/s\u001b[0m eta \u001b[36m0:00:00\u001b[0m\n",
            "\u001b[?25hInstalling collected packages: pyvis\n",
            "Successfully installed pyvis-0.3.2\n"
          ]
        }
      ],
      "source": [
        "pip install pyvis"
      ]
    },
    {
      "cell_type": "code",
      "execution_count": 15,
      "metadata": {
        "id": "xsnOvYrbvOIe",
        "colab": {
          "base_uri": "https://localhost:8080/",
          "height": 480
        },
        "outputId": "ff0c77dc-aca5-41c9-c9d5-de7268d109a6"
      },
      "outputs": [
        {
          "output_type": "error",
          "ename": "ImportError",
          "evalue": "cannot import name 'visualize' from 'yfiles_jupyter_graphs_for_neo4j' (/usr/local/lib/python3.11/dist-packages/yfiles_jupyter_graphs_for_neo4j/__init__.py)",
          "traceback": [
            "\u001b[0;31m---------------------------------------------------------------------------\u001b[0m",
            "\u001b[0;31mImportError\u001b[0m                               Traceback (most recent call last)",
            "\u001b[0;32m<ipython-input-15-aebbc85eb3cc>\u001b[0m in \u001b[0;36m<cell line: 0>\u001b[0;34m()\u001b[0m\n\u001b[1;32m      7\u001b[0m \u001b[0;32mimport\u001b[0m \u001b[0mmatplotlib\u001b[0m\u001b[0;34m.\u001b[0m\u001b[0mpyplot\u001b[0m \u001b[0;32mas\u001b[0m \u001b[0mplt\u001b[0m\u001b[0;34m\u001b[0m\u001b[0;34m\u001b[0m\u001b[0m\n\u001b[1;32m      8\u001b[0m \u001b[0mget_ipython\u001b[0m\u001b[0;34m(\u001b[0m\u001b[0;34m)\u001b[0m\u001b[0;34m.\u001b[0m\u001b[0mrun_line_magic\u001b[0m\u001b[0;34m(\u001b[0m\u001b[0;34m'matplotlib'\u001b[0m\u001b[0;34m,\u001b[0m \u001b[0;34m'inline'\u001b[0m\u001b[0;34m)\u001b[0m\u001b[0;34m\u001b[0m\u001b[0;34m\u001b[0m\u001b[0m\n\u001b[0;32m----> 9\u001b[0;31m \u001b[0;32mfrom\u001b[0m \u001b[0myfiles_jupyter_graphs_for_neo4j\u001b[0m \u001b[0;32mimport\u001b[0m \u001b[0mvisualize\u001b[0m\u001b[0;34m\u001b[0m\u001b[0;34m\u001b[0m\u001b[0m\n\u001b[0m\u001b[1;32m     10\u001b[0m \u001b[0;32mfrom\u001b[0m \u001b[0mpyspark\u001b[0m\u001b[0;34m.\u001b[0m\u001b[0msql\u001b[0m \u001b[0;32mimport\u001b[0m \u001b[0mSparkSession\u001b[0m\u001b[0;34m\u001b[0m\u001b[0;34m\u001b[0m\u001b[0m\n\u001b[1;32m     11\u001b[0m \u001b[0;32mfrom\u001b[0m \u001b[0mpyspark\u001b[0m\u001b[0;34m.\u001b[0m\u001b[0mml\u001b[0m\u001b[0;34m.\u001b[0m\u001b[0mclustering\u001b[0m \u001b[0;32mimport\u001b[0m \u001b[0mKMeans\u001b[0m\u001b[0;34m\u001b[0m\u001b[0;34m\u001b[0m\u001b[0m\n",
            "\u001b[0;31mImportError\u001b[0m: cannot import name 'visualize' from 'yfiles_jupyter_graphs_for_neo4j' (/usr/local/lib/python3.11/dist-packages/yfiles_jupyter_graphs_for_neo4j/__init__.py)",
            "",
            "\u001b[0;31m---------------------------------------------------------------------------\u001b[0;32m\nNOTE: If your import is failing due to a missing package, you can\nmanually install dependencies using either !pip or !apt.\n\nTo view examples of installing some common dependencies, click the\n\"Open Examples\" button below.\n\u001b[0;31m---------------------------------------------------------------------------\u001b[0m\n"
          ],
          "errorDetails": {
            "actions": [
              {
                "action": "open_url",
                "actionText": "Open Examples",
                "url": "/notebooks/snippets/importing_libraries.ipynb"
              }
            ]
          }
        }
      ],
      "source": [
        "from google.colab import drive\n",
        "import os\n",
        "import pandas as pd\n",
        "import numpy as np\n",
        "from yfiles_jupyter_graphs import GraphWidget\n",
        "from neo4j import GraphDatabase\n",
        "import matplotlib.pyplot as plt\n",
        "%matplotlib inline\n",
        "from yfiles_jupyter_graphs_for_neo4j import visualize\n",
        "from pyspark.sql import SparkSession\n",
        "from pyspark.ml.clustering import KMeans\n",
        "from sklearn.cluster import KMeans as SKMeans\n",
        "from scipy import stats\n",
        "from langchain.chains import GraphQAChain\n",
        "from langchain.llms import OpenAI\n",
        "import networkx as nx\n",
        "from pyvis.network import Network\n"
      ]
    },
    {
      "cell_type": "code",
      "execution_count": 7,
      "metadata": {
        "colab": {
          "base_uri": "https://localhost:8080/"
        },
        "id": "Ncu3IvFII1OO",
        "outputId": "28f382bc-0bd9-43b0-efdb-cff066b2c206"
      },
      "outputs": [
        {
          "output_type": "stream",
          "name": "stdout",
          "text": [
            "Mounted at /content/drive\n"
          ]
        }
      ],
      "source": [
        "drive.mount('/content/drive')"
      ]
    },
    {
      "cell_type": "code",
      "execution_count": 8,
      "metadata": {
        "id": "KmfEpS6yQk02"
      },
      "outputs": [],
      "source": [
        "url = \"neo4j+s://1c01afdf.databases.neo4j.io\"\n",
        "user = 'neo4j'\n",
        "password = \"Nr3rnqS47qcl0A_ls4ZZsMsZi2AGLTTMRZq6FThvVaw\"\n",
        "driver = GraphDatabase.driver(url, auth=(user,password))"
      ]
    },
    {
      "cell_type": "code",
      "execution_count": null,
      "metadata": {
        "id": "S5yHOTxV9XrD"
      },
      "outputs": [],
      "source": [
        "# COLUMN_MAP = {\n",
        "#     \"sub\": [\"adsh\", \"cik\", \"name\", \"filed\", \"period\", \"form\"],\n",
        "#     \"num\": [\"adsh\", \"tag\", \"version\", \"ddate\", \"value\",\n",
        "\n",
        "#            ],\n",
        "#     \"tag\": [\"tag\", \"version\", \"tlabel\",\n",
        "#             # If your CSV has these, uncomment:\n",
        "#             # \"datatype\", \"iord\", \"crdr\"\n",
        "#            ],\n",
        "#     \"pre\": [\"adsh\", \"tag\", \"version\", \"plabel\",\n",
        "#             # If your CSV has these, uncomment:\n",
        "#             # \"stmt\", \"report\", \"line\", \"inpth\", \"negating\"\n",
        "#            ]\n",
        "# }\n",
        "\n",
        "# # Set batch size for processing rows in Neo4j\n",
        "# BATCH_SIZE = 1000\n",
        "\n",
        "# # Set maximum limits for nodes and edges to be ingested (each dataset is limited to 50,000 rows)\n",
        "# LIMIT = 50000\n",
        "\n",
        "# # Define a list of tags of interest (update these based on your analysis)\n",
        "# tags_of_interest = [\n",
        "#     \"us-gaap:Revenues\",\n",
        "#     \"us-gaap:NetIncomeLoss\",\n",
        "#     \"us-gaap:Assets\",\n",
        "#     \"us-gaap:Liabilities\",\n",
        "#     \"us-gaap:LongTermDebt\"  # Example for debt; adjust if needed\n",
        "# ]\n",
        "\n",
        "# def run_batches(session, query, df):\n",
        "#     \"\"\"\n",
        "#     Splits the DataFrame `df` into batches of size BATCH_SIZE and\n",
        "#     executes the given Cypher `query` for each batch.\n",
        "#     \"\"\"\n",
        "#     records = df.to_dict(\"records\")\n",
        "#     for i in range(0, len(records), BATCH_SIZE):\n",
        "#         batch = records[i:i+BATCH_SIZE]\n",
        "#         session.run(query, {\"batch\": batch})\n",
        "\n",
        "# def load_quarter(quarter):\n",
        "#     \"\"\"\n",
        "#     Loads the data for a given quarter (q1, q2, q3, q4),\n",
        "#     cleans it, filters it, and ingests it into Neo4j.\n",
        "#     \"\"\"\n",
        "#     print(f\"\\n{'='*50}\")\n",
        "#     print(f\"Processing 2018 {quarter.upper()}\")\n",
        "#     print(f\"{'='*50}\")\n",
        "\n",
        "\n",
        "#     base_path = f\"/content/drive/MyDrive/2018{quarter}/\"\n",
        "\n",
        "#     try:\n",
        "#         # Read the datasets with the specified columns\n",
        "#         sub = pd.read_csv(f\"{base_path}sub.txt\", delimiter='\\t', usecols=COLUMN_MAP[\"sub\"])\n",
        "#         num = pd.read_csv(f\"{base_path}num.txt\", delimiter='\\t', usecols=COLUMN_MAP[\"num\"])\n",
        "#         tag = pd.read_csv(f\"{base_path}tag.txt\", delimiter='\\t', usecols=COLUMN_MAP[\"tag\"])\n",
        "#         pre = pd.read_csv(f\"{base_path}pre.txt\", delimiter='\\t', usecols=COLUMN_MAP[\"pre\"])\n",
        "\n",
        "#         sub = sub.dropna(subset=[\"adsh\", \"cik\"]).fillna({\n",
        "#             'fp': 'N/A',\n",
        "#             'afs': 'N/A',\n",
        "#             'wksi': 0,\n",
        "#             'prevrpt': 0,\n",
        "#             'detail': 0,\n",
        "#             'sic': 0\n",
        "#         })\n",
        "#         num = num.dropna(subset=[\"adsh\", \"tag\", \"version\", \"value\"])\n",
        "#         tag = tag.dropna(subset=[\"tag\", \"version\"]).fillna({'crdr': 'U'})\n",
        "#         pre = pre.dropna(subset=[\"adsh\", \"tag\", \"version\"])\n",
        "\n",
        "#         # Replace any remaining NaNs with None\n",
        "#         sub = sub.replace({np.nan: None})\n",
        "#         num = num.replace({np.nan: None})\n",
        "#         tag = tag.replace({np.nan: None})\n",
        "#         pre = pre.replace({np.nan: None})\n",
        "\n",
        "\n",
        "\n",
        "#         # Limit the number of rows ingested from each dataset\n",
        "#         sub = sub.head(LIMIT)\n",
        "#         num = num.head(LIMIT)\n",
        "#         tag = tag.head(LIMIT)\n",
        "#         pre = pre.head(LIMIT)\n",
        "\n",
        "#         # Open a session to Neo4j and create constraints\n",
        "#         with driver.session() as session:\n",
        "#             session.run(\"CREATE CONSTRAINT IF NOT EXISTS FOR (s:Submission) REQUIRE s.adsh IS UNIQUE\")\n",
        "#             session.run(\"CREATE CONSTRAINT IF NOT EXISTS FOR (t:Tag) REQUIRE (t.tag, t.version) IS UNIQUE\")\n",
        "\n",
        "#             # Insert Submission nodes\n",
        "#             submission_query = \"\"\"\n",
        "#                 UNWIND $batch AS row\n",
        "#                 MERGE (s:Submission {adsh: row.adsh})\n",
        "#                 ON CREATE SET\n",
        "#                     s.cik = row.cik,\n",
        "#                     s.name = row.name,\n",
        "#                     s.filed = row.filed,\n",
        "#                     s.period = row.period,\n",
        "#                     s.fp = coalesce(row.fp, 'N/A'),\n",
        "#                     s.form = row.form,\n",
        "#                     s.sic = coalesce(row.sic, 0),\n",
        "#                     s.afs = coalesce(row.afs, 'N/A'),\n",
        "#                     s.wksi = coalesce(row.wksi, 0),\n",
        "#                     s.prevrpt = coalesce(row.prevrpt, 0),\n",
        "#                     s.detail = coalesce(row.detail, 0)\n",
        "#             \"\"\"\n",
        "#             run_batches(session, submission_query, sub)\n",
        "\n",
        "#             # Insert Tag nodes\n",
        "#             tag_query = \"\"\"\n",
        "#                 UNWIND $batch AS row\n",
        "#                 MERGE (t:Tag {tag: row.tag, version: row.version})\n",
        "#                 ON CREATE SET\n",
        "#                     t.tlabel = row.tlabel,\n",
        "#                     t.datatype = coalesce(row.datatype, 'N/A'),\n",
        "#                     t.iord = coalesce(row.iord, 'N/A'),\n",
        "#                     t.crdr = coalesce(row.crdr, 'U')\n",
        "#             \"\"\"\n",
        "#             run_batches(session, tag_query, tag)\n",
        "\n",
        "\n",
        "#             num_query = \"\"\"\n",
        "#                 UNWIND $batch AS row\n",
        "#                 MATCH (s:Submission {adsh: row.adsh})\n",
        "#                 MATCH (t:Tag {tag: row.tag, version: row.version})\n",
        "#                 MERGE (f:NumericFact {\n",
        "#                     adsh: row.adsh,\n",
        "#                     tag: row.tag,\n",
        "#                     version: row.version,\n",
        "#                     ddate: row.ddate\n",
        "#                 })\n",
        "#                 ON CREATE SET\n",
        "#                     f.value = toFloat(row.value),\n",
        "#                     f.uom = coalesce(row.uom, 'N/A'),\n",
        "#                     f.qtrs = coalesce(row.qtrs, 0),\n",
        "#                     f.segments = coalesce(row.segments, 'N/A'),\n",
        "#                     f.coreg = coalesce(row.coreg, 'N/A')\n",
        "#                 MERGE (s)-[:HAS_FACT]->(f)\n",
        "#                 MERGE (f)-[:USES_TAG]->(t)\n",
        "#             \"\"\"\n",
        "#             run_batches(session, num_query, num)\n",
        "\n",
        "\n",
        "#             pre_query = \"\"\"\n",
        "#                 UNWIND $batch AS row\n",
        "#                 MATCH (s:Submission {adsh: row.adsh})\n",
        "#                 MATCH (t:Tag {tag: row.tag, version: row.version})\n",
        "#                 MERGE (p:Presentation {\n",
        "#                     adsh: row.adsh,\n",
        "#                     report: coalesce(row.report, 0),\n",
        "#                     line: coalesce(row.line, 0)\n",
        "#                 })\n",
        "#                 ON CREATE SET\n",
        "#                     p.stmt = coalesce(row.stmt, 'N/A'),\n",
        "#                     p.plabel = row.plabel,\n",
        "#                     p.inpth = coalesce(row.inpth, 'N/A'),\n",
        "#                     p.negating = coalesce(row.negating, 'N/A')\n",
        "#                 MERGE (s)-[:HAS_PRESENTATION]->(p)\n",
        "#                 MERGE (p)-[:LINKS_TO_TAG]->(t)\n",
        "#                 WITH p, row\n",
        "#                 MATCH (f:NumericFact {adsh: row.adsh, tag: row.tag, version: row.version})\n",
        "#                 MERGE (p)-[:REFERENCES_FACT]->(f)\n",
        "#             \"\"\"\n",
        "#             run_batches(session, pre_query, pre)\n",
        "\n",
        "#         print(f\" 2018 {quarter.upper()} loaded successfully!\")\n",
        "\n",
        "#     except Exception as e:\n",
        "#         print(f\"  Error processing {quarter.upper()}: {str(e)}\")\n",
        "\n",
        "# for quarter in [\"q1\", \"q2\", \"q3\", \"q4\"]:\n",
        "#     load_quarter(quarter)\n",
        "\n",
        "# print(\"\\n All data loaded! Validate with a Cypher query, e.g.:\")\n",
        "# print(\"MATCH (s:Submission) RETURN s.adsh, s.form, s.name LIMIT 10\")\n"
      ]
    },
    {
      "cell_type": "code",
      "source": [
        "\n",
        "# Define a sample query to get a small subgraph.\n",
        "query = \"\"\"\n",
        "MATCH (s:Submission)-[:HAS_FACT]->(f:NumericFact)-[:USES_TAG]->(t:Tag)\n",
        "RETURN s.adsh AS submission, f.value AS fact_value, t.tag AS tag, t.tlabel AS tag_label\n",
        "LIMIT 50\n",
        "\"\"\"\n",
        "\n",
        "nodes = {}   # Dictionary: key is node id, value is attributes dictionary\n",
        "edges = []   # List of edges as tuples\n",
        "\n",
        "with driver.session() as session:\n",
        "    result = session.run(query)\n",
        "    for record in result:\n",
        "        submission = record[\"submission\"]\n",
        "        tag = record[\"tag\"]\n",
        "\n",
        "        # Use unique keys for nodes to avoid collisions.\n",
        "        submission_id = \"Submission:\" + submission\n",
        "        tag_id = \"Tag:\" + tag\n",
        "\n",
        "        # Add nodes to the dictionary\n",
        "        nodes[submission_id] = {\"label\": submission, \"group\": \"Submission\"}\n",
        "        nodes[tag_id] = {\"label\": tag, \"group\": \"Tag\"}\n",
        "\n",
        "        # Create an edge between submission and tag\n",
        "        edges.append((submission_id, tag_id))\n",
        "\n",
        "# Print debugging information\n",
        "print(\"Number of nodes:\", len(nodes))\n",
        "print(\"Number of edges:\", len(edges))\n",
        "\n",
        "# Create a NetworkX graph and add nodes and edges.\n",
        "G = nx.Graph()\n",
        "for node_id, attrs in nodes.items():\n",
        "    G.add_node(node_id, **attrs)\n",
        "G.add_edges_from(edges)\n",
        "\n",
        "# Visualize the graph using PyVis with remote CDN resources\n",
        "net = Network(notebook=True, cdn_resources='remote', height=\"600px\", width=\"100%\", bgcolor=\"#222222\", font_color=\"white\")\n",
        "net.from_nx(G)\n",
        "net.show(\"neo4j_subgraph.html\")\n",
        "\n",
        "# Check if the file was created and list files in the current directory\n",
        "print(\"Files in current directory:\", os.listdir('.'))\n",
        "\n",
        "# Option 1: Display using IFrame (adjust width/height if needed)\n",
        "display(IFrame(src=\"neo4j_subgraph.html\", width=900, height=600))\n",
        "\n",
        "# Option 2: Directly embed HTML content\n",
        "html_content = open(\"neo4j_subgraph.html\", \"r\").read()\n",
        "display(HTML(html_content))"
      ],
      "metadata": {
        "colab": {
          "base_uri": "https://localhost:8080/",
          "height": 329
        },
        "id": "FKSXHDuS-FQP",
        "outputId": "8e449b3b-0b41-4637-f7d9-8ab78471cf56"
      },
      "execution_count": 11,
      "outputs": [
        {
          "output_type": "stream",
          "name": "stdout",
          "text": [
            "Number of nodes: 50\n",
            "Number of edges: 50\n",
            "neo4j_subgraph.html\n",
            "Files in current directory: ['.config', 'neo4j_subgraph.html', 'drive', 'sample_data']\n"
          ]
        },
        {
          "output_type": "error",
          "ename": "NameError",
          "evalue": "name 'IFrame' is not defined",
          "traceback": [
            "\u001b[0;31m---------------------------------------------------------------------------\u001b[0m",
            "\u001b[0;31mNameError\u001b[0m                                 Traceback (most recent call last)",
            "\u001b[0;32m<ipython-input-11-940aff4dcd2e>\u001b[0m in \u001b[0;36m<cell line: 0>\u001b[0;34m()\u001b[0m\n\u001b[1;32m     45\u001b[0m \u001b[0;34m\u001b[0m\u001b[0m\n\u001b[1;32m     46\u001b[0m \u001b[0;31m# Option 1: Display using IFrame (adjust width/height if needed)\u001b[0m\u001b[0;34m\u001b[0m\u001b[0;34m\u001b[0m\u001b[0m\n\u001b[0;32m---> 47\u001b[0;31m \u001b[0mdisplay\u001b[0m\u001b[0;34m(\u001b[0m\u001b[0mIFrame\u001b[0m\u001b[0;34m(\u001b[0m\u001b[0msrc\u001b[0m\u001b[0;34m=\u001b[0m\u001b[0;34m\"neo4j_subgraph.html\"\u001b[0m\u001b[0;34m,\u001b[0m \u001b[0mwidth\u001b[0m\u001b[0;34m=\u001b[0m\u001b[0;36m900\u001b[0m\u001b[0;34m,\u001b[0m \u001b[0mheight\u001b[0m\u001b[0;34m=\u001b[0m\u001b[0;36m600\u001b[0m\u001b[0;34m)\u001b[0m\u001b[0;34m)\u001b[0m\u001b[0;34m\u001b[0m\u001b[0;34m\u001b[0m\u001b[0m\n\u001b[0m\u001b[1;32m     48\u001b[0m \u001b[0;34m\u001b[0m\u001b[0m\n\u001b[1;32m     49\u001b[0m \u001b[0;31m# Option 2: Directly embed HTML content\u001b[0m\u001b[0;34m\u001b[0m\u001b[0;34m\u001b[0m\u001b[0m\n",
            "\u001b[0;31mNameError\u001b[0m: name 'IFrame' is not defined"
          ]
        }
      ]
    },
    {
      "cell_type": "code",
      "source": [
        "query = \"\"\"\n",
        "MATCH (s:Submission)-[:HAS_FACT]->(f:NumericFact)-[:USES_TAG]->(t:Tag)\n",
        "RETURN s, f, t\n",
        "LIMIT 50\n",
        "\"\"\"\n",
        "\n",
        "# Use the visualize function from the yfiles_jupyter_graphs_for_neo4j package.\n",
        "# It takes your Neo4j driver and a query, and then displays an interactive graph.\n",
        "visualize(driver, query=query)"
      ],
      "metadata": {
        "colab": {
          "base_uri": "https://localhost:8080/",
          "height": 241
        },
        "id": "WdGiOZWgHShz",
        "outputId": "2fdf1258-a5c0-4ed7-ba25-83d0797a873e"
      },
      "execution_count": 12,
      "outputs": [
        {
          "output_type": "error",
          "ename": "NameError",
          "evalue": "name 'visualize' is not defined",
          "traceback": [
            "\u001b[0;31m---------------------------------------------------------------------------\u001b[0m",
            "\u001b[0;31mNameError\u001b[0m                                 Traceback (most recent call last)",
            "\u001b[0;32m<ipython-input-12-a1ce1473dc46>\u001b[0m in \u001b[0;36m<cell line: 0>\u001b[0;34m()\u001b[0m\n\u001b[1;32m      7\u001b[0m \u001b[0;31m# Use the visualize function from the yfiles_jupyter_graphs_for_neo4j package.\u001b[0m\u001b[0;34m\u001b[0m\u001b[0;34m\u001b[0m\u001b[0m\n\u001b[1;32m      8\u001b[0m \u001b[0;31m# It takes your Neo4j driver and a query, and then displays an interactive graph.\u001b[0m\u001b[0;34m\u001b[0m\u001b[0;34m\u001b[0m\u001b[0m\n\u001b[0;32m----> 9\u001b[0;31m \u001b[0mvisualize\u001b[0m\u001b[0;34m(\u001b[0m\u001b[0mdriver\u001b[0m\u001b[0;34m,\u001b[0m \u001b[0mquery\u001b[0m\u001b[0;34m=\u001b[0m\u001b[0mquery\u001b[0m\u001b[0;34m)\u001b[0m\u001b[0;34m\u001b[0m\u001b[0;34m\u001b[0m\u001b[0m\n\u001b[0m",
            "\u001b[0;31mNameError\u001b[0m: name 'visualize' is not defined"
          ]
        }
      ]
    }
  ],
  "metadata": {
    "colab": {
      "provenance": [],
      "authorship_tag": "ABX9TyNESgwA+QfLZCrvwp7hEEov",
      "include_colab_link": true
    },
    "kernelspec": {
      "display_name": "Python 3",
      "name": "python3"
    },
    "language_info": {
      "name": "python"
    }
  },
  "nbformat": 4,
  "nbformat_minor": 0
}