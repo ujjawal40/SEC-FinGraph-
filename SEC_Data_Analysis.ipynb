{
  "cells": [
    {
      "cell_type": "markdown",
      "metadata": {
        "id": "view-in-github",
        "colab_type": "text"
      },
      "source": [
        "<a href=\"https://colab.research.google.com/github/ujjawal40/SEC-FinGraph-/blob/main/SEC_Data_Analysis.ipynb\" target=\"_parent\"><img src=\"https://colab.research.google.com/assets/colab-badge.svg\" alt=\"Open In Colab\"/></a>"
      ]
    },
    {
      "cell_type": "code",
      "execution_count": 4,
      "metadata": {
        "id": "xsnOvYrbvOIe"
      },
      "outputs": [],
      "source": [
        "from google.colab import drive\n",
        "import os\n",
        "import pandas as pd\n",
        "import numpy as np\n",
        "from yfiles_jupyter_graphs import GraphWidget\n",
        "from neo4j import GraphDatabase\n",
        "import matplotlib.pyplot as plt\n",
        "%matplotlib inline\n",
        "from yfiles_jupyter_graphs_for_neo4j import Neo4jGraphWidget\n",
        "from pyspark.sql import SparkSession\n",
        "from pyspark.ml.clustering import KMeans\n",
        "from sklearn.cluster import KMeans as SKMeans\n",
        "from scipy import stats\n",
        "from langchain.chains import GraphQAChain\n",
        "from langchain.llms import OpenAI\n",
        "import networkx as nx\n",
        "from pyvis.network import Network\n"
      ]
    },
    {
      "cell_type": "code",
      "execution_count": 5,
      "metadata": {
        "colab": {
          "base_uri": "https://localhost:8080/"
        },
        "id": "Ncu3IvFII1OO",
        "outputId": "491d7c19-7383-4d05-b732-105c855954f0"
      },
      "outputs": [
        {
          "output_type": "stream",
          "name": "stdout",
          "text": [
            "Drive already mounted at /content/drive; to attempt to forcibly remount, call drive.mount(\"/content/drive\", force_remount=True).\n"
          ]
        }
      ],
      "source": [
        "drive.mount('/content/drive')"
      ]
    },
    {
      "cell_type": "code",
      "execution_count": 6,
      "metadata": {
        "id": "KmfEpS6yQk02"
      },
      "outputs": [],
      "source": [
        "url = \"neo4j+s://1c01afdf.databases.neo4j.io\"\n",
        "user = 'neo4j'\n",
        "password = \"Nr3rnqS47qcl0A_ls4ZZsMsZi2AGLTTMRZq6FThvVaw\"\n",
        "driver = GraphDatabase.driver(url, auth=(user,password))"
      ]
    },
    {
      "cell_type": "code",
      "execution_count": null,
      "metadata": {
        "id": "S5yHOTxV9XrD"
      },
      "outputs": [],
      "source": [
        "# COLUMN_MAP = {\n",
        "#     \"sub\": [\"adsh\", \"cik\", \"name\", \"filed\", \"period\", \"form\"],\n",
        "#     \"num\": [\"adsh\", \"tag\", \"version\", \"ddate\", \"value\",\n",
        "\n",
        "#            ],\n",
        "#     \"tag\": [\"tag\", \"version\", \"tlabel\",\n",
        "#             # If your CSV has these, uncomment:\n",
        "#             # \"datatype\", \"iord\", \"crdr\"\n",
        "#            ],\n",
        "#     \"pre\": [\"adsh\", \"tag\", \"version\", \"plabel\",\n",
        "#             # If your CSV has these, uncomment:\n",
        "#             # \"stmt\", \"report\", \"line\", \"inpth\", \"negating\"\n",
        "#            ]\n",
        "# }\n",
        "\n",
        "# # Set batch size for processing rows in Neo4j\n",
        "# BATCH_SIZE = 1000\n",
        "\n",
        "# # Set maximum limits for nodes and edges to be ingested (each dataset is limited to 50,000 rows)\n",
        "# LIMIT = 50000\n",
        "\n",
        "# # Define a list of tags of interest (update these based on your analysis)\n",
        "# tags_of_interest = [\n",
        "#     \"us-gaap:Revenues\",\n",
        "#     \"us-gaap:NetIncomeLoss\",\n",
        "#     \"us-gaap:Assets\",\n",
        "#     \"us-gaap:Liabilities\",\n",
        "#     \"us-gaap:LongTermDebt\"  # Example for debt; adjust if needed\n",
        "# ]\n",
        "\n",
        "# def run_batches(session, query, df):\n",
        "#     \"\"\"\n",
        "#     Splits the DataFrame `df` into batches of size BATCH_SIZE and\n",
        "#     executes the given Cypher `query` for each batch.\n",
        "#     \"\"\"\n",
        "#     records = df.to_dict(\"records\")\n",
        "#     for i in range(0, len(records), BATCH_SIZE):\n",
        "#         batch = records[i:i+BATCH_SIZE]\n",
        "#         session.run(query, {\"batch\": batch})\n",
        "\n",
        "# def load_quarter(quarter):\n",
        "#     \"\"\"\n",
        "#     Loads the data for a given quarter (q1, q2, q3, q4),\n",
        "#     cleans it, filters it, and ingests it into Neo4j.\n",
        "#     \"\"\"\n",
        "#     print(f\"\\n{'='*50}\")\n",
        "#     print(f\"Processing 2018 {quarter.upper()}\")\n",
        "#     print(f\"{'='*50}\")\n",
        "\n",
        "\n",
        "#     base_path = f\"/content/drive/MyDrive/2018{quarter}/\"\n",
        "\n",
        "#     try:\n",
        "#         # Read the datasets with the specified columns\n",
        "#         sub = pd.read_csv(f\"{base_path}sub.txt\", delimiter='\\t', usecols=COLUMN_MAP[\"sub\"])\n",
        "#         num = pd.read_csv(f\"{base_path}num.txt\", delimiter='\\t', usecols=COLUMN_MAP[\"num\"])\n",
        "#         tag = pd.read_csv(f\"{base_path}tag.txt\", delimiter='\\t', usecols=COLUMN_MAP[\"tag\"])\n",
        "#         pre = pd.read_csv(f\"{base_path}pre.txt\", delimiter='\\t', usecols=COLUMN_MAP[\"pre\"])\n",
        "\n",
        "#         sub = sub.dropna(subset=[\"adsh\", \"cik\"]).fillna({\n",
        "#             'fp': 'N/A',\n",
        "#             'afs': 'N/A',\n",
        "#             'wksi': 0,\n",
        "#             'prevrpt': 0,\n",
        "#             'detail': 0,\n",
        "#             'sic': 0\n",
        "#         })\n",
        "#         num = num.dropna(subset=[\"adsh\", \"tag\", \"version\", \"value\"])\n",
        "#         tag = tag.dropna(subset=[\"tag\", \"version\"]).fillna({'crdr': 'U'})\n",
        "#         pre = pre.dropna(subset=[\"adsh\", \"tag\", \"version\"])\n",
        "\n",
        "#         # Replace any remaining NaNs with None\n",
        "#         sub = sub.replace({np.nan: None})\n",
        "#         num = num.replace({np.nan: None})\n",
        "#         tag = tag.replace({np.nan: None})\n",
        "#         pre = pre.replace({np.nan: None})\n",
        "\n",
        "\n",
        "\n",
        "#         # Limit the number of rows ingested from each dataset\n",
        "#         sub = sub.head(LIMIT)\n",
        "#         num = num.head(LIMIT)\n",
        "#         tag = tag.head(LIMIT)\n",
        "#         pre = pre.head(LIMIT)\n",
        "\n",
        "#         # Open a session to Neo4j and create constraints\n",
        "#         with driver.session() as session:\n",
        "#             session.run(\"CREATE CONSTRAINT IF NOT EXISTS FOR (s:Submission) REQUIRE s.adsh IS UNIQUE\")\n",
        "#             session.run(\"CREATE CONSTRAINT IF NOT EXISTS FOR (t:Tag) REQUIRE (t.tag, t.version) IS UNIQUE\")\n",
        "\n",
        "#             # Insert Submission nodes\n",
        "#             submission_query = \"\"\"\n",
        "#                 UNWIND $batch AS row\n",
        "#                 MERGE (s:Submission {adsh: row.adsh})\n",
        "#                 ON CREATE SET\n",
        "#                     s.cik = row.cik,\n",
        "#                     s.name = row.name,\n",
        "#                     s.filed = row.filed,\n",
        "#                     s.period = row.period,\n",
        "#                     s.fp = coalesce(row.fp, 'N/A'),\n",
        "#                     s.form = row.form,\n",
        "#                     s.sic = coalesce(row.sic, 0),\n",
        "#                     s.afs = coalesce(row.afs, 'N/A'),\n",
        "#                     s.wksi = coalesce(row.wksi, 0),\n",
        "#                     s.prevrpt = coalesce(row.prevrpt, 0),\n",
        "#                     s.detail = coalesce(row.detail, 0)\n",
        "#             \"\"\"\n",
        "#             run_batches(session, submission_query, sub)\n",
        "\n",
        "#             # Insert Tag nodes\n",
        "#             tag_query = \"\"\"\n",
        "#                 UNWIND $batch AS row\n",
        "#                 MERGE (t:Tag {tag: row.tag, version: row.version})\n",
        "#                 ON CREATE SET\n",
        "#                     t.tlabel = row.tlabel,\n",
        "#                     t.datatype = coalesce(row.datatype, 'N/A'),\n",
        "#                     t.iord = coalesce(row.iord, 'N/A'),\n",
        "#                     t.crdr = coalesce(row.crdr, 'U')\n",
        "#             \"\"\"\n",
        "#             run_batches(session, tag_query, tag)\n",
        "\n",
        "\n",
        "#             num_query = \"\"\"\n",
        "#                 UNWIND $batch AS row\n",
        "#                 MATCH (s:Submission {adsh: row.adsh})\n",
        "#                 MATCH (t:Tag {tag: row.tag, version: row.version})\n",
        "#                 MERGE (f:NumericFact {\n",
        "#                     adsh: row.adsh,\n",
        "#                     tag: row.tag,\n",
        "#                     version: row.version,\n",
        "#                     ddate: row.ddate\n",
        "#                 })\n",
        "#                 ON CREATE SET\n",
        "#                     f.value = toFloat(row.value),\n",
        "#                     f.uom = coalesce(row.uom, 'N/A'),\n",
        "#                     f.qtrs = coalesce(row.qtrs, 0),\n",
        "#                     f.segments = coalesce(row.segments, 'N/A'),\n",
        "#                     f.coreg = coalesce(row.coreg, 'N/A')\n",
        "#                 MERGE (s)-[:HAS_FACT]->(f)\n",
        "#                 MERGE (f)-[:USES_TAG]->(t)\n",
        "#             \"\"\"\n",
        "#             run_batches(session, num_query, num)\n",
        "\n",
        "\n",
        "#             pre_query = \"\"\"\n",
        "#                 UNWIND $batch AS row\n",
        "#                 MATCH (s:Submission {adsh: row.adsh})\n",
        "#                 MATCH (t:Tag {tag: row.tag, version: row.version})\n",
        "#                 MERGE (p:Presentation {\n",
        "#                     adsh: row.adsh,\n",
        "#                     report: coalesce(row.report, 0),\n",
        "#                     line: coalesce(row.line, 0)\n",
        "#                 })\n",
        "#                 ON CREATE SET\n",
        "#                     p.stmt = coalesce(row.stmt, 'N/A'),\n",
        "#                     p.plabel = row.plabel,\n",
        "#                     p.inpth = coalesce(row.inpth, 'N/A'),\n",
        "#                     p.negating = coalesce(row.negating, 'N/A')\n",
        "#                 MERGE (s)-[:HAS_PRESENTATION]->(p)\n",
        "#                 MERGE (p)-[:LINKS_TO_TAG]->(t)\n",
        "#                 WITH p, row\n",
        "#                 MATCH (f:NumericFact {adsh: row.adsh, tag: row.tag, version: row.version})\n",
        "#                 MERGE (p)-[:REFERENCES_FACT]->(f)\n",
        "#             \"\"\"\n",
        "#             run_batches(session, pre_query, pre)\n",
        "\n",
        "#         print(f\" 2018 {quarter.upper()} loaded successfully!\")\n",
        "\n",
        "#     except Exception as e:\n",
        "#         print(f\"  Error processing {quarter.upper()}: {str(e)}\")\n",
        "\n",
        "# for quarter in [\"q1\", \"q2\", \"q3\", \"q4\"]:\n",
        "#     load_quarter(quarter)\n",
        "\n",
        "# print(\"\\n All data loaded! Validate with a Cypher query, e.g.:\")\n",
        "# print(\"MATCH (s:Submission) RETURN s.adsh, s.form, s.name LIMIT 10\")\n"
      ]
    },
    {
      "cell_type": "code",
      "source": [
        "from google.colab import output\n",
        "output.enable_custom_widget_manager()"
      ],
      "metadata": {
        "id": "ht1o58VxX02Q"
      },
      "execution_count": 9,
      "outputs": []
    },
    {
      "cell_type": "markdown",
      "source": [
        "Support for third party widgets will remain active for the duration of the session. To disable support:"
      ],
      "metadata": {
        "id": "o9OE7Ri-X02b"
      }
    },
    {
      "cell_type": "code",
      "source": [
        "query = \"MATCH (s:Submission)-[r1:HAS_FACT]->(f:NumericFact)-[r2:USES_TAG]->(t:Tag) RETURN s, r1, f, r2, t LIMIT 50\"\n",
        "\n",
        "g = Neo4jGraphWidget(driver)\n",
        "\n",
        "g.show_cypher(query)"
      ],
      "metadata": {
        "colab": {
          "base_uri": "https://localhost:8080/",
          "height": 817,
          "referenced_widgets": [
            "072fda9b6178486fb7124663c787167b",
            "0eb0b9d0b72b4e18b9f79bc810f0882e"
          ]
        },
        "id": "4BbggiHcbUvD",
        "outputId": "7b707203-93b0-4fda-fa8f-150a5174f2d7"
      },
      "execution_count": 12,
      "outputs": [
        {
          "output_type": "display_data",
          "data": {
            "text/plain": [
              "GraphWidget(layout=Layout(height='800px', width='100%'))"
            ],
            "application/vnd.jupyter.widget-view+json": {
              "version_major": 2,
              "version_minor": 0,
              "model_id": "072fda9b6178486fb7124663c787167b"
            }
          },
          "metadata": {
            "application/vnd.jupyter.widget-view+json": {
              "colab": {
                "custom_widget_manager": {
                  "url": "https://ssl.gstatic.com/colaboratory-static/widgets/colab-cdn-widget-manager/2b70e893a8ba7c0f/manager.min.js"
                }
              }
            }
          }
        }
      ]
    },
    {
      "cell_type": "code",
      "source": [
        "query4 = \"\"\"\n",
        "MATCH p = (s:Submission)-[:HAS_PRESENTATION]->(pr:Presentation)-[:LINKS_TO_TAG]->(t:Tag)\n",
        "RETURN p\n",
        "LIMIT 50\n",
        "\"\"\"\n",
        "g.show_cypher(query4)"
      ],
      "metadata": {
        "colab": {
          "base_uri": "https://localhost:8080/",
          "height": 817,
          "referenced_widgets": [
            "20db2c7c20764cfe817ec828dd712c91",
            "8c75806d226d4964bcd5339feb9e722d"
          ]
        },
        "id": "4yerCcsiczeN",
        "outputId": "7fc3f2f3-ab70-4452-f496-1410e919dfa2"
      },
      "execution_count": 15,
      "outputs": [
        {
          "output_type": "display_data",
          "data": {
            "text/plain": [
              "GraphWidget(layout=Layout(height='800px', width='100%'))"
            ],
            "application/vnd.jupyter.widget-view+json": {
              "version_major": 2,
              "version_minor": 0,
              "model_id": "20db2c7c20764cfe817ec828dd712c91"
            }
          },
          "metadata": {
            "application/vnd.jupyter.widget-view+json": {
              "colab": {
                "custom_widget_manager": {
                  "url": "https://ssl.gstatic.com/colaboratory-static/widgets/colab-cdn-widget-manager/2b70e893a8ba7c0f/manager.min.js"
                }
              }
            }
          }
        }
      ]
    },
    {
      "cell_type": "code",
      "source": [
        "visual_query = \"\"\"\n",
        "MATCH p = (s:Submission {adsh: \"0001193125-18-020970\"})-[*..2]-(x)\n",
        "RETURN p\n",
        "LIMIT 50\n",
        "\"\"\"\n",
        "\n",
        "g.show_cypher(visual_query)"
      ],
      "metadata": {
        "colab": {
          "base_uri": "https://localhost:8080/",
          "height": 517,
          "referenced_widgets": [
            "c0abf862e35b49a2af070df7f32fca61",
            "a83518bb1af146ecaf72469fc4abc6ed"
          ]
        },
        "id": "zHBgvuDndEBn",
        "outputId": "a2b494bd-118d-4012-883c-bfa6bc0695be"
      },
      "execution_count": 16,
      "outputs": [
        {
          "output_type": "display_data",
          "data": {
            "text/plain": [
              "GraphWidget(layout=Layout(height='500px', width='100%'))"
            ],
            "application/vnd.jupyter.widget-view+json": {
              "version_major": 2,
              "version_minor": 0,
              "model_id": "c0abf862e35b49a2af070df7f32fca61"
            }
          },
          "metadata": {
            "application/vnd.jupyter.widget-view+json": {
              "colab": {
                "custom_widget_manager": {
                  "url": "https://ssl.gstatic.com/colaboratory-static/widgets/colab-cdn-widget-manager/2b70e893a8ba7c0f/manager.min.js"
                }
              }
            }
          }
        }
      ]
    }
  ],
  "metadata": {
    "colab": {
      "provenance": [],
      "authorship_tag": "ABX9TyMbhlIzAVg/XrBRBHD0+HVb",
      "include_colab_link": true
    },
    "kernelspec": {
      "display_name": "Python 3",
      "name": "python3"
    },
    "language_info": {
      "name": "python"
    },
    "widgets": {
      "application/vnd.jupyter.widget-state+json": {
        "072fda9b6178486fb7124663c787167b": {
          "model_module": "yfiles-jupyter-graphs",
          "model_name": "GraphModel",
          "model_module_version": "^1.10.1",
          "state": {
            "_context_pane_mapping": [
              {
                "id": "Neighborhood",
                "title": "Neighborhood"
              },
              {
                "id": "Data",
                "title": "Data"
              },
              {
                "id": "Search",
                "title": "Search"
              },
              {
                "id": "About",
                "title": "About"
              }
            ],
            "_data_importer": "neo4j",
            "_directed": true,
            "_dom_classes": [],
            "_edges": [
              {
                "id": 6917529027641138000,
                "start": 0,
                "end": 56538,
                "properties": {
                  "label": "HAS_FACT"
                },
                "color": "#607D8B",
                "thickness_factor": 1,
                "directed": true,
                "styles": {},
                "label": "HAS_FACT"
              },
              {
                "id": 1152922604118531300,
                "start": 56538,
                "end": 13320,
                "properties": {
                  "label": "USES_TAG"
                },
                "color": "#673AB7",
                "thickness_factor": 1,
                "directed": true,
                "styles": {},
                "label": "USES_TAG"
              },
              {
                "id": 6917529027641143000,
                "start": 0,
                "end": 61620,
                "properties": {
                  "label": "HAS_FACT"
                },
                "color": "#607D8B",
                "thickness_factor": 1,
                "directed": true,
                "styles": {},
                "label": "HAS_FACT"
              },
              {
                "id": 1152922604118536400,
                "start": 61620,
                "end": 16396,
                "properties": {
                  "label": "USES_TAG"
                },
                "color": "#673AB7",
                "thickness_factor": 1,
                "directed": true,
                "styles": {},
                "label": "USES_TAG"
              },
              {
                "id": 6917529027641158000,
                "start": 0,
                "end": 75784,
                "properties": {
                  "label": "HAS_FACT"
                },
                "color": "#607D8B",
                "thickness_factor": 1,
                "directed": true,
                "styles": {},
                "label": "HAS_FACT"
              },
              {
                "id": 1152922604118550500,
                "start": 75784,
                "end": 11964,
                "properties": {
                  "label": "USES_TAG"
                },
                "color": "#673AB7",
                "thickness_factor": 1,
                "directed": true,
                "styles": {},
                "label": "USES_TAG"
              },
              {
                "id": 6917529027641139000,
                "start": 1,
                "end": 56997,
                "properties": {
                  "label": "HAS_FACT"
                },
                "color": "#607D8B",
                "thickness_factor": 1,
                "directed": true,
                "styles": {},
                "label": "HAS_FACT"
              },
              {
                "id": 1152922604118531800,
                "start": 56997,
                "end": 7217,
                "properties": {
                  "label": "USES_TAG"
                },
                "color": "#673AB7",
                "thickness_factor": 1,
                "directed": true,
                "styles": {},
                "label": "USES_TAG"
              },
              {
                "id": 6917529027641158000,
                "start": 1,
                "end": 75423,
                "properties": {
                  "label": "HAS_FACT"
                },
                "color": "#607D8B",
                "thickness_factor": 1,
                "directed": true,
                "styles": {},
                "label": "HAS_FACT"
              },
              {
                "id": 1152922604118550300,
                "start": 75423,
                "end": 8609,
                "properties": {
                  "label": "USES_TAG"
                },
                "color": "#673AB7",
                "thickness_factor": 1,
                "directed": true,
                "styles": {},
                "label": "USES_TAG"
              },
              {
                "id": 6917529027641165000,
                "start": 1,
                "end": 83033,
                "properties": {
                  "label": "HAS_FACT"
                },
                "color": "#607D8B",
                "thickness_factor": 1,
                "directed": true,
                "styles": {},
                "label": "HAS_FACT"
              },
              {
                "id": 1152922604118557700,
                "start": 83033,
                "end": 6955,
                "properties": {
                  "label": "USES_TAG"
                },
                "color": "#673AB7",
                "thickness_factor": 1,
                "directed": true,
                "styles": {},
                "label": "USES_TAG"
              },
              {
                "id": 6917529027641184000,
                "start": 1,
                "end": 102631,
                "properties": {
                  "label": "HAS_FACT"
                },
                "color": "#607D8B",
                "thickness_factor": 1,
                "directed": true,
                "styles": {},
                "label": "HAS_FACT"
              },
              {
                "id": 1152922604118577400,
                "start": 102631,
                "end": 8572,
                "properties": {
                  "label": "USES_TAG"
                },
                "color": "#673AB7",
                "thickness_factor": 1,
                "directed": true,
                "styles": {},
                "label": "USES_TAG"
              },
              {
                "id": 6917529027641184000,
                "start": 1,
                "end": 102737,
                "properties": {
                  "label": "HAS_FACT"
                },
                "color": "#607D8B",
                "thickness_factor": 1,
                "directed": true,
                "styles": {},
                "label": "HAS_FACT"
              },
              {
                "id": 1152922604118577400,
                "start": 102737,
                "end": 8688,
                "properties": {
                  "label": "USES_TAG"
                },
                "color": "#673AB7",
                "thickness_factor": 1,
                "directed": true,
                "styles": {},
                "label": "USES_TAG"
              },
              {
                "id": 6917529027641184000,
                "start": 1,
                "end": 102896,
                "properties": {
                  "label": "HAS_FACT"
                },
                "color": "#607D8B",
                "thickness_factor": 1,
                "directed": true,
                "styles": {},
                "label": "HAS_FACT"
              },
              {
                "id": 1152922604118577700,
                "start": 102896,
                "end": 8764,
                "properties": {
                  "label": "USES_TAG"
                },
                "color": "#673AB7",
                "thickness_factor": 1,
                "directed": true,
                "styles": {},
                "label": "USES_TAG"
              },
              {
                "id": 6917529027641142000,
                "start": 2,
                "end": 60880,
                "properties": {
                  "label": "HAS_FACT"
                },
                "color": "#607D8B",
                "thickness_factor": 1,
                "directed": true,
                "styles": {},
                "label": "HAS_FACT"
              },
              {
                "id": 1152922604118535700,
                "start": 60880,
                "end": 11077,
                "properties": {
                  "label": "USES_TAG"
                },
                "color": "#673AB7",
                "thickness_factor": 1,
                "directed": true,
                "styles": {},
                "label": "USES_TAG"
              },
              {
                "id": 6917529027641143000,
                "start": 2,
                "end": 61605,
                "properties": {
                  "label": "HAS_FACT"
                },
                "color": "#607D8B",
                "thickness_factor": 1,
                "directed": true,
                "styles": {},
                "label": "HAS_FACT"
              },
              {
                "id": 1152922604118536400,
                "start": 61605,
                "end": 12250,
                "properties": {
                  "label": "USES_TAG"
                },
                "color": "#673AB7",
                "thickness_factor": 1,
                "directed": true,
                "styles": {},
                "label": "USES_TAG"
              },
              {
                "id": 6917529027641144000,
                "start": 2,
                "end": 62819,
                "properties": {
                  "label": "HAS_FACT"
                },
                "color": "#607D8B",
                "thickness_factor": 1,
                "directed": true,
                "styles": {},
                "label": "HAS_FACT"
              },
              {
                "id": 1152922604118537500,
                "start": 62819,
                "end": 9097,
                "properties": {
                  "label": "USES_TAG"
                },
                "color": "#673AB7",
                "thickness_factor": 1,
                "directed": true,
                "styles": {},
                "label": "USES_TAG"
              },
              {
                "id": 6917529027641147000,
                "start": 2,
                "end": 65384,
                "properties": {
                  "label": "HAS_FACT"
                },
                "color": "#607D8B",
                "thickness_factor": 1,
                "directed": true,
                "styles": {},
                "label": "HAS_FACT"
              },
              {
                "id": 1152922604118540000,
                "start": 65384,
                "end": 11051,
                "properties": {
                  "label": "USES_TAG"
                },
                "color": "#673AB7",
                "thickness_factor": 1,
                "directed": true,
                "styles": {},
                "label": "USES_TAG"
              },
              {
                "id": 6917529027641151000,
                "start": 2,
                "end": 69901,
                "properties": {
                  "label": "HAS_FACT"
                },
                "color": "#607D8B",
                "thickness_factor": 1,
                "directed": true,
                "styles": {},
                "label": "HAS_FACT"
              },
              {
                "id": 1152922604118544600,
                "start": 69901,
                "end": 11529,
                "properties": {
                  "label": "USES_TAG"
                },
                "color": "#673AB7",
                "thickness_factor": 1,
                "directed": true,
                "styles": {},
                "label": "USES_TAG"
              },
              {
                "id": 6917529027641156000,
                "start": 2,
                "end": 73573,
                "properties": {
                  "label": "HAS_FACT"
                },
                "color": "#607D8B",
                "thickness_factor": 1,
                "directed": true,
                "styles": {},
                "label": "HAS_FACT"
              },
              {
                "id": 1152922604118548200,
                "start": 73573,
                "end": 11347,
                "properties": {
                  "label": "USES_TAG"
                },
                "color": "#673AB7",
                "thickness_factor": 1,
                "directed": true,
                "styles": {},
                "label": "USES_TAG"
              },
              {
                "id": 6917529027641158000,
                "start": 2,
                "end": 75886,
                "properties": {
                  "label": "HAS_FACT"
                },
                "color": "#607D8B",
                "thickness_factor": 1,
                "directed": true,
                "styles": {},
                "label": "HAS_FACT"
              },
              {
                "id": 1152922604118550500,
                "start": 75886,
                "end": 9097,
                "properties": {
                  "label": "USES_TAG"
                },
                "color": "#673AB7",
                "thickness_factor": 1,
                "directed": true,
                "styles": {},
                "label": "USES_TAG"
              },
              {
                "id": 6917529027641177000,
                "start": 2,
                "end": 94869,
                "properties": {
                  "label": "HAS_FACT"
                },
                "color": "#607D8B",
                "thickness_factor": 1,
                "directed": true,
                "styles": {},
                "label": "HAS_FACT"
              },
              {
                "id": 1152922604118569700,
                "start": 94869,
                "end": 12977,
                "properties": {
                  "label": "USES_TAG"
                },
                "color": "#673AB7",
                "thickness_factor": 1,
                "directed": true,
                "styles": {},
                "label": "USES_TAG"
              },
              {
                "id": 6917529027641180000,
                "start": 2,
                "end": 98231,
                "properties": {
                  "label": "HAS_FACT"
                },
                "color": "#607D8B",
                "thickness_factor": 1,
                "directed": true,
                "styles": {},
                "label": "HAS_FACT"
              },
              {
                "id": 1152922604118573000,
                "start": 98231,
                "end": 44318,
                "properties": {
                  "label": "USES_TAG"
                },
                "color": "#673AB7",
                "thickness_factor": 1,
                "directed": true,
                "styles": {},
                "label": "USES_TAG"
              },
              {
                "id": 6917529027641180000,
                "start": 2,
                "end": 98802,
                "properties": {
                  "label": "HAS_FACT"
                },
                "color": "#607D8B",
                "thickness_factor": 1,
                "directed": true,
                "styles": {},
                "label": "HAS_FACT"
              },
              {
                "id": 1152922604118573600,
                "start": 98802,
                "end": 12200,
                "properties": {
                  "label": "USES_TAG"
                },
                "color": "#673AB7",
                "thickness_factor": 1,
                "directed": true,
                "styles": {},
                "label": "USES_TAG"
              },
              {
                "id": 6917529027641144000,
                "start": 3,
                "end": 62916,
                "properties": {
                  "label": "HAS_FACT"
                },
                "color": "#607D8B",
                "thickness_factor": 1,
                "directed": true,
                "styles": {},
                "label": "HAS_FACT"
              },
              {
                "id": 1152922604118537700,
                "start": 62916,
                "end": 7325,
                "properties": {
                  "label": "USES_TAG"
                },
                "color": "#673AB7",
                "thickness_factor": 1,
                "directed": true,
                "styles": {},
                "label": "USES_TAG"
              },
              {
                "id": 6917529027641162000,
                "start": 3,
                "end": 79635,
                "properties": {
                  "label": "HAS_FACT"
                },
                "color": "#607D8B",
                "thickness_factor": 1,
                "directed": true,
                "styles": {},
                "label": "HAS_FACT"
              },
              {
                "id": 1152922604118554400,
                "start": 79635,
                "end": 6163,
                "properties": {
                  "label": "USES_TAG"
                },
                "color": "#673AB7",
                "thickness_factor": 1,
                "directed": true,
                "styles": {},
                "label": "USES_TAG"
              },
              {
                "id": 6917529027641167000,
                "start": 3,
                "end": 84670,
                "properties": {
                  "label": "HAS_FACT"
                },
                "color": "#607D8B",
                "thickness_factor": 1,
                "directed": true,
                "styles": {},
                "label": "HAS_FACT"
              },
              {
                "id": 1152922604118559500,
                "start": 84670,
                "end": 6286,
                "properties": {
                  "label": "USES_TAG"
                },
                "color": "#673AB7",
                "thickness_factor": 1,
                "directed": true,
                "styles": {},
                "label": "USES_TAG"
              },
              {
                "id": 6917529027641182000,
                "start": 3,
                "end": 100153,
                "properties": {
                  "label": "HAS_FACT"
                },
                "color": "#607D8B",
                "thickness_factor": 1,
                "directed": true,
                "styles": {},
                "label": "HAS_FACT"
              },
              {
                "id": 1152922604118574800,
                "start": 100153,
                "end": 6310,
                "properties": {
                  "label": "USES_TAG"
                },
                "color": "#673AB7",
                "thickness_factor": 1,
                "directed": true,
                "styles": {},
                "label": "USES_TAG"
              },
              {
                "id": 6917529027641183000,
                "start": 3,
                "end": 101777,
                "properties": {
                  "label": "HAS_FACT"
                },
                "color": "#607D8B",
                "thickness_factor": 1,
                "directed": true,
                "styles": {},
                "label": "HAS_FACT"
              },
              {
                "id": 1152922604118576600,
                "start": 101777,
                "end": 7483,
                "properties": {
                  "label": "USES_TAG"
                },
                "color": "#673AB7",
                "thickness_factor": 1,
                "directed": true,
                "styles": {},
                "label": "USES_TAG"
              },
              {
                "id": 6917529027641149000,
                "start": 4,
                "end": 67823,
                "properties": {
                  "label": "HAS_FACT"
                },
                "color": "#607D8B",
                "thickness_factor": 1,
                "directed": true,
                "styles": {},
                "label": "HAS_FACT"
              },
              {
                "id": 1152922604118542600,
                "start": 67823,
                "end": 11527,
                "properties": {
                  "label": "USES_TAG"
                },
                "color": "#673AB7",
                "thickness_factor": 1,
                "directed": true,
                "styles": {},
                "label": "USES_TAG"
              },
              {
                "id": 6917529027641138000,
                "start": 5,
                "end": 56517,
                "properties": {
                  "label": "HAS_FACT"
                },
                "color": "#607D8B",
                "thickness_factor": 1,
                "directed": true,
                "styles": {},
                "label": "HAS_FACT"
              },
              {
                "id": 1152922604118531300,
                "start": 56517,
                "end": 9398,
                "properties": {
                  "label": "USES_TAG"
                },
                "color": "#673AB7",
                "thickness_factor": 1,
                "directed": true,
                "styles": {},
                "label": "USES_TAG"
              },
              {
                "id": 6917529027641145000,
                "start": 5,
                "end": 63369,
                "properties": {
                  "label": "HAS_FACT"
                },
                "color": "#607D8B",
                "thickness_factor": 1,
                "directed": true,
                "styles": {},
                "label": "HAS_FACT"
              },
              {
                "id": 1152922604118538200,
                "start": 63369,
                "end": 10514,
                "properties": {
                  "label": "USES_TAG"
                },
                "color": "#673AB7",
                "thickness_factor": 1,
                "directed": true,
                "styles": {},
                "label": "USES_TAG"
              },
              {
                "id": 6917529027641149000,
                "start": 5,
                "end": 67487,
                "properties": {
                  "label": "HAS_FACT"
                },
                "color": "#607D8B",
                "thickness_factor": 1,
                "directed": true,
                "styles": {},
                "label": "HAS_FACT"
              },
              {
                "id": 1152922604118542300,
                "start": 67487,
                "end": 13140,
                "properties": {
                  "label": "USES_TAG"
                },
                "color": "#673AB7",
                "thickness_factor": 1,
                "directed": true,
                "styles": {},
                "label": "USES_TAG"
              },
              {
                "id": 6917529027641150000,
                "start": 5,
                "end": 68139,
                "properties": {
                  "label": "HAS_FACT"
                },
                "color": "#607D8B",
                "thickness_factor": 1,
                "directed": true,
                "styles": {},
                "label": "HAS_FACT"
              },
              {
                "id": 1152922604118542800,
                "start": 68139,
                "end": 11829,
                "properties": {
                  "label": "USES_TAG"
                },
                "color": "#673AB7",
                "thickness_factor": 1,
                "directed": true,
                "styles": {},
                "label": "USES_TAG"
              },
              {
                "id": 6917529027641163000,
                "start": 5,
                "end": 81340,
                "properties": {
                  "label": "HAS_FACT"
                },
                "color": "#607D8B",
                "thickness_factor": 1,
                "directed": true,
                "styles": {},
                "label": "HAS_FACT"
              },
              {
                "id": 1152922604118556200,
                "start": 81340,
                "end": 9065,
                "properties": {
                  "label": "USES_TAG"
                },
                "color": "#673AB7",
                "thickness_factor": 1,
                "directed": true,
                "styles": {},
                "label": "USES_TAG"
              },
              {
                "id": 6917529027641167000,
                "start": 5,
                "end": 84841,
                "properties": {
                  "label": "HAS_FACT"
                },
                "color": "#607D8B",
                "thickness_factor": 1,
                "directed": true,
                "styles": {},
                "label": "HAS_FACT"
              },
              {
                "id": 1152922604118559500,
                "start": 84841,
                "end": 11164,
                "properties": {
                  "label": "USES_TAG"
                },
                "color": "#673AB7",
                "thickness_factor": 1,
                "directed": true,
                "styles": {},
                "label": "USES_TAG"
              },
              {
                "id": 6917529027641170000,
                "start": 5,
                "end": 87877,
                "properties": {
                  "label": "HAS_FACT"
                },
                "color": "#607D8B",
                "thickness_factor": 1,
                "directed": true,
                "styles": {},
                "label": "HAS_FACT"
              },
              {
                "id": 1152922604118562600,
                "start": 87877,
                "end": 9063,
                "properties": {
                  "label": "USES_TAG"
                },
                "color": "#673AB7",
                "thickness_factor": 1,
                "directed": true,
                "styles": {},
                "label": "USES_TAG"
              },
              {
                "id": 6917529027641179000,
                "start": 5,
                "end": 97566,
                "properties": {
                  "label": "HAS_FACT"
                },
                "color": "#607D8B",
                "thickness_factor": 1,
                "directed": true,
                "styles": {},
                "label": "HAS_FACT"
              },
              {
                "id": 1152922604118572300,
                "start": 97566,
                "end": 9411,
                "properties": {
                  "label": "USES_TAG"
                },
                "color": "#673AB7",
                "thickness_factor": 1,
                "directed": true,
                "styles": {},
                "label": "USES_TAG"
              },
              {
                "id": 6917529027641181000,
                "start": 5,
                "end": 99332,
                "properties": {
                  "label": "HAS_FACT"
                },
                "color": "#607D8B",
                "thickness_factor": 1,
                "directed": true,
                "styles": {},
                "label": "HAS_FACT"
              },
              {
                "id": 1152922604118574000,
                "start": 99332,
                "end": 9080,
                "properties": {
                  "label": "USES_TAG"
                },
                "color": "#673AB7",
                "thickness_factor": 1,
                "directed": true,
                "styles": {},
                "label": "USES_TAG"
              },
              {
                "id": 6917529027641143000,
                "start": 6,
                "end": 61172,
                "properties": {
                  "label": "HAS_FACT"
                },
                "color": "#607D8B",
                "thickness_factor": 1,
                "directed": true,
                "styles": {},
                "label": "HAS_FACT"
              },
              {
                "id": 1152922604118536000,
                "start": 61172,
                "end": 9408,
                "properties": {
                  "label": "USES_TAG"
                },
                "color": "#673AB7",
                "thickness_factor": 1,
                "directed": true,
                "styles": {},
                "label": "USES_TAG"
              },
              {
                "id": 6917529027641153000,
                "start": 6,
                "end": 71151,
                "properties": {
                  "label": "HAS_FACT"
                },
                "color": "#607D8B",
                "thickness_factor": 1,
                "directed": true,
                "styles": {},
                "label": "HAS_FACT"
              },
              {
                "id": 1152922604118546000,
                "start": 71151,
                "end": 9065,
                "properties": {
                  "label": "USES_TAG"
                },
                "color": "#673AB7",
                "thickness_factor": 1,
                "directed": true,
                "styles": {},
                "label": "USES_TAG"
              },
              {
                "id": 6917529027641156000,
                "start": 6,
                "end": 73371,
                "properties": {
                  "label": "HAS_FACT"
                },
                "color": "#607D8B",
                "thickness_factor": 1,
                "directed": true,
                "styles": {},
                "label": "HAS_FACT"
              },
              {
                "id": 1152922604118548200,
                "start": 73371,
                "end": 11525,
                "properties": {
                  "label": "USES_TAG"
                },
                "color": "#673AB7",
                "thickness_factor": 1,
                "directed": true,
                "styles": {},
                "label": "USES_TAG"
              },
              {
                "id": 6917529027641163000,
                "start": 6,
                "end": 80558,
                "properties": {
                  "label": "HAS_FACT"
                },
                "color": "#607D8B",
                "thickness_factor": 1,
                "directed": true,
                "styles": {},
                "label": "HAS_FACT"
              },
              {
                "id": 1152922604118555400,
                "start": 80558,
                "end": 10091,
                "properties": {
                  "label": "USES_TAG"
                },
                "color": "#673AB7",
                "thickness_factor": 1,
                "directed": true,
                "styles": {},
                "label": "USES_TAG"
              },
              {
                "id": 6917529027641167000,
                "start": 6,
                "end": 84515,
                "properties": {
                  "label": "HAS_FACT"
                },
                "color": "#607D8B",
                "thickness_factor": 1,
                "directed": true,
                "styles": {},
                "label": "HAS_FACT"
              },
              {
                "id": 1152922604118559200,
                "start": 84515,
                "end": 10645,
                "properties": {
                  "label": "USES_TAG"
                },
                "color": "#673AB7",
                "thickness_factor": 1,
                "directed": true,
                "styles": {},
                "label": "USES_TAG"
              },
              {
                "id": 6917529027641167000,
                "start": 6,
                "end": 84574,
                "properties": {
                  "label": "HAS_FACT"
                },
                "color": "#607D8B",
                "thickness_factor": 1,
                "directed": true,
                "styles": {},
                "label": "HAS_FACT"
              },
              {
                "id": 1152922604118559200,
                "start": 84574,
                "end": 9462,
                "properties": {
                  "label": "USES_TAG"
                },
                "color": "#673AB7",
                "thickness_factor": 1,
                "directed": true,
                "styles": {},
                "label": "USES_TAG"
              },
              {
                "id": 6917529027641174000,
                "start": 6,
                "end": 91948,
                "properties": {
                  "label": "HAS_FACT"
                },
                "color": "#607D8B",
                "thickness_factor": 1,
                "directed": true,
                "styles": {},
                "label": "HAS_FACT"
              },
              {
                "id": 1152922604118566700,
                "start": 91948,
                "end": 9434,
                "properties": {
                  "label": "USES_TAG"
                },
                "color": "#673AB7",
                "thickness_factor": 1,
                "directed": true,
                "styles": {},
                "label": "USES_TAG"
              },
              {
                "id": 6917529027641175000,
                "start": 6,
                "end": 92958,
                "properties": {
                  "label": "HAS_FACT"
                },
                "color": "#607D8B",
                "thickness_factor": 1,
                "directed": true,
                "styles": {},
                "label": "HAS_FACT"
              },
              {
                "id": 1152922604118567700,
                "start": 92958,
                "end": 11756,
                "properties": {
                  "label": "USES_TAG"
                },
                "color": "#673AB7",
                "thickness_factor": 1,
                "directed": true,
                "styles": {},
                "label": "USES_TAG"
              },
              {
                "id": 6917529027641140000,
                "start": 7,
                "end": 58810,
                "properties": {
                  "label": "HAS_FACT"
                },
                "color": "#607D8B",
                "thickness_factor": 1,
                "directed": true,
                "styles": {},
                "label": "HAS_FACT"
              },
              {
                "id": 1152922604118533600,
                "start": 58810,
                "end": 11957,
                "properties": {
                  "label": "USES_TAG"
                },
                "color": "#673AB7",
                "thickness_factor": 1,
                "directed": true,
                "styles": {},
                "label": "USES_TAG"
              },
              {
                "id": 6917529027641149000,
                "start": 7,
                "end": 67569,
                "properties": {
                  "label": "HAS_FACT"
                },
                "color": "#607D8B",
                "thickness_factor": 1,
                "directed": true,
                "styles": {},
                "label": "HAS_FACT"
              },
              {
                "id": 1152922604118542300,
                "start": 67569,
                "end": 13334,
                "properties": {
                  "label": "USES_TAG"
                },
                "color": "#673AB7",
                "thickness_factor": 1,
                "directed": true,
                "styles": {},
                "label": "USES_TAG"
              },
              {
                "id": 6917529027641155000,
                "start": 7,
                "end": 73174,
                "properties": {
                  "label": "HAS_FACT"
                },
                "color": "#607D8B",
                "thickness_factor": 1,
                "directed": true,
                "styles": {},
                "label": "HAS_FACT"
              },
              {
                "id": 1152922604118548000,
                "start": 73174,
                "end": 12747,
                "properties": {
                  "label": "USES_TAG"
                },
                "color": "#673AB7",
                "thickness_factor": 1,
                "directed": true,
                "styles": {},
                "label": "USES_TAG"
              },
              {
                "id": 6917529027641160000,
                "start": 7,
                "end": 77967,
                "properties": {
                  "label": "HAS_FACT"
                },
                "color": "#607D8B",
                "thickness_factor": 1,
                "directed": true,
                "styles": {},
                "label": "HAS_FACT"
              },
              {
                "id": 1152922604118552800,
                "start": 77967,
                "end": 12419,
                "properties": {
                  "label": "USES_TAG"
                },
                "color": "#673AB7",
                "thickness_factor": 1,
                "directed": true,
                "styles": {},
                "label": "USES_TAG"
              },
              {
                "id": 6917529027641166000,
                "start": 7,
                "end": 83483,
                "properties": {
                  "label": "HAS_FACT"
                },
                "color": "#607D8B",
                "thickness_factor": 1,
                "directed": true,
                "styles": {},
                "label": "HAS_FACT"
              },
              {
                "id": 1152922604118558200,
                "start": 83483,
                "end": 13324,
                "properties": {
                  "label": "USES_TAG"
                },
                "color": "#673AB7",
                "thickness_factor": 1,
                "directed": true,
                "styles": {},
                "label": "USES_TAG"
              },
              {
                "id": 6917529027641172000,
                "start": 7,
                "end": 90020,
                "properties": {
                  "label": "HAS_FACT"
                },
                "color": "#607D8B",
                "thickness_factor": 1,
                "directed": true,
                "styles": {},
                "label": "HAS_FACT"
              },
              {
                "id": 1152922604118564900,
                "start": 90020,
                "end": 8800,
                "properties": {
                  "label": "USES_TAG"
                },
                "color": "#673AB7",
                "thickness_factor": 1,
                "directed": true,
                "styles": {},
                "label": "USES_TAG"
              },
              {
                "id": 6917529027641172000,
                "start": 7,
                "end": 90526,
                "properties": {
                  "label": "HAS_FACT"
                },
                "color": "#607D8B",
                "thickness_factor": 1,
                "directed": true,
                "styles": {},
                "label": "HAS_FACT"
              },
              {
                "id": 1152922604118565400,
                "start": 90526,
                "end": 13140,
                "properties": {
                  "label": "USES_TAG"
                },
                "color": "#673AB7",
                "thickness_factor": 1,
                "directed": true,
                "styles": {},
                "label": "USES_TAG"
              },
              {
                "id": 6917529027641176000,
                "start": 7,
                "end": 94600,
                "properties": {
                  "label": "HAS_FACT"
                },
                "color": "#607D8B",
                "thickness_factor": 1,
                "directed": true,
                "styles": {},
                "label": "HAS_FACT"
              },
              {
                "id": 1152922604118569500,
                "start": 94600,
                "end": 10786,
                "properties": {
                  "label": "USES_TAG"
                },
                "color": "#673AB7",
                "thickness_factor": 1,
                "directed": true,
                "styles": {},
                "label": "USES_TAG"
              }
            ],
            "_graph_layout": {
              "algorithm": "organic",
              "options": {}
            },
            "_highlight": [],
            "_license": {},
            "_model_module": "yfiles-jupyter-graphs",
            "_model_module_version": "^1.10.1",
            "_model_name": "GraphModel",
            "_neighborhood": {},
            "_nodes": [
              {
                "id": 0,
                "properties": {
                  "period": 20171031,
                  "cik": 72205,
                  "form": "10-K",
                  "adsh": "0001193125-18-020970",
                  "filed": 20180126,
                  "name": "NOBILITY HOMES INC",
                  "fp": "N/A",
                  "prevrpt": 0,
                  "detail": 0,
                  "sic": 0,
                  "wksi": 0,
                  "afs": "N/A",
                  "label": "Submission"
                },
                "color": "#2196F3",
                "styles": {},
                "label": "NOBILITY HOMES INC",
                "scale_factor": 1,
                "type": "#2196F3",
                "size": [
                  55,
                  55
                ],
                "position": [
                  0,
                  0
                ]
              },
              {
                "id": 56538,
                "properties": {
                  "qtrs": 0,
                  "ddate": 20161031,
                  "uom": "N/A",
                  "adsh": "0001193125-18-020970",
                  "tag": "StockIssuedDuringPeriodSharesShareBasedCompensationGross",
                  "version": "us-gaap/2017",
                  "value": 413,
                  "segments": "N/A",
                  "coreg": "N/A",
                  "label": "NumericFact"
                },
                "color": "#4CAF50",
                "styles": {},
                "label": "NumericFact",
                "scale_factor": 1,
                "type": "#4CAF50",
                "size": [
                  55,
                  55
                ],
                "position": [
                  0,
                  0
                ]
              },
              {
                "id": 13320,
                "properties": {
                  "tlabel": "Shares Issued, Shares, Share-based Payment Arrangement, before Forfeiture",
                  "crdr": "U",
                  "datatype": "N/A",
                  "iord": "N/A",
                  "tag": "StockIssuedDuringPeriodSharesShareBasedCompensationGross",
                  "version": "us-gaap/2017",
                  "label": "Tag"
                },
                "color": "#F44336",
                "styles": {},
                "label": "Tag",
                "scale_factor": 1,
                "type": "#F44336",
                "size": [
                  55,
                  55
                ],
                "position": [
                  0,
                  0
                ]
              },
              {
                "id": 61620,
                "properties": {
                  "qtrs": 0,
                  "ddate": 20171031,
                  "uom": "N/A",
                  "adsh": "0001193125-18-020970",
                  "tag": "StockIssuedDuringPeriodValueShareBasedCompensationAndAdjustmentsToAdditionalPaidInCapitalShareBasedCompensationRequisiteServicePeriodRecognitionValue",
                  "version": "0001193125-18-020970",
                  "value": 7218,
                  "segments": "N/A",
                  "coreg": "N/A",
                  "label": "NumericFact"
                },
                "color": "#4CAF50",
                "styles": {},
                "label": "NumericFact",
                "scale_factor": 1,
                "type": "#4CAF50",
                "size": [
                  55,
                  55
                ],
                "position": [
                  0,
                  0
                ]
              },
              {
                "id": 16396,
                "properties": {
                  "tlabel": "Stock Issued During Period Value Share Based Compensation And Adjustments To Additional Paid In Capital Share Based Compensation Requisite Service Period Recognition Value",
                  "crdr": "U",
                  "datatype": "N/A",
                  "iord": "N/A",
                  "tag": "StockIssuedDuringPeriodValueShareBasedCompensationAndAdjustmentsToAdditionalPaidInCapitalShareBasedCompensationRequisiteServicePeriodRecognitionValue",
                  "version": "0001193125-18-020970",
                  "label": "Tag"
                },
                "color": "#F44336",
                "styles": {},
                "label": "Tag",
                "scale_factor": 1,
                "type": "#F44336",
                "size": [
                  55,
                  55
                ],
                "position": [
                  0,
                  0
                ]
              },
              {
                "id": 75784,
                "properties": {
                  "qtrs": 0,
                  "ddate": 20171031,
                  "uom": "N/A",
                  "adsh": "0001193125-18-020970",
                  "tag": "OtherLongTermInvestments",
                  "version": "us-gaap/2017",
                  "value": 1471029,
                  "segments": "N/A",
                  "coreg": "N/A",
                  "label": "NumericFact"
                },
                "color": "#4CAF50",
                "styles": {},
                "label": "NumericFact",
                "scale_factor": 1,
                "type": "#4CAF50",
                "size": [
                  55,
                  55
                ],
                "position": [
                  0,
                  0
                ]
              },
              {
                "id": 11964,
                "properties": {
                  "tlabel": "Other Long-term Investments",
                  "crdr": "U",
                  "datatype": "N/A",
                  "iord": "N/A",
                  "tag": "OtherLongTermInvestments",
                  "version": "us-gaap/2017",
                  "label": "Tag"
                },
                "color": "#F44336",
                "styles": {},
                "label": "Tag",
                "scale_factor": 1,
                "type": "#F44336",
                "size": [
                  55,
                  55
                ],
                "position": [
                  0,
                  0
                ]
              },
              {
                "id": 1,
                "properties": {
                  "period": 20171231,
                  "cik": 1012477,
                  "form": "10-K",
                  "adsh": "0001012477-18-000008",
                  "filed": 20180316,
                  "name": "AVADEL PHARMACEUTICALS PLC",
                  "fp": "N/A",
                  "prevrpt": 0,
                  "detail": 0,
                  "sic": 0,
                  "wksi": 0,
                  "afs": "N/A",
                  "label": "Submission"
                },
                "color": "#2196F3",
                "styles": {},
                "label": "AVADEL PHARMACEUTICALS PLC",
                "scale_factor": 1,
                "type": "#2196F3",
                "size": [
                  55,
                  55
                ],
                "position": [
                  0,
                  0
                ]
              },
              {
                "id": 56997,
                "properties": {
                  "qtrs": 0,
                  "ddate": 20171231,
                  "uom": "N/A",
                  "adsh": "0001012477-18-000008",
                  "tag": "InterestPaid",
                  "version": "us-gaap/2016",
                  "value": 1050000,
                  "segments": "N/A",
                  "coreg": "N/A",
                  "label": "NumericFact"
                },
                "color": "#4CAF50",
                "styles": {},
                "label": "NumericFact",
                "scale_factor": 1,
                "type": "#4CAF50",
                "size": [
                  55,
                  55
                ],
                "position": [
                  0,
                  0
                ]
              },
              {
                "id": 7217,
                "properties": {
                  "tlabel": "Interest Paid, Including Capitalized Interest, Operating and Investing Activities",
                  "crdr": "U",
                  "datatype": "N/A",
                  "iord": "N/A",
                  "tag": "InterestPaid",
                  "version": "us-gaap/2016",
                  "label": "Tag"
                },
                "color": "#F44336",
                "styles": {},
                "label": "Tag",
                "scale_factor": 1,
                "type": "#F44336",
                "size": [
                  55,
                  55
                ],
                "position": [
                  0,
                  0
                ]
              },
              {
                "id": 75423,
                "properties": {
                  "qtrs": 0,
                  "ddate": 20161231,
                  "uom": "N/A",
                  "adsh": "0001012477-18-000008",
                  "tag": "StockIssuedDuringPeriodValueNewIssues",
                  "version": "us-gaap/2016",
                  "value": 112000,
                  "segments": "N/A",
                  "coreg": "N/A",
                  "label": "NumericFact"
                },
                "color": "#4CAF50",
                "styles": {},
                "label": "NumericFact",
                "scale_factor": 1,
                "type": "#4CAF50",
                "size": [
                  55,
                  55
                ],
                "position": [
                  0,
                  0
                ]
              },
              {
                "id": 8609,
                "properties": {
                  "tlabel": "Stock Issued During Period, Value, New Issues",
                  "crdr": "U",
                  "datatype": "N/A",
                  "iord": "N/A",
                  "tag": "StockIssuedDuringPeriodValueNewIssues",
                  "version": "us-gaap/2016",
                  "label": "Tag"
                },
                "color": "#F44336",
                "styles": {},
                "label": "Tag",
                "scale_factor": 1,
                "type": "#F44336",
                "size": [
                  55,
                  55
                ],
                "position": [
                  0,
                  0
                ]
              },
              {
                "id": 83033,
                "properties": {
                  "qtrs": 0,
                  "ddate": 20141231,
                  "uom": "N/A",
                  "adsh": "0001012477-18-000008",
                  "tag": "IncomeTaxExpenseBenefit",
                  "version": "us-gaap/2016",
                  "value": 14088000,
                  "segments": "N/A",
                  "coreg": "N/A",
                  "label": "NumericFact"
                },
                "color": "#4CAF50",
                "styles": {},
                "label": "NumericFact",
                "scale_factor": 1,
                "type": "#4CAF50",
                "size": [
                  55,
                  55
                ],
                "position": [
                  0,
                  0
                ]
              },
              {
                "id": 6955,
                "properties": {
                  "tlabel": "Income Tax Expense (Benefit)",
                  "crdr": "U",
                  "datatype": "N/A",
                  "iord": "N/A",
                  "tag": "IncomeTaxExpenseBenefit",
                  "version": "us-gaap/2016",
                  "label": "Tag"
                },
                "color": "#F44336",
                "styles": {},
                "label": "Tag",
                "scale_factor": 1,
                "type": "#F44336",
                "size": [
                  55,
                  55
                ],
                "position": [
                  0,
                  0
                ]
              },
              {
                "id": 102631,
                "properties": {
                  "qtrs": 0,
                  "ddate": 20161231,
                  "uom": "N/A",
                  "adsh": "0001012477-18-000008",
                  "tag": "StockIssuedDuringPeriodSharesOther",
                  "version": "us-gaap/2016",
                  "value": 115000,
                  "segments": "N/A",
                  "coreg": "N/A",
                  "label": "NumericFact"
                },
                "color": "#4CAF50",
                "styles": {},
                "label": "NumericFact",
                "scale_factor": 1,
                "type": "#4CAF50",
                "size": [
                  55,
                  55
                ],
                "position": [
                  0,
                  0
                ]
              },
              {
                "id": 8572,
                "properties": {
                  "tlabel": "Stock Issued During Period, Shares, Other",
                  "crdr": "U",
                  "datatype": "N/A",
                  "iord": "N/A",
                  "tag": "StockIssuedDuringPeriodSharesOther",
                  "version": "us-gaap/2016",
                  "label": "Tag"
                },
                "color": "#F44336",
                "styles": {},
                "label": "Tag",
                "scale_factor": 1,
                "type": "#F44336",
                "size": [
                  55,
                  55
                ],
                "position": [
                  0,
                  0
                ]
              },
              {
                "id": 102737,
                "properties": {
                  "qtrs": 0,
                  "ddate": 20171231,
                  "uom": "N/A",
                  "adsh": "0001012477-18-000008",
                  "tag": "TreasuryStockValue",
                  "version": "us-gaap/2016",
                  "value": 22361000,
                  "segments": "N/A",
                  "coreg": "N/A",
                  "label": "NumericFact"
                },
                "color": "#4CAF50",
                "styles": {},
                "label": "NumericFact",
                "scale_factor": 1,
                "type": "#4CAF50",
                "size": [
                  55,
                  55
                ],
                "position": [
                  0,
                  0
                ]
              },
              {
                "id": 8688,
                "properties": {
                  "tlabel": "Treasury Stock, Value",
                  "crdr": "U",
                  "datatype": "N/A",
                  "iord": "N/A",
                  "tag": "TreasuryStockValue",
                  "version": "us-gaap/2016",
                  "label": "Tag"
                },
                "color": "#F44336",
                "styles": {},
                "label": "Tag",
                "scale_factor": 1,
                "type": "#F44336",
                "size": [
                  55,
                  55
                ],
                "position": [
                  0,
                  0
                ]
              },
              {
                "id": 102896,
                "properties": {
                  "qtrs": 0,
                  "ddate": 20161231,
                  "uom": "N/A",
                  "adsh": "0001012477-18-000008",
                  "tag": "WeightedAverageNumberOfDilutedSharesOutstanding",
                  "version": "us-gaap/2016",
                  "value": 41248000,
                  "segments": "N/A",
                  "coreg": "N/A",
                  "label": "NumericFact"
                },
                "color": "#4CAF50",
                "styles": {},
                "label": "NumericFact",
                "scale_factor": 1,
                "type": "#4CAF50",
                "size": [
                  55,
                  55
                ],
                "position": [
                  0,
                  0
                ]
              },
              {
                "id": 8764,
                "properties": {
                  "tlabel": "Weighted Average Number of Shares Outstanding, Diluted",
                  "crdr": "U",
                  "datatype": "N/A",
                  "iord": "N/A",
                  "tag": "WeightedAverageNumberOfDilutedSharesOutstanding",
                  "version": "us-gaap/2016",
                  "label": "Tag"
                },
                "color": "#F44336",
                "styles": {},
                "label": "Tag",
                "scale_factor": 1,
                "type": "#F44336",
                "size": [
                  55,
                  55
                ],
                "position": [
                  0,
                  0
                ]
              },
              {
                "id": 2,
                "properties": {
                  "period": 20171231,
                  "cik": 700564,
                  "form": "10-K",
                  "adsh": "0000700564-18-000010",
                  "filed": 20180301,
                  "name": "FULTON FINANCIAL CORP",
                  "fp": "N/A",
                  "prevrpt": 0,
                  "detail": 0,
                  "sic": 0,
                  "wksi": 0,
                  "afs": "N/A",
                  "label": "Submission"
                },
                "color": "#2196F3",
                "styles": {},
                "label": "FULTON FINANCIAL CORP",
                "scale_factor": 1,
                "type": "#2196F3",
                "size": [
                  55,
                  55
                ],
                "position": [
                  0,
                  0
                ]
              },
              {
                "id": 60880,
                "properties": {
                  "qtrs": 0,
                  "ddate": 20171231,
                  "uom": "N/A",
                  "adsh": "0000700564-18-000010",
                  "tag": "InterestPaid",
                  "version": "us-gaap/2017",
                  "value": 93817000,
                  "segments": "N/A",
                  "coreg": "N/A",
                  "label": "NumericFact"
                },
                "color": "#4CAF50",
                "styles": {},
                "label": "NumericFact",
                "scale_factor": 1,
                "type": "#4CAF50",
                "size": [
                  55,
                  55
                ],
                "position": [
                  0,
                  0
                ]
              },
              {
                "id": 11077,
                "properties": {
                  "tlabel": "Interest Paid, Including Capitalized Interest, Operating and Investing Activities",
                  "crdr": "U",
                  "datatype": "N/A",
                  "iord": "N/A",
                  "tag": "InterestPaid",
                  "version": "us-gaap/2017",
                  "label": "Tag"
                },
                "color": "#F44336",
                "styles": {},
                "label": "Tag",
                "scale_factor": 1,
                "type": "#F44336",
                "size": [
                  55,
                  55
                ],
                "position": [
                  0,
                  0
                ]
              },
              {
                "id": 61605,
                "properties": {
                  "qtrs": 0,
                  "ddate": 20161231,
                  "uom": "N/A",
                  "adsh": "0000700564-18-000010",
                  "tag": "PaymentsToAcquireAvailableForSaleSecurities",
                  "version": "us-gaap/2017",
                  "value": 782765000,
                  "segments": "N/A",
                  "coreg": "N/A",
                  "label": "NumericFact"
                },
                "color": "#4CAF50",
                "styles": {},
                "label": "NumericFact",
                "scale_factor": 1,
                "type": "#4CAF50",
                "size": [
                  55,
                  55
                ],
                "position": [
                  0,
                  0
                ]
              },
              {
                "id": 12250,
                "properties": {
                  "tlabel": "Payments to Acquire Available-for-sale Securities",
                  "crdr": "U",
                  "datatype": "N/A",
                  "iord": "N/A",
                  "tag": "PaymentsToAcquireAvailableForSaleSecurities",
                  "version": "us-gaap/2017",
                  "label": "Tag"
                },
                "color": "#F44336",
                "styles": {},
                "label": "Tag",
                "scale_factor": 1,
                "type": "#F44336",
                "size": [
                  55,
                  55
                ],
                "position": [
                  0,
                  0
                ]
              },
              {
                "id": 62819,
                "properties": {
                  "qtrs": 0,
                  "ddate": 20161231,
                  "uom": "N/A",
                  "adsh": "0000700564-18-000010",
                  "tag": "AvailableForSaleSecurities",
                  "version": "us-gaap/2017",
                  "value": 0,
                  "segments": "N/A",
                  "coreg": "N/A",
                  "label": "NumericFact"
                },
                "color": "#4CAF50",
                "styles": {},
                "label": "NumericFact",
                "scale_factor": 1,
                "type": "#4CAF50",
                "size": [
                  55,
                  55
                ],
                "position": [
                  0,
                  0
                ]
              },
              {
                "id": 9097,
                "properties": {
                  "tlabel": "Available-for-sale Securities",
                  "crdr": "U",
                  "datatype": "N/A",
                  "iord": "N/A",
                  "tag": "AvailableForSaleSecurities",
                  "version": "us-gaap/2017",
                  "label": "Tag"
                },
                "color": "#F44336",
                "styles": {},
                "label": "Tag",
                "scale_factor": 1,
                "type": "#F44336",
                "size": [
                  55,
                  55
                ],
                "position": [
                  0,
                  0
                ]
              },
              {
                "id": 65384,
                "properties": {
                  "qtrs": 0,
                  "ddate": 20151231,
                  "uom": "N/A",
                  "adsh": "0000700564-18-000010",
                  "tag": "InterestIncomeExpenseAfterProvisionForLoanLoss",
                  "version": "us-gaap/2017",
                  "value": 497744000,
                  "segments": "N/A",
                  "coreg": "N/A",
                  "label": "NumericFact"
                },
                "color": "#4CAF50",
                "styles": {},
                "label": "NumericFact",
                "scale_factor": 1,
                "type": "#4CAF50",
                "size": [
                  55,
                  55
                ],
                "position": [
                  0,
                  0
                ]
              },
              {
                "id": 11051,
                "properties": {
                  "tlabel": "Interest Income (Expense), after Provision for Loan Loss",
                  "crdr": "U",
                  "datatype": "N/A",
                  "iord": "N/A",
                  "tag": "InterestIncomeExpenseAfterProvisionForLoanLoss",
                  "version": "us-gaap/2017",
                  "label": "Tag"
                },
                "color": "#F44336",
                "styles": {},
                "label": "Tag",
                "scale_factor": 1,
                "type": "#F44336",
                "size": [
                  55,
                  55
                ],
                "position": [
                  0,
                  0
                ]
              },
              {
                "id": 69901,
                "properties": {
                  "qtrs": 0,
                  "ddate": 20161231,
                  "uom": "N/A",
                  "adsh": "0000700564-18-000010",
                  "tag": "NetCashProvidedByUsedInOperatingActivities",
                  "version": "us-gaap/2017",
                  "value": 79364000,
                  "segments": "N/A",
                  "coreg": "N/A",
                  "label": "NumericFact"
                },
                "color": "#4CAF50",
                "styles": {},
                "label": "NumericFact",
                "scale_factor": 1,
                "type": "#4CAF50",
                "size": [
                  55,
                  55
                ],
                "position": [
                  0,
                  0
                ]
              },
              {
                "id": 11529,
                "properties": {
                  "tlabel": "Net Cash Provided by (Used in) Operating Activities",
                  "crdr": "U",
                  "datatype": "N/A",
                  "iord": "N/A",
                  "tag": "NetCashProvidedByUsedInOperatingActivities",
                  "version": "us-gaap/2017",
                  "label": "Tag"
                },
                "color": "#F44336",
                "styles": {},
                "label": "Tag",
                "scale_factor": 1,
                "type": "#F44336",
                "size": [
                  55,
                  55
                ],
                "position": [
                  0,
                  0
                ]
              },
              {
                "id": 73573,
                "properties": {
                  "qtrs": 0,
                  "ddate": 20161231,
                  "uom": "N/A",
                  "adsh": "0000700564-18-000010",
                  "tag": "LoansAndLeasesReceivableNetOfDeferredIncome",
                  "version": "us-gaap/2017",
                  "value": 194583000,
                  "segments": "N/A",
                  "coreg": "N/A",
                  "label": "NumericFact"
                },
                "color": "#4CAF50",
                "styles": {},
                "label": "NumericFact",
                "scale_factor": 1,
                "type": "#4CAF50",
                "size": [
                  55,
                  55
                ],
                "position": [
                  0,
                  0
                ]
              },
              {
                "id": 11347,
                "properties": {
                  "tlabel": "Loans and Leases Receivable, Net of Deferred Income",
                  "crdr": "U",
                  "datatype": "N/A",
                  "iord": "N/A",
                  "tag": "LoansAndLeasesReceivableNetOfDeferredIncome",
                  "version": "us-gaap/2017",
                  "label": "Tag"
                },
                "color": "#F44336",
                "styles": {},
                "label": "Tag",
                "scale_factor": 1,
                "type": "#F44336",
                "size": [
                  55,
                  55
                ],
                "position": [
                  0,
                  0
                ]
              },
              {
                "id": 75886,
                "properties": {
                  "qtrs": 0,
                  "ddate": 20171231,
                  "uom": "N/A",
                  "adsh": "0000700564-18-000010",
                  "tag": "AvailableForSaleSecurities",
                  "version": "us-gaap/2017",
                  "value": 0,
                  "segments": "N/A",
                  "coreg": "N/A",
                  "label": "NumericFact"
                },
                "color": "#4CAF50",
                "styles": {},
                "label": "NumericFact",
                "scale_factor": 1,
                "type": "#4CAF50",
                "size": [
                  55,
                  55
                ],
                "position": [
                  0,
                  0
                ]
              },
              {
                "id": 94869,
                "properties": {
                  "qtrs": 0,
                  "ddate": 20171231,
                  "uom": "N/A",
                  "adsh": "0000700564-18-000010",
                  "tag": "RepaymentsOfLongTermDebt",
                  "version": "us-gaap/2017",
                  "value": 100000000,
                  "segments": "N/A",
                  "coreg": "N/A",
                  "label": "NumericFact"
                },
                "color": "#4CAF50",
                "styles": {},
                "label": "NumericFact",
                "scale_factor": 1,
                "type": "#4CAF50",
                "size": [
                  55,
                  55
                ],
                "position": [
                  0,
                  0
                ]
              },
              {
                "id": 12977,
                "properties": {
                  "tlabel": "Repayments of Long-term Debt",
                  "crdr": "U",
                  "datatype": "N/A",
                  "iord": "N/A",
                  "tag": "RepaymentsOfLongTermDebt",
                  "version": "us-gaap/2017",
                  "label": "Tag"
                },
                "color": "#F44336",
                "styles": {},
                "label": "Tag",
                "scale_factor": 1,
                "type": "#F44336",
                "size": [
                  55,
                  55
                ],
                "position": [
                  0,
                  0
                ]
              },
              {
                "id": 98231,
                "properties": {
                  "qtrs": 0,
                  "ddate": 20151231,
                  "uom": "N/A",
                  "adsh": "0000700564-18-000010",
                  "tag": "TaxCutsAndJobsActIncompleteAccountingChangeInTaxRateProvisionalIncomeTaxExpenseBenefit",
                  "version": "0000700564-18-000010",
                  "value": 0,
                  "segments": "N/A",
                  "coreg": "N/A",
                  "label": "NumericFact"
                },
                "color": "#4CAF50",
                "styles": {},
                "label": "NumericFact",
                "scale_factor": 1,
                "type": "#4CAF50",
                "size": [
                  55,
                  55
                ],
                "position": [
                  0,
                  0
                ]
              },
              {
                "id": 44318,
                "properties": {
                  "tlabel": "Tax Cuts And Jobs Act, Incomplete Accounting, Change In Tax Rate, Provisional Income Tax Expense (Benefit)",
                  "crdr": "U",
                  "datatype": "N/A",
                  "iord": "N/A",
                  "tag": "TaxCutsAndJobsActIncompleteAccountingChangeInTaxRateProvisionalIncomeTaxExpenseBenefit",
                  "version": "0000700564-18-000010",
                  "label": "Tag"
                },
                "color": "#F44336",
                "styles": {},
                "label": "Tag",
                "scale_factor": 1,
                "type": "#F44336",
                "size": [
                  55,
                  55
                ],
                "position": [
                  0,
                  0
                ]
              },
              {
                "id": 98802,
                "properties": {
                  "qtrs": 0,
                  "ddate": 20171231,
                  "uom": "N/A",
                  "adsh": "0000700564-18-000010",
                  "tag": "PaymentsForProceedsFromProductiveAssets",
                  "version": "us-gaap/2017",
                  "value": 33092000,
                  "segments": "N/A",
                  "coreg": "N/A",
                  "label": "NumericFact"
                },
                "color": "#4CAF50",
                "styles": {},
                "label": "NumericFact",
                "scale_factor": 1,
                "type": "#4CAF50",
                "size": [
                  55,
                  55
                ],
                "position": [
                  0,
                  0
                ]
              },
              {
                "id": 12200,
                "properties": {
                  "tlabel": "Payments for (Proceeds from) Productive Assets",
                  "crdr": "U",
                  "datatype": "N/A",
                  "iord": "N/A",
                  "tag": "PaymentsForProceedsFromProductiveAssets",
                  "version": "us-gaap/2017",
                  "label": "Tag"
                },
                "color": "#F44336",
                "styles": {},
                "label": "Tag",
                "scale_factor": 1,
                "type": "#F44336",
                "size": [
                  55,
                  55
                ],
                "position": [
                  0,
                  0
                ]
              },
              {
                "id": 3,
                "properties": {
                  "period": 20171231,
                  "cik": 868857,
                  "form": "10-Q",
                  "adsh": "0001104659-18-007234",
                  "filed": 20180207,
                  "name": "AECOM",
                  "fp": "N/A",
                  "prevrpt": 0,
                  "detail": 0,
                  "sic": 0,
                  "wksi": 0,
                  "afs": "N/A",
                  "label": "Submission"
                },
                "color": "#2196F3",
                "styles": {},
                "label": "AECOM",
                "scale_factor": 1,
                "type": "#2196F3",
                "size": [
                  55,
                  55
                ],
                "position": [
                  0,
                  0
                ]
              },
              {
                "id": 62916,
                "properties": {
                  "qtrs": 0,
                  "ddate": 20171231,
                  "uom": "N/A",
                  "adsh": "0001104659-18-007234",
                  "tag": "LiabilitiesCurrent",
                  "version": "us-gaap/2016",
                  "value": 647800000,
                  "segments": "N/A",
                  "coreg": "N/A",
                  "label": "NumericFact"
                },
                "color": "#4CAF50",
                "styles": {},
                "label": "NumericFact",
                "scale_factor": 1,
                "type": "#4CAF50",
                "size": [
                  55,
                  55
                ],
                "position": [
                  0,
                  0
                ]
              },
              {
                "id": 7325,
                "properties": {
                  "tlabel": "Liabilities, Current",
                  "crdr": "U",
                  "datatype": "N/A",
                  "iord": "N/A",
                  "tag": "LiabilitiesCurrent",
                  "version": "us-gaap/2016",
                  "label": "Tag"
                },
                "color": "#F44336",
                "styles": {},
                "label": "Tag",
                "scale_factor": 1,
                "type": "#F44336",
                "size": [
                  55,
                  55
                ],
                "position": [
                  0,
                  0
                ]
              },
              {
                "id": 79635,
                "properties": {
                  "qtrs": 0,
                  "ddate": 20170930,
                  "uom": "N/A",
                  "adsh": "0001104659-18-007234",
                  "tag": "AssetsCurrent",
                  "version": "us-gaap/2016",
                  "value": 832100000,
                  "segments": "N/A",
                  "coreg": "N/A",
                  "label": "NumericFact"
                },
                "color": "#4CAF50",
                "styles": {},
                "label": "NumericFact",
                "scale_factor": 1,
                "type": "#4CAF50",
                "size": [
                  55,
                  55
                ],
                "position": [
                  0,
                  0
                ]
              },
              {
                "id": 6163,
                "properties": {
                  "tlabel": "Assets, Current",
                  "crdr": "U",
                  "datatype": "N/A",
                  "iord": "N/A",
                  "tag": "AssetsCurrent",
                  "version": "us-gaap/2016",
                  "label": "Tag"
                },
                "color": "#F44336",
                "styles": {},
                "label": "Tag",
                "scale_factor": 1,
                "type": "#F44336",
                "size": [
                  55,
                  55
                ],
                "position": [
                  0,
                  0
                ]
              },
              {
                "id": 84670,
                "properties": {
                  "qtrs": 0,
                  "ddate": 20160930,
                  "uom": "N/A",
                  "adsh": "0001104659-18-007234",
                  "tag": "CashAndCashEquivalentsAtCarryingValue",
                  "version": "us-gaap/2016",
                  "value": 183700000,
                  "segments": "N/A",
                  "coreg": "N/A",
                  "label": "NumericFact"
                },
                "color": "#4CAF50",
                "styles": {},
                "label": "NumericFact",
                "scale_factor": 1,
                "type": "#4CAF50",
                "size": [
                  55,
                  55
                ],
                "position": [
                  0,
                  0
                ]
              },
              {
                "id": 6286,
                "properties": {
                  "tlabel": "Cash and Cash Equivalents, at Carrying Value",
                  "crdr": "U",
                  "datatype": "N/A",
                  "iord": "N/A",
                  "tag": "CashAndCashEquivalentsAtCarryingValue",
                  "version": "us-gaap/2016",
                  "label": "Tag"
                },
                "color": "#F44336",
                "styles": {},
                "label": "Tag",
                "scale_factor": 1,
                "type": "#F44336",
                "size": [
                  55,
                  55
                ],
                "position": [
                  0,
                  0
                ]
              },
              {
                "id": 100153,
                "properties": {
                  "qtrs": 0,
                  "ddate": 20171231,
                  "uom": "N/A",
                  "adsh": "0001104659-18-007234",
                  "tag": "ComprehensiveIncomeNetOfTax",
                  "version": "us-gaap/2016",
                  "value": 112800000,
                  "segments": "N/A",
                  "coreg": "N/A",
                  "label": "NumericFact"
                },
                "color": "#4CAF50",
                "styles": {},
                "label": "NumericFact",
                "scale_factor": 1,
                "type": "#4CAF50",
                "size": [
                  55,
                  55
                ],
                "position": [
                  0,
                  0
                ]
              },
              {
                "id": 6310,
                "properties": {
                  "tlabel": "Comprehensive Income (Loss), Net of Tax, Attributable to Parent",
                  "crdr": "U",
                  "datatype": "N/A",
                  "iord": "N/A",
                  "tag": "ComprehensiveIncomeNetOfTax",
                  "version": "us-gaap/2016",
                  "label": "Tag"
                },
                "color": "#F44336",
                "styles": {},
                "label": "Tag",
                "scale_factor": 1,
                "type": "#F44336",
                "size": [
                  55,
                  55
                ],
                "position": [
                  0,
                  0
                ]
              },
              {
                "id": 101777,
                "properties": {
                  "qtrs": 0,
                  "ddate": 20171231,
                  "uom": "N/A",
                  "adsh": "0001104659-18-007234",
                  "tag": "NetIncomeLoss",
                  "version": "us-gaap/2016",
                  "value": 111300000,
                  "segments": "N/A",
                  "coreg": "N/A",
                  "label": "NumericFact"
                },
                "color": "#4CAF50",
                "styles": {},
                "label": "NumericFact",
                "scale_factor": 1,
                "type": "#4CAF50",
                "size": [
                  55,
                  55
                ],
                "position": [
                  0,
                  0
                ]
              },
              {
                "id": 7483,
                "properties": {
                  "tlabel": "Net Income (Loss) Attributable to Parent",
                  "crdr": "U",
                  "datatype": "N/A",
                  "iord": "N/A",
                  "tag": "NetIncomeLoss",
                  "version": "us-gaap/2016",
                  "label": "Tag"
                },
                "color": "#F44336",
                "styles": {},
                "label": "Tag",
                "scale_factor": 1,
                "type": "#F44336",
                "size": [
                  55,
                  55
                ],
                "position": [
                  0,
                  0
                ]
              },
              {
                "id": 4,
                "properties": {
                  "period": 20170930,
                  "cik": 1311735,
                  "form": "10-Q",
                  "adsh": "0001683168-18-000313",
                  "filed": 20180205,
                  "name": "FBEC WORLDWIDE INC.",
                  "fp": "N/A",
                  "prevrpt": 0,
                  "detail": 0,
                  "sic": 0,
                  "wksi": 0,
                  "afs": "N/A",
                  "label": "Submission"
                },
                "color": "#2196F3",
                "styles": {},
                "label": "FBEC WORLDWIDE INC.",
                "scale_factor": 1,
                "type": "#2196F3",
                "size": [
                  55,
                  55
                ],
                "position": [
                  0,
                  0
                ]
              },
              {
                "id": 67823,
                "properties": {
                  "qtrs": 0,
                  "ddate": 20160930,
                  "uom": "N/A",
                  "adsh": "0001683168-18-000313",
                  "tag": "NetCashProvidedByUsedInInvestingActivities",
                  "version": "us-gaap/2017",
                  "value": -837,
                  "segments": "N/A",
                  "coreg": "N/A",
                  "label": "NumericFact"
                },
                "color": "#4CAF50",
                "styles": {},
                "label": "NumericFact",
                "scale_factor": 1,
                "type": "#4CAF50",
                "size": [
                  55,
                  55
                ],
                "position": [
                  0,
                  0
                ]
              },
              {
                "id": 11527,
                "properties": {
                  "tlabel": "Net Cash Provided by (Used in) Investing Activities",
                  "crdr": "U",
                  "datatype": "N/A",
                  "iord": "N/A",
                  "tag": "NetCashProvidedByUsedInInvestingActivities",
                  "version": "us-gaap/2017",
                  "label": "Tag"
                },
                "color": "#F44336",
                "styles": {},
                "label": "Tag",
                "scale_factor": 1,
                "type": "#F44336",
                "size": [
                  55,
                  55
                ],
                "position": [
                  0,
                  0
                ]
              },
              {
                "id": 5,
                "properties": {
                  "period": 20171130,
                  "cik": 355948,
                  "form": "10-Q",
                  "adsh": "0001387131-18-000116",
                  "filed": 20180111,
                  "name": "RICHARDSON ELECTRONICS LTD/DE",
                  "fp": "N/A",
                  "prevrpt": 0,
                  "detail": 0,
                  "sic": 0,
                  "wksi": 0,
                  "afs": "N/A",
                  "label": "Submission"
                },
                "color": "#2196F3",
                "styles": {},
                "label": "RICHARDSON ELECTRONICS LTD/DE",
                "scale_factor": 1,
                "type": "#2196F3",
                "size": [
                  55,
                  55
                ],
                "position": [
                  0,
                  0
                ]
              },
              {
                "id": 56517,
                "properties": {
                  "qtrs": 0,
                  "ddate": 20161130,
                  "uom": "N/A",
                  "adsh": "0001387131-18-000116",
                  "tag": "CommonStockDividendsPerShareDeclared",
                  "version": "us-gaap/2017",
                  "value": 0.108,
                  "segments": "N/A",
                  "coreg": "N/A",
                  "label": "NumericFact"
                },
                "color": "#4CAF50",
                "styles": {},
                "label": "NumericFact",
                "scale_factor": 1,
                "type": "#4CAF50",
                "size": [
                  55,
                  55
                ],
                "position": [
                  0,
                  0
                ]
              },
              {
                "id": 9398,
                "properties": {
                  "tlabel": "Common Stock, Dividends, Per Share, Declared",
                  "crdr": "U",
                  "datatype": "N/A",
                  "iord": "N/A",
                  "tag": "CommonStockDividendsPerShareDeclared",
                  "version": "us-gaap/2017",
                  "label": "Tag"
                },
                "color": "#F44336",
                "styles": {},
                "label": "Tag",
                "scale_factor": 1,
                "type": "#F44336",
                "size": [
                  55,
                  55
                ],
                "position": [
                  0,
                  0
                ]
              },
              {
                "id": 63369,
                "properties": {
                  "qtrs": 0,
                  "ddate": 20161130,
                  "uom": "N/A",
                  "adsh": "0001387131-18-000116",
                  "tag": "GrossProfit",
                  "version": "us-gaap/2017",
                  "value": 1148000,
                  "segments": "N/A",
                  "coreg": "N/A",
                  "label": "NumericFact"
                },
                "color": "#4CAF50",
                "styles": {},
                "label": "NumericFact",
                "scale_factor": 1,
                "type": "#4CAF50",
                "size": [
                  55,
                  55
                ],
                "position": [
                  0,
                  0
                ]
              },
              {
                "id": 10514,
                "properties": {
                  "tlabel": "Gross Profit",
                  "crdr": "U",
                  "datatype": "N/A",
                  "iord": "N/A",
                  "tag": "GrossProfit",
                  "version": "us-gaap/2017",
                  "label": "Tag"
                },
                "color": "#F44336",
                "styles": {},
                "label": "Tag",
                "scale_factor": 1,
                "type": "#F44336",
                "size": [
                  55,
                  55
                ],
                "position": [
                  0,
                  0
                ]
              },
              {
                "id": 67487,
                "properties": {
                  "qtrs": 0,
                  "ddate": 20161130,
                  "uom": "N/A",
                  "adsh": "0001387131-18-000116",
                  "tag": "SalesRevenueNet",
                  "version": "us-gaap/2017",
                  "value": 2000,
                  "segments": "N/A",
                  "coreg": "N/A",
                  "label": "NumericFact"
                },
                "color": "#4CAF50",
                "styles": {},
                "label": "NumericFact",
                "scale_factor": 1,
                "type": "#4CAF50",
                "size": [
                  55,
                  55
                ],
                "position": [
                  0,
                  0
                ]
              },
              {
                "id": 13140,
                "properties": {
                  "tlabel": "Revenue, Net (Deprecated 2018-01-31)",
                  "crdr": "U",
                  "datatype": "N/A",
                  "iord": "N/A",
                  "tag": "SalesRevenueNet",
                  "version": "us-gaap/2017",
                  "label": "Tag"
                },
                "color": "#F44336",
                "styles": {},
                "label": "Tag",
                "scale_factor": 1,
                "type": "#F44336",
                "size": [
                  55,
                  55
                ],
                "position": [
                  0,
                  0
                ]
              },
              {
                "id": 68139,
                "properties": {
                  "qtrs": 0,
                  "ddate": 20161130,
                  "uom": "N/A",
                  "adsh": "0001387131-18-000116",
                  "tag": "OtherComprehensiveIncomeLossForeignCurrencyTransactionAndTranslationAdjustmentNetOfTax",
                  "version": "us-gaap/2017",
                  "value": -2623000,
                  "segments": "N/A",
                  "coreg": "N/A",
                  "label": "NumericFact"
                },
                "color": "#4CAF50",
                "styles": {},
                "label": "NumericFact",
                "scale_factor": 1,
                "type": "#4CAF50",
                "size": [
                  55,
                  55
                ],
                "position": [
                  0,
                  0
                ]
              },
              {
                "id": 11829,
                "properties": {
                  "tlabel": "Other Comprehensive Income (Loss), Foreign Currency Transaction and Translation Adjustment, Net of Tax",
                  "crdr": "U",
                  "datatype": "N/A",
                  "iord": "N/A",
                  "tag": "OtherComprehensiveIncomeLossForeignCurrencyTransactionAndTranslationAdjustmentNetOfTax",
                  "version": "us-gaap/2017",
                  "label": "Tag"
                },
                "color": "#F44336",
                "styles": {},
                "label": "Tag",
                "scale_factor": 1,
                "type": "#F44336",
                "size": [
                  55,
                  55
                ],
                "position": [
                  0,
                  0
                ]
              },
              {
                "id": 81340,
                "properties": {
                  "qtrs": 0,
                  "ddate": 20170531,
                  "uom": "N/A",
                  "adsh": "0001387131-18-000116",
                  "tag": "AssetsCurrent",
                  "version": "us-gaap/2017",
                  "value": 128357000,
                  "segments": "N/A",
                  "coreg": "N/A",
                  "label": "NumericFact"
                },
                "color": "#4CAF50",
                "styles": {},
                "label": "NumericFact",
                "scale_factor": 1,
                "type": "#4CAF50",
                "size": [
                  55,
                  55
                ],
                "position": [
                  0,
                  0
                ]
              },
              {
                "id": 9065,
                "properties": {
                  "tlabel": "Assets, Current",
                  "crdr": "U",
                  "datatype": "N/A",
                  "iord": "N/A",
                  "tag": "AssetsCurrent",
                  "version": "us-gaap/2017",
                  "label": "Tag"
                },
                "color": "#F44336",
                "styles": {},
                "label": "Tag",
                "scale_factor": 1,
                "type": "#F44336",
                "size": [
                  55,
                  55
                ],
                "position": [
                  0,
                  0
                ]
              },
              {
                "id": 84841,
                "properties": {
                  "qtrs": 0,
                  "ddate": 20161130,
                  "uom": "N/A",
                  "adsh": "0001387131-18-000116",
                  "tag": "InvestmentIncomeNet",
                  "version": "us-gaap/2017",
                  "value": 62000,
                  "segments": "N/A",
                  "coreg": "N/A",
                  "label": "NumericFact"
                },
                "color": "#4CAF50",
                "styles": {},
                "label": "NumericFact",
                "scale_factor": 1,
                "type": "#4CAF50",
                "size": [
                  55,
                  55
                ],
                "position": [
                  0,
                  0
                ]
              },
              {
                "id": 11164,
                "properties": {
                  "tlabel": "Investment Income, Net",
                  "crdr": "U",
                  "datatype": "N/A",
                  "iord": "N/A",
                  "tag": "InvestmentIncomeNet",
                  "version": "us-gaap/2017",
                  "label": "Tag"
                },
                "color": "#F44336",
                "styles": {},
                "label": "Tag",
                "scale_factor": 1,
                "type": "#F44336",
                "size": [
                  55,
                  55
                ],
                "position": [
                  0,
                  0
                ]
              },
              {
                "id": 87877,
                "properties": {
                  "qtrs": 0,
                  "ddate": 20171130,
                  "uom": "N/A",
                  "adsh": "0001387131-18-000116",
                  "tag": "Assets",
                  "version": "us-gaap/2017",
                  "value": 159986000,
                  "segments": "N/A",
                  "coreg": "N/A",
                  "label": "NumericFact"
                },
                "color": "#4CAF50",
                "styles": {},
                "label": "NumericFact",
                "scale_factor": 1,
                "type": "#4CAF50",
                "size": [
                  55,
                  55
                ],
                "position": [
                  0,
                  0
                ]
              },
              {
                "id": 9063,
                "properties": {
                  "tlabel": "Assets",
                  "crdr": "U",
                  "datatype": "N/A",
                  "iord": "N/A",
                  "tag": "Assets",
                  "version": "us-gaap/2017",
                  "label": "Tag"
                },
                "color": "#F44336",
                "styles": {},
                "label": "Tag",
                "scale_factor": 1,
                "type": "#F44336",
                "size": [
                  55,
                  55
                ],
                "position": [
                  0,
                  0
                ]
              },
              {
                "id": 97566,
                "properties": {
                  "qtrs": 0,
                  "ddate": 20170531,
                  "uom": "N/A",
                  "adsh": "0001387131-18-000116",
                  "tag": "CommonStockSharesIssued",
                  "version": "us-gaap/2017",
                  "value": 10712000,
                  "segments": "N/A",
                  "coreg": "N/A",
                  "label": "NumericFact"
                },
                "color": "#4CAF50",
                "styles": {},
                "label": "NumericFact",
                "scale_factor": 1,
                "type": "#4CAF50",
                "size": [
                  55,
                  55
                ],
                "position": [
                  0,
                  0
                ]
              },
              {
                "id": 9411,
                "properties": {
                  "tlabel": "Common Stock, Shares, Issued",
                  "crdr": "U",
                  "datatype": "N/A",
                  "iord": "N/A",
                  "tag": "CommonStockSharesIssued",
                  "version": "us-gaap/2017",
                  "label": "Tag"
                },
                "color": "#F44336",
                "styles": {},
                "label": "Tag",
                "scale_factor": 1,
                "type": "#F44336",
                "size": [
                  55,
                  55
                ],
                "position": [
                  0,
                  0
                ]
              },
              {
                "id": 99332,
                "properties": {
                  "qtrs": 0,
                  "ddate": 20171130,
                  "uom": "N/A",
                  "adsh": "0001387131-18-000116",
                  "tag": "AssetsNoncurrent",
                  "version": "us-gaap/2017",
                  "value": 28593000,
                  "segments": "N/A",
                  "coreg": "N/A",
                  "label": "NumericFact"
                },
                "color": "#4CAF50",
                "styles": {},
                "label": "NumericFact",
                "scale_factor": 1,
                "type": "#4CAF50",
                "size": [
                  55,
                  55
                ],
                "position": [
                  0,
                  0
                ]
              },
              {
                "id": 9080,
                "properties": {
                  "tlabel": "Assets, Noncurrent",
                  "crdr": "U",
                  "datatype": "N/A",
                  "iord": "N/A",
                  "tag": "AssetsNoncurrent",
                  "version": "us-gaap/2017",
                  "label": "Tag"
                },
                "color": "#F44336",
                "styles": {},
                "label": "Tag",
                "scale_factor": 1,
                "type": "#F44336",
                "size": [
                  55,
                  55
                ],
                "position": [
                  0,
                  0
                ]
              },
              {
                "id": 6,
                "properties": {
                  "period": 20171231,
                  "cik": 1601548,
                  "form": "10-K",
                  "adsh": "0001601548-18-000008",
                  "filed": 20180301,
                  "name": "VECTRUS, INC.",
                  "fp": "N/A",
                  "prevrpt": 0,
                  "detail": 0,
                  "sic": 0,
                  "wksi": 0,
                  "afs": "N/A",
                  "label": "Submission"
                },
                "color": "#2196F3",
                "styles": {},
                "label": "VECTRUS, INC.",
                "scale_factor": 1,
                "type": "#2196F3",
                "size": [
                  55,
                  55
                ],
                "position": [
                  0,
                  0
                ]
              },
              {
                "id": 61172,
                "properties": {
                  "qtrs": 0,
                  "ddate": 20171231,
                  "uom": "N/A",
                  "adsh": "0001601548-18-000008",
                  "tag": "CommonStockSharesAuthorized",
                  "version": "us-gaap/2017",
                  "value": 100000000,
                  "segments": "N/A",
                  "coreg": "N/A",
                  "label": "NumericFact"
                },
                "color": "#4CAF50",
                "styles": {},
                "label": "NumericFact",
                "scale_factor": 1,
                "type": "#4CAF50",
                "size": [
                  55,
                  55
                ],
                "position": [
                  0,
                  0
                ]
              },
              {
                "id": 9408,
                "properties": {
                  "tlabel": "Common Stock, Shares Authorized",
                  "crdr": "U",
                  "datatype": "N/A",
                  "iord": "N/A",
                  "tag": "CommonStockSharesAuthorized",
                  "version": "us-gaap/2017",
                  "label": "Tag"
                },
                "color": "#F44336",
                "styles": {},
                "label": "Tag",
                "scale_factor": 1,
                "type": "#F44336",
                "size": [
                  55,
                  55
                ],
                "position": [
                  0,
                  0
                ]
              },
              {
                "id": 71151,
                "properties": {
                  "qtrs": 0,
                  "ddate": 20161231,
                  "uom": "N/A",
                  "adsh": "0001601548-18-000008",
                  "tag": "AssetsCurrent",
                  "version": "us-gaap/2017",
                  "value": 244137000,
                  "segments": "N/A",
                  "coreg": "N/A",
                  "label": "NumericFact"
                },
                "color": "#4CAF50",
                "styles": {},
                "label": "NumericFact",
                "scale_factor": 1,
                "type": "#4CAF50",
                "size": [
                  55,
                  55
                ],
                "position": [
                  0,
                  0
                ]
              },
              {
                "id": 73371,
                "properties": {
                  "qtrs": 0,
                  "ddate": 20151231,
                  "uom": "N/A",
                  "adsh": "0001601548-18-000008",
                  "tag": "NetCashProvidedByUsedInFinancingActivities",
                  "version": "us-gaap/2017",
                  "value": -21710000,
                  "segments": "N/A",
                  "coreg": "N/A",
                  "label": "NumericFact"
                },
                "color": "#4CAF50",
                "styles": {},
                "label": "NumericFact",
                "scale_factor": 1,
                "type": "#4CAF50",
                "size": [
                  55,
                  55
                ],
                "position": [
                  0,
                  0
                ]
              },
              {
                "id": 11525,
                "properties": {
                  "tlabel": "Net Cash Provided by (Used in) Financing Activities",
                  "crdr": "U",
                  "datatype": "N/A",
                  "iord": "N/A",
                  "tag": "NetCashProvidedByUsedInFinancingActivities",
                  "version": "us-gaap/2017",
                  "label": "Tag"
                },
                "color": "#F44336",
                "styles": {},
                "label": "Tag",
                "scale_factor": 1,
                "type": "#F44336",
                "size": [
                  55,
                  55
                ],
                "position": [
                  0,
                  0
                ]
              },
              {
                "id": 80558,
                "properties": {
                  "qtrs": 0,
                  "ddate": 20160630,
                  "uom": "N/A",
                  "adsh": "0001601548-18-000008",
                  "tag": "EarningsPerShareBasic",
                  "version": "us-gaap/2017",
                  "value": 0.57,
                  "segments": "N/A",
                  "coreg": "N/A",
                  "label": "NumericFact"
                },
                "color": "#4CAF50",
                "styles": {},
                "label": "NumericFact",
                "scale_factor": 1,
                "type": "#4CAF50",
                "size": [
                  55,
                  55
                ],
                "position": [
                  0,
                  0
                ]
              },
              {
                "id": 10091,
                "properties": {
                  "tlabel": "Earnings Per Share, Basic",
                  "crdr": "U",
                  "datatype": "N/A",
                  "iord": "N/A",
                  "tag": "EarningsPerShareBasic",
                  "version": "us-gaap/2017",
                  "label": "Tag"
                },
                "color": "#F44336",
                "styles": {},
                "label": "Tag",
                "scale_factor": 1,
                "type": "#F44336",
                "size": [
                  55,
                  55
                ],
                "position": [
                  0,
                  0
                ]
              },
              {
                "id": 84515,
                "properties": {
                  "qtrs": 0,
                  "ddate": 20151231,
                  "uom": "N/A",
                  "adsh": "0001601548-18-000008",
                  "tag": "IncomeTaxExpenseBenefit",
                  "version": "us-gaap/2017",
                  "value": -3200000,
                  "segments": "N/A",
                  "coreg": "N/A",
                  "label": "NumericFact"
                },
                "color": "#4CAF50",
                "styles": {},
                "label": "NumericFact",
                "scale_factor": 1,
                "type": "#4CAF50",
                "size": [
                  55,
                  55
                ],
                "position": [
                  0,
                  0
                ]
              },
              {
                "id": 10645,
                "properties": {
                  "tlabel": "Income Tax Expense (Benefit)",
                  "crdr": "U",
                  "datatype": "N/A",
                  "iord": "N/A",
                  "tag": "IncomeTaxExpenseBenefit",
                  "version": "us-gaap/2017",
                  "label": "Tag"
                },
                "color": "#F44336",
                "styles": {},
                "label": "Tag",
                "scale_factor": 1,
                "type": "#F44336",
                "size": [
                  55,
                  55
                ],
                "position": [
                  0,
                  0
                ]
              },
              {
                "id": 84574,
                "properties": {
                  "qtrs": 0,
                  "ddate": 20161231,
                  "uom": "N/A",
                  "adsh": "0001601548-18-000008",
                  "tag": "ContractsRevenue",
                  "version": "us-gaap/2017",
                  "value": 1190519000,
                  "segments": "N/A",
                  "coreg": "N/A",
                  "label": "NumericFact"
                },
                "color": "#4CAF50",
                "styles": {},
                "label": "NumericFact",
                "scale_factor": 1,
                "type": "#4CAF50",
                "size": [
                  55,
                  55
                ],
                "position": [
                  0,
                  0
                ]
              },
              {
                "id": 9462,
                "properties": {
                  "tlabel": "Contracts Revenue (Deprecated 2018-01-31)",
                  "crdr": "U",
                  "datatype": "N/A",
                  "iord": "N/A",
                  "tag": "ContractsRevenue",
                  "version": "us-gaap/2017",
                  "label": "Tag"
                },
                "color": "#F44336",
                "styles": {},
                "label": "Tag",
                "scale_factor": 1,
                "type": "#F44336",
                "size": [
                  55,
                  55
                ],
                "position": [
                  0,
                  0
                ]
              },
              {
                "id": 91948,
                "properties": {
                  "qtrs": 0,
                  "ddate": 20151231,
                  "uom": "N/A",
                  "adsh": "0001601548-18-000008",
                  "tag": "ComprehensiveIncomeNetOfTax",
                  "version": "us-gaap/2017",
                  "value": 29761000,
                  "segments": "N/A",
                  "coreg": "N/A",
                  "label": "NumericFact"
                },
                "color": "#4CAF50",
                "styles": {},
                "label": "NumericFact",
                "scale_factor": 1,
                "type": "#4CAF50",
                "size": [
                  55,
                  55
                ],
                "position": [
                  0,
                  0
                ]
              },
              {
                "id": 9434,
                "properties": {
                  "tlabel": "Comprehensive Income (Loss), Net of Tax, Attributable to Parent",
                  "crdr": "U",
                  "datatype": "N/A",
                  "iord": "N/A",
                  "tag": "ComprehensiveIncomeNetOfTax",
                  "version": "us-gaap/2017",
                  "label": "Tag"
                },
                "color": "#F44336",
                "styles": {},
                "label": "Tag",
                "scale_factor": 1,
                "type": "#F44336",
                "size": [
                  55,
                  55
                ],
                "position": [
                  0,
                  0
                ]
              },
              {
                "id": 92958,
                "properties": {
                  "qtrs": 0,
                  "ddate": 20161231,
                  "uom": "N/A",
                  "adsh": "0001601548-18-000008",
                  "tag": "OtherAssetsNoncurrent",
                  "version": "us-gaap/2017",
                  "value": 1177000,
                  "segments": "N/A",
                  "coreg": "N/A",
                  "label": "NumericFact"
                },
                "color": "#4CAF50",
                "styles": {},
                "label": "NumericFact",
                "scale_factor": 1,
                "type": "#4CAF50",
                "size": [
                  55,
                  55
                ],
                "position": [
                  0,
                  0
                ]
              },
              {
                "id": 11756,
                "properties": {
                  "tlabel": "Other Assets, Noncurrent",
                  "crdr": "U",
                  "datatype": "N/A",
                  "iord": "N/A",
                  "tag": "OtherAssetsNoncurrent",
                  "version": "us-gaap/2017",
                  "label": "Tag"
                },
                "color": "#F44336",
                "styles": {},
                "label": "Tag",
                "scale_factor": 1,
                "type": "#F44336",
                "size": [
                  55,
                  55
                ],
                "position": [
                  0,
                  0
                ]
              },
              {
                "id": 7,
                "properties": {
                  "period": 20171231,
                  "cik": 811212,
                  "form": "10-KT",
                  "adsh": "0001437749-18-005244",
                  "filed": 20180322,
                  "name": "CESCA THERAPEUTICS INC.",
                  "fp": "N/A",
                  "prevrpt": 0,
                  "detail": 0,
                  "sic": 0,
                  "wksi": 0,
                  "afs": "N/A",
                  "label": "Submission"
                },
                "color": "#2196F3",
                "styles": {},
                "label": "CESCA THERAPEUTICS INC.",
                "scale_factor": 1,
                "type": "#2196F3",
                "size": [
                  55,
                  55
                ],
                "position": [
                  0,
                  0
                ]
              },
              {
                "id": 58810,
                "properties": {
                  "qtrs": 0,
                  "ddate": 20170630,
                  "uom": "N/A",
                  "adsh": "0001437749-18-005244",
                  "tag": "OtherLiabilitiesNoncurrent",
                  "version": "us-gaap/2017",
                  "value": 377000,
                  "segments": "N/A",
                  "coreg": "N/A",
                  "label": "NumericFact"
                },
                "color": "#4CAF50",
                "styles": {},
                "label": "NumericFact",
                "scale_factor": 1,
                "type": "#4CAF50",
                "size": [
                  55,
                  55
                ],
                "position": [
                  0,
                  0
                ]
              },
              {
                "id": 11957,
                "properties": {
                  "tlabel": "Other Liabilities, Noncurrent",
                  "crdr": "U",
                  "datatype": "N/A",
                  "iord": "N/A",
                  "tag": "OtherLiabilitiesNoncurrent",
                  "version": "us-gaap/2017",
                  "label": "Tag"
                },
                "color": "#F44336",
                "styles": {},
                "label": "Tag",
                "scale_factor": 1,
                "type": "#F44336",
                "size": [
                  55,
                  55
                ],
                "position": [
                  0,
                  0
                ]
              },
              {
                "id": 67569,
                "properties": {
                  "qtrs": 0,
                  "ddate": 20160630,
                  "uom": "N/A",
                  "adsh": "0001437749-18-005244",
                  "tag": "StockIssuedDuringPeriodValueNewIssues",
                  "version": "us-gaap/2017",
                  "value": 1000,
                  "segments": "N/A",
                  "coreg": "N/A",
                  "label": "NumericFact"
                },
                "color": "#4CAF50",
                "styles": {},
                "label": "NumericFact",
                "scale_factor": 1,
                "type": "#4CAF50",
                "size": [
                  55,
                  55
                ],
                "position": [
                  0,
                  0
                ]
              },
              {
                "id": 13334,
                "properties": {
                  "tlabel": "Stock Issued During Period, Value, New Issues",
                  "crdr": "U",
                  "datatype": "N/A",
                  "iord": "N/A",
                  "tag": "StockIssuedDuringPeriodValueNewIssues",
                  "version": "us-gaap/2017",
                  "label": "Tag"
                },
                "color": "#F44336",
                "styles": {},
                "label": "Tag",
                "scale_factor": 1,
                "type": "#F44336",
                "size": [
                  55,
                  55
                ],
                "position": [
                  0,
                  0
                ]
              },
              {
                "id": 73174,
                "properties": {
                  "qtrs": 0,
                  "ddate": 20170630,
                  "uom": "N/A",
                  "adsh": "0001437749-18-005244",
                  "tag": "ProfitLoss",
                  "version": "us-gaap/2017",
                  "value": -29095000,
                  "segments": "N/A",
                  "coreg": "N/A",
                  "label": "NumericFact"
                },
                "color": "#4CAF50",
                "styles": {},
                "label": "NumericFact",
                "scale_factor": 1,
                "type": "#4CAF50",
                "size": [
                  55,
                  55
                ],
                "position": [
                  0,
                  0
                ]
              },
              {
                "id": 12747,
                "properties": {
                  "tlabel": "Net Income (Loss), Including Portion Attributable to Noncontrolling Interest",
                  "crdr": "U",
                  "datatype": "N/A",
                  "iord": "N/A",
                  "tag": "ProfitLoss",
                  "version": "us-gaap/2017",
                  "label": "Tag"
                },
                "color": "#F44336",
                "styles": {},
                "label": "Tag",
                "scale_factor": 1,
                "type": "#F44336",
                "size": [
                  55,
                  55
                ],
                "position": [
                  0,
                  0
                ]
              },
              {
                "id": 77967,
                "properties": {
                  "qtrs": 0,
                  "ddate": 20160630,
                  "uom": "N/A",
                  "adsh": "0001437749-18-005244",
                  "tag": "PreferredStockSharesAuthorized",
                  "version": "us-gaap/2017",
                  "value": 2000000,
                  "segments": "N/A",
                  "coreg": "N/A",
                  "label": "NumericFact"
                },
                "color": "#4CAF50",
                "styles": {},
                "label": "NumericFact",
                "scale_factor": 1,
                "type": "#4CAF50",
                "size": [
                  55,
                  55
                ],
                "position": [
                  0,
                  0
                ]
              },
              {
                "id": 12419,
                "properties": {
                  "tlabel": "Preferred Stock, Shares Authorized",
                  "crdr": "U",
                  "datatype": "N/A",
                  "iord": "N/A",
                  "tag": "PreferredStockSharesAuthorized",
                  "version": "us-gaap/2017",
                  "label": "Tag"
                },
                "color": "#F44336",
                "styles": {},
                "label": "Tag",
                "scale_factor": 1,
                "type": "#F44336",
                "size": [
                  55,
                  55
                ],
                "position": [
                  0,
                  0
                ]
              },
              {
                "id": 83483,
                "properties": {
                  "qtrs": 0,
                  "ddate": 20171231,
                  "uom": "N/A",
                  "adsh": "0001437749-18-005244",
                  "tag": "StockIssuedDuringPeriodValueAcquisitions",
                  "version": "us-gaap/2017",
                  "value": 2528000,
                  "segments": "N/A",
                  "coreg": "N/A",
                  "label": "NumericFact"
                },
                "color": "#4CAF50",
                "styles": {},
                "label": "NumericFact",
                "scale_factor": 1,
                "type": "#4CAF50",
                "size": [
                  55,
                  55
                ],
                "position": [
                  0,
                  0
                ]
              },
              {
                "id": 13324,
                "properties": {
                  "tlabel": "Stock Issued During Period, Value, Acquisitions",
                  "crdr": "U",
                  "datatype": "N/A",
                  "iord": "N/A",
                  "tag": "StockIssuedDuringPeriodValueAcquisitions",
                  "version": "us-gaap/2017",
                  "label": "Tag"
                },
                "color": "#F44336",
                "styles": {},
                "label": "Tag",
                "scale_factor": 1,
                "type": "#F44336",
                "size": [
                  55,
                  55
                ],
                "position": [
                  0,
                  0
                ]
              },
              {
                "id": 90020,
                "properties": {
                  "qtrs": 0,
                  "ddate": 20160630,
                  "uom": "N/A",
                  "adsh": "0001437749-18-005244",
                  "tag": "AccountsReceivableNetCurrent",
                  "version": "us-gaap/2017",
                  "value": 620000,
                  "segments": "N/A",
                  "coreg": "N/A",
                  "label": "NumericFact"
                },
                "color": "#4CAF50",
                "styles": {},
                "label": "NumericFact",
                "scale_factor": 1,
                "type": "#4CAF50",
                "size": [
                  55,
                  55
                ],
                "position": [
                  0,
                  0
                ]
              },
              {
                "id": 8800,
                "properties": {
                  "tlabel": "Accounts Receivable, after Allowance for Credit Loss, Current",
                  "crdr": "U",
                  "datatype": "N/A",
                  "iord": "N/A",
                  "tag": "AccountsReceivableNetCurrent",
                  "version": "us-gaap/2017",
                  "label": "Tag"
                },
                "color": "#F44336",
                "styles": {},
                "label": "Tag",
                "scale_factor": 1,
                "type": "#F44336",
                "size": [
                  55,
                  55
                ],
                "position": [
                  0,
                  0
                ]
              },
              {
                "id": 90526,
                "properties": {
                  "qtrs": 0,
                  "ddate": 20160630,
                  "uom": "N/A",
                  "adsh": "0001437749-18-005244",
                  "tag": "SalesRevenueNet",
                  "version": "us-gaap/2017",
                  "value": 5122000,
                  "segments": "N/A",
                  "coreg": "N/A",
                  "label": "NumericFact"
                },
                "color": "#4CAF50",
                "styles": {},
                "label": "NumericFact",
                "scale_factor": 1,
                "type": "#4CAF50",
                "size": [
                  55,
                  55
                ],
                "position": [
                  0,
                  0
                ]
              },
              {
                "id": 94600,
                "properties": {
                  "qtrs": 0,
                  "ddate": 20160630,
                  "uom": "N/A",
                  "adsh": "0001437749-18-005244",
                  "tag": "IncreaseDecreaseInInventories",
                  "version": "us-gaap/2017",
                  "value": -375000,
                  "segments": "N/A",
                  "coreg": "N/A",
                  "label": "NumericFact"
                },
                "color": "#4CAF50",
                "styles": {},
                "label": "NumericFact",
                "scale_factor": 1,
                "type": "#4CAF50",
                "size": [
                  55,
                  55
                ],
                "position": [
                  0,
                  0
                ]
              },
              {
                "id": 10786,
                "properties": {
                  "tlabel": "Increase (Decrease) in Inventories",
                  "crdr": "U",
                  "datatype": "N/A",
                  "iord": "N/A",
                  "tag": "IncreaseDecreaseInInventories",
                  "version": "us-gaap/2017",
                  "label": "Tag"
                },
                "color": "#F44336",
                "styles": {},
                "label": "Tag",
                "scale_factor": 1,
                "type": "#F44336",
                "size": [
                  55,
                  55
                ],
                "position": [
                  0,
                  0
                ]
              }
            ],
            "_overview": {
              "enabled": null,
              "overview_set": false
            },
            "_selected_graph": [
              [],
              []
            ],
            "_sidebar": {
              "enabled": false,
              "start_with": null
            },
            "_view_count": null,
            "_view_module": "yfiles-jupyter-graphs",
            "_view_module_version": "^1.10.1",
            "_view_name": "GraphView",
            "layout": "IPY_MODEL_0eb0b9d0b72b4e18b9f79bc810f0882e",
            "tabbable": null,
            "tooltip": null
          }
        },
        "0eb0b9d0b72b4e18b9f79bc810f0882e": {
          "model_module": "@jupyter-widgets/base",
          "model_name": "LayoutModel",
          "model_module_version": "2.0.0",
          "state": {
            "_model_module": "@jupyter-widgets/base",
            "_model_module_version": "2.0.0",
            "_model_name": "LayoutModel",
            "_view_count": null,
            "_view_module": "@jupyter-widgets/base",
            "_view_module_version": "2.0.0",
            "_view_name": "LayoutView",
            "align_content": null,
            "align_items": null,
            "align_self": null,
            "border_bottom": null,
            "border_left": null,
            "border_right": null,
            "border_top": null,
            "bottom": null,
            "display": null,
            "flex": null,
            "flex_flow": null,
            "grid_area": null,
            "grid_auto_columns": null,
            "grid_auto_flow": null,
            "grid_auto_rows": null,
            "grid_column": null,
            "grid_gap": null,
            "grid_row": null,
            "grid_template_areas": null,
            "grid_template_columns": null,
            "grid_template_rows": null,
            "height": "800px",
            "justify_content": null,
            "justify_items": null,
            "left": null,
            "margin": null,
            "max_height": null,
            "max_width": null,
            "min_height": null,
            "min_width": null,
            "object_fit": null,
            "object_position": null,
            "order": null,
            "overflow": null,
            "padding": null,
            "right": null,
            "top": null,
            "visibility": null,
            "width": "100%"
          }
        },
        "20db2c7c20764cfe817ec828dd712c91": {
          "model_module": "yfiles-jupyter-graphs",
          "model_name": "GraphModel",
          "model_module_version": "^1.10.1",
          "state": {
            "_context_pane_mapping": [
              {
                "id": "Neighborhood",
                "title": "Neighborhood"
              },
              {
                "id": "Data",
                "title": "Data"
              },
              {
                "id": "Search",
                "title": "Search"
              },
              {
                "id": "About",
                "title": "About"
              }
            ],
            "_data_importer": "neo4j",
            "_directed": true,
            "_dom_classes": [],
            "_edges": [
              {
                "id": 6917531226664441000,
                "start": 472,
                "end": 103127,
                "properties": {
                  "label": "HAS_PRESENTATION"
                },
                "color": "#607D8B",
                "thickness_factor": 1,
                "directed": true,
                "styles": {},
                "label": "HAS_PRESENTATION"
              },
              {
                "id": 1179946400906056400,
                "start": 103127,
                "end": 5997,
                "properties": {
                  "label": "LINKS_TO_TAG"
                },
                "color": "#673AB7",
                "thickness_factor": 1,
                "directed": true,
                "styles": {},
                "label": "LINKS_TO_TAG"
              },
              {
                "id": 1155176602955518700,
                "start": 103127,
                "end": 5999,
                "properties": {
                  "label": "LINKS_TO_TAG"
                },
                "color": "#673AB7",
                "thickness_factor": 1,
                "directed": true,
                "styles": {},
                "label": "LINKS_TO_TAG"
              },
              {
                "id": 1186701800347112200,
                "start": 103127,
                "end": 6034,
                "properties": {
                  "label": "LINKS_TO_TAG"
                },
                "color": "#673AB7",
                "thickness_factor": 1,
                "directed": true,
                "styles": {},
                "label": "LINKS_TO_TAG"
              },
              {
                "id": 1206967998670279400,
                "start": 103127,
                "end": 6061,
                "properties": {
                  "label": "LINKS_TO_TAG"
                },
                "color": "#673AB7",
                "thickness_factor": 1,
                "directed": true,
                "styles": {},
                "label": "LINKS_TO_TAG"
              },
              {
                "id": 1177694601092371200,
                "start": 103127,
                "end": 6070,
                "properties": {
                  "label": "LINKS_TO_TAG"
                },
                "color": "#673AB7",
                "thickness_factor": 1,
                "directed": true,
                "styles": {},
                "label": "LINKS_TO_TAG"
              },
              {
                "id": 1215975197925020400,
                "start": 103127,
                "end": 6107,
                "properties": {
                  "label": "LINKS_TO_TAG"
                },
                "color": "#673AB7",
                "thickness_factor": 1,
                "directed": true,
                "styles": {},
                "label": "LINKS_TO_TAG"
              },
              {
                "id": 1191205399974482700,
                "start": 103127,
                "end": 6161,
                "properties": {
                  "label": "LINKS_TO_TAG"
                },
                "color": "#673AB7",
                "thickness_factor": 1,
                "directed": true,
                "styles": {},
                "label": "LINKS_TO_TAG"
              },
              {
                "id": 1175442801278686000,
                "start": 103127,
                "end": 6162,
                "properties": {
                  "label": "LINKS_TO_TAG"
                },
                "color": "#673AB7",
                "thickness_factor": 1,
                "directed": true,
                "styles": {},
                "label": "LINKS_TO_TAG"
              },
              {
                "id": 1166435602023945000,
                "start": 103127,
                "end": 6163,
                "properties": {
                  "label": "LINKS_TO_TAG"
                },
                "color": "#673AB7",
                "thickness_factor": 1,
                "directed": true,
                "styles": {},
                "label": "LINKS_TO_TAG"
              },
              {
                "id": 1184450000533427000,
                "start": 103127,
                "end": 6251,
                "properties": {
                  "label": "LINKS_TO_TAG"
                },
                "color": "#673AB7",
                "thickness_factor": 1,
                "directed": true,
                "styles": {},
                "label": "LINKS_TO_TAG"
              },
              {
                "id": 1193457199788168000,
                "start": 103127,
                "end": 6253,
                "properties": {
                  "label": "LINKS_TO_TAG"
                },
                "color": "#673AB7",
                "thickness_factor": 1,
                "directed": true,
                "styles": {},
                "label": "LINKS_TO_TAG"
              },
              {
                "id": 1152924803141833500,
                "start": 103127,
                "end": 6286,
                "properties": {
                  "label": "LINKS_TO_TAG"
                },
                "color": "#673AB7",
                "thickness_factor": 1,
                "directed": true,
                "styles": {},
                "label": "LINKS_TO_TAG"
              },
              {
                "id": 1357838586187191000,
                "start": 103127,
                "end": 6287,
                "properties": {
                  "label": "LINKS_TO_TAG"
                },
                "color": "#673AB7",
                "thickness_factor": 1,
                "directed": true,
                "styles": {},
                "label": "LINKS_TO_TAG"
              },
              {
                "id": 1200212599229223700,
                "start": 103127,
                "end": 6299,
                "properties": {
                  "label": "LINKS_TO_TAG"
                },
                "color": "#673AB7",
                "thickness_factor": 1,
                "directed": true,
                "styles": {},
                "label": "LINKS_TO_TAG"
              },
              {
                "id": 1227234196993446700,
                "start": 103127,
                "end": 6300,
                "properties": {
                  "label": "LINKS_TO_TAG"
                },
                "color": "#673AB7",
                "thickness_factor": 1,
                "directed": true,
                "styles": {},
                "label": "LINKS_TO_TAG"
              },
              {
                "id": 1297039991217689300,
                "start": 103127,
                "end": 6301,
                "properties": {
                  "label": "LINKS_TO_TAG"
                },
                "color": "#673AB7",
                "thickness_factor": 1,
                "directed": true,
                "styles": {},
                "label": "LINKS_TO_TAG"
              },
              {
                "id": 1229485996807132000,
                "start": 103127,
                "end": 6305,
                "properties": {
                  "label": "LINKS_TO_TAG"
                },
                "color": "#673AB7",
                "thickness_factor": 1,
                "directed": true,
                "styles": {},
                "label": "LINKS_TO_TAG"
              },
              {
                "id": 1224982397179761400,
                "start": 103127,
                "end": 6315,
                "properties": {
                  "label": "LINKS_TO_TAG"
                },
                "color": "#673AB7",
                "thickness_factor": 1,
                "directed": true,
                "styles": {},
                "label": "LINKS_TO_TAG"
              },
              {
                "id": 1204716198856594200,
                "start": 103127,
                "end": 6318,
                "properties": {
                  "label": "LINKS_TO_TAG"
                },
                "color": "#673AB7",
                "thickness_factor": 1,
                "directed": true,
                "styles": {},
                "label": "LINKS_TO_TAG"
              },
              {
                "id": 1231737796620817200,
                "start": 103127,
                "end": 6331,
                "properties": {
                  "label": "LINKS_TO_TAG"
                },
                "color": "#673AB7",
                "thickness_factor": 1,
                "directed": true,
                "styles": {},
                "label": "LINKS_TO_TAG"
              },
              {
                "id": 1256507594571355000,
                "start": 103127,
                "end": 6382,
                "properties": {
                  "label": "LINKS_TO_TAG"
                },
                "color": "#673AB7",
                "thickness_factor": 1,
                "directed": true,
                "styles": {},
                "label": "LINKS_TO_TAG"
              },
              {
                "id": 1274521993080836900,
                "start": 103127,
                "end": 6422,
                "properties": {
                  "label": "LINKS_TO_TAG"
                },
                "color": "#673AB7",
                "thickness_factor": 1,
                "directed": true,
                "styles": {},
                "label": "LINKS_TO_TAG"
              },
              {
                "id": 1261011194198725400,
                "start": 103127,
                "end": 6481,
                "properties": {
                  "label": "LINKS_TO_TAG"
                },
                "color": "#673AB7",
                "thickness_factor": 1,
                "directed": true,
                "styles": {},
                "label": "LINKS_TO_TAG"
              },
              {
                "id": 1195708999601853200,
                "start": 103127,
                "end": 6488,
                "properties": {
                  "label": "LINKS_TO_TAG"
                },
                "color": "#673AB7",
                "thickness_factor": 1,
                "directed": true,
                "styles": {},
                "label": "LINKS_TO_TAG"
              },
              {
                "id": 1276773792894522000,
                "start": 103127,
                "end": 6516,
                "properties": {
                  "label": "LINKS_TO_TAG"
                },
                "color": "#673AB7",
                "thickness_factor": 1,
                "directed": true,
                "styles": {},
                "label": "LINKS_TO_TAG"
              },
              {
                "id": 1254255794757669600,
                "start": 103127,
                "end": 6574,
                "properties": {
                  "label": "LINKS_TO_TAG"
                },
                "color": "#673AB7",
                "thickness_factor": 1,
                "directed": true,
                "styles": {},
                "label": "LINKS_TO_TAG"
              },
              {
                "id": 1360090386000876300,
                "start": 103127,
                "end": 6691,
                "properties": {
                  "label": "LINKS_TO_TAG"
                },
                "color": "#673AB7",
                "thickness_factor": 1,
                "directed": true,
                "styles": {},
                "label": "LINKS_TO_TAG"
              },
              {
                "id": 1292536391590318800,
                "start": 103127,
                "end": 6700,
                "properties": {
                  "label": "LINKS_TO_TAG"
                },
                "color": "#673AB7",
                "thickness_factor": 1,
                "directed": true,
                "styles": {},
                "label": "LINKS_TO_TAG"
              },
              {
                "id": 1159680202582889200,
                "start": 103127,
                "end": 6712,
                "properties": {
                  "label": "LINKS_TO_TAG"
                },
                "color": "#673AB7",
                "thickness_factor": 1,
                "directed": true,
                "styles": {},
                "label": "LINKS_TO_TAG"
              },
              {
                "id": 1182198200719741700,
                "start": 103127,
                "end": 6716,
                "properties": {
                  "label": "LINKS_TO_TAG"
                },
                "color": "#673AB7",
                "thickness_factor": 1,
                "directed": true,
                "styles": {},
                "label": "LINKS_TO_TAG"
              },
              {
                "id": 1157428402769204000,
                "start": 103127,
                "end": 6728,
                "properties": {
                  "label": "LINKS_TO_TAG"
                },
                "color": "#673AB7",
                "thickness_factor": 1,
                "directed": true,
                "styles": {},
                "label": "LINKS_TO_TAG"
              },
              {
                "id": 1263262994012410600,
                "start": 103127,
                "end": 6733,
                "properties": {
                  "label": "LINKS_TO_TAG"
                },
                "color": "#673AB7",
                "thickness_factor": 1,
                "directed": true,
                "styles": {},
                "label": "LINKS_TO_TAG"
              },
              {
                "id": 1301543590845059800,
                "start": 103127,
                "end": 6835,
                "properties": {
                  "label": "LINKS_TO_TAG"
                },
                "color": "#673AB7",
                "thickness_factor": 1,
                "directed": true,
                "styles": {},
                "label": "LINKS_TO_TAG"
              },
              {
                "id": 1252003994943984400,
                "start": 103127,
                "end": 6896,
                "properties": {
                  "label": "LINKS_TO_TAG"
                },
                "color": "#673AB7",
                "thickness_factor": 1,
                "directed": true,
                "styles": {},
                "label": "LINKS_TO_TAG"
              },
              {
                "id": 1249752195130299100,
                "start": 103127,
                "end": 6919,
                "properties": {
                  "label": "LINKS_TO_TAG"
                },
                "color": "#673AB7",
                "thickness_factor": 1,
                "directed": true,
                "styles": {},
                "label": "LINKS_TO_TAG"
              },
              {
                "id": 1288032791962948400,
                "start": 103127,
                "end": 6927,
                "properties": {
                  "label": "LINKS_TO_TAG"
                },
                "color": "#673AB7",
                "thickness_factor": 1,
                "directed": true,
                "styles": {},
                "label": "LINKS_TO_TAG"
              },
              {
                "id": 1281277392521892600,
                "start": 103127,
                "end": 6942,
                "properties": {
                  "label": "LINKS_TO_TAG"
                },
                "color": "#673AB7",
                "thickness_factor": 1,
                "directed": true,
                "styles": {},
                "label": "LINKS_TO_TAG"
              },
              {
                "id": 1279025592708207400,
                "start": 103127,
                "end": 6955,
                "properties": {
                  "label": "LINKS_TO_TAG"
                },
                "color": "#673AB7",
                "thickness_factor": 1,
                "directed": true,
                "styles": {},
                "label": "LINKS_TO_TAG"
              },
              {
                "id": 1299291791031374600,
                "start": 103127,
                "end": 6958,
                "properties": {
                  "label": "LINKS_TO_TAG"
                },
                "color": "#673AB7",
                "thickness_factor": 1,
                "directed": true,
                "styles": {},
                "label": "LINKS_TO_TAG"
              },
              {
                "id": 1317306189540856600,
                "start": 103127,
                "end": 6961,
                "properties": {
                  "label": "LINKS_TO_TAG"
                },
                "color": "#673AB7",
                "thickness_factor": 1,
                "directed": true,
                "styles": {},
                "label": "LINKS_TO_TAG"
              },
              {
                "id": 1328565188609282800,
                "start": 103127,
                "end": 6965,
                "properties": {
                  "label": "LINKS_TO_TAG"
                },
                "color": "#673AB7",
                "thickness_factor": 1,
                "directed": true,
                "styles": {},
                "label": "LINKS_TO_TAG"
              },
              {
                "id": 1330816988422968000,
                "start": 103127,
                "end": 6971,
                "properties": {
                  "label": "LINKS_TO_TAG"
                },
                "color": "#673AB7",
                "thickness_factor": 1,
                "directed": true,
                "styles": {},
                "label": "LINKS_TO_TAG"
              },
              {
                "id": 1272270193267151600,
                "start": 103127,
                "end": 6978,
                "properties": {
                  "label": "LINKS_TO_TAG"
                },
                "color": "#673AB7",
                "thickness_factor": 1,
                "directed": true,
                "styles": {},
                "label": "LINKS_TO_TAG"
              },
              {
                "id": 1312802589913486000,
                "start": 103127,
                "end": 6982,
                "properties": {
                  "label": "LINKS_TO_TAG"
                },
                "color": "#673AB7",
                "thickness_factor": 1,
                "directed": true,
                "styles": {},
                "label": "LINKS_TO_TAG"
              },
              {
                "id": 1161932002396574500,
                "start": 103127,
                "end": 6986,
                "properties": {
                  "label": "LINKS_TO_TAG"
                },
                "color": "#673AB7",
                "thickness_factor": 1,
                "directed": true,
                "styles": {},
                "label": "LINKS_TO_TAG"
              },
              {
                "id": 1319557989354541800,
                "start": 103127,
                "end": 6990,
                "properties": {
                  "label": "LINKS_TO_TAG"
                },
                "color": "#673AB7",
                "thickness_factor": 1,
                "directed": true,
                "styles": {},
                "label": "LINKS_TO_TAG"
              },
              {
                "id": 1346579587118764800,
                "start": 103127,
                "end": 7004,
                "properties": {
                  "label": "LINKS_TO_TAG"
                },
                "color": "#673AB7",
                "thickness_factor": 1,
                "directed": true,
                "styles": {},
                "label": "LINKS_TO_TAG"
              },
              {
                "id": 1324061588981912300,
                "start": 103127,
                "end": 7041,
                "properties": {
                  "label": "LINKS_TO_TAG"
                },
                "color": "#673AB7",
                "thickness_factor": 1,
                "directed": true,
                "styles": {},
                "label": "LINKS_TO_TAG"
              },
              {
                "id": 1321809789168227000,
                "start": 103127,
                "end": 7061,
                "properties": {
                  "label": "LINKS_TO_TAG"
                },
                "color": "#673AB7",
                "thickness_factor": 1,
                "directed": true,
                "styles": {},
                "label": "LINKS_TO_TAG"
              },
              {
                "id": 1326313388795597600,
                "start": 103127,
                "end": 7119,
                "properties": {
                  "label": "LINKS_TO_TAG"
                },
                "color": "#673AB7",
                "thickness_factor": 1,
                "directed": true,
                "styles": {},
                "label": "LINKS_TO_TAG"
              }
            ],
            "_graph_layout": {
              "algorithm": "organic",
              "options": {}
            },
            "_highlight": [],
            "_license": {},
            "_model_module": "yfiles-jupyter-graphs",
            "_model_module_version": "^1.10.1",
            "_model_name": "GraphModel",
            "_neighborhood": {},
            "_nodes": [
              {
                "id": 472,
                "properties": {
                  "period": 20171231,
                  "cik": 2178,
                  "form": "10-K",
                  "adsh": "0000002178-18-000009",
                  "filed": 20180312,
                  "name": "ADAMS RESOURCES & ENERGY, INC.",
                  "fp": "N/A",
                  "prevrpt": 0,
                  "detail": 0,
                  "sic": 0,
                  "wksi": 0,
                  "afs": "N/A",
                  "label": "Submission"
                },
                "color": "#2196F3",
                "styles": {},
                "label": "ADAMS RESOURCES & ENERGY, INC.",
                "scale_factor": 1,
                "type": "#2196F3",
                "size": [
                  55,
                  55
                ],
                "position": [
                  0,
                  0
                ]
              },
              {
                "id": 103127,
                "properties": {
                  "inpth": "N/A",
                  "adsh": "0000002178-18-000009",
                  "line": 0,
                  "report": 0,
                  "negating": "N/A",
                  "plabel": "Cash and cash equivalents",
                  "stmt": "N/A",
                  "label": "Presentation"
                },
                "color": "#4CAF50",
                "styles": {},
                "label": "Presentation",
                "scale_factor": 1,
                "type": "#4CAF50",
                "size": [
                  55,
                  55
                ],
                "position": [
                  0,
                  0
                ]
              },
              {
                "id": 5997,
                "properties": {
                  "tlabel": "Accounts Payable, Related Parties, Current",
                  "crdr": "U",
                  "datatype": "N/A",
                  "iord": "N/A",
                  "tag": "AccountsPayableRelatedPartiesCurrent",
                  "version": "us-gaap/2016",
                  "label": "Tag"
                },
                "color": "#F44336",
                "styles": {},
                "label": "Tag",
                "scale_factor": 1,
                "type": "#F44336",
                "size": [
                  55,
                  55
                ],
                "position": [
                  0,
                  0
                ]
              },
              {
                "id": 5999,
                "properties": {
                  "tlabel": "Accounts Receivable, after Allowance for Credit Loss, Current",
                  "crdr": "U",
                  "datatype": "N/A",
                  "iord": "N/A",
                  "tag": "AccountsReceivableNetCurrent",
                  "version": "us-gaap/2016",
                  "label": "Tag"
                },
                "color": "#F44336",
                "styles": {},
                "label": "Tag",
                "scale_factor": 1,
                "type": "#F44336",
                "size": [
                  55,
                  55
                ],
                "position": [
                  0,
                  0
                ]
              },
              {
                "id": 6034,
                "properties": {
                  "tlabel": "Accrued Liabilities and Other Liabilities",
                  "crdr": "U",
                  "datatype": "N/A",
                  "iord": "N/A",
                  "tag": "AccruedLiabilitiesAndOtherLiabilities",
                  "version": "us-gaap/2016",
                  "label": "Tag"
                },
                "color": "#F44336",
                "styles": {},
                "label": "Tag",
                "scale_factor": 1,
                "type": "#F44336",
                "size": [
                  55,
                  55
                ],
                "position": [
                  0,
                  0
                ]
              },
              {
                "id": 6061,
                "properties": {
                  "tlabel": "Additional Paid in Capital",
                  "crdr": "U",
                  "datatype": "N/A",
                  "iord": "N/A",
                  "tag": "AdditionalPaidInCapital",
                  "version": "us-gaap/2016",
                  "label": "Tag"
                },
                "color": "#F44336",
                "styles": {},
                "label": "Tag",
                "scale_factor": 1,
                "type": "#F44336",
                "size": [
                  55,
                  55
                ],
                "position": [
                  0,
                  0
                ]
              },
              {
                "id": 6070,
                "properties": {
                  "tlabel": "Accounts Payable, Current",
                  "crdr": "U",
                  "datatype": "N/A",
                  "iord": "N/A",
                  "tag": "AccountsPayableCurrent",
                  "version": "us-gaap/2016",
                  "label": "Tag"
                },
                "color": "#F44336",
                "styles": {},
                "label": "Tag",
                "scale_factor": 1,
                "type": "#F44336",
                "size": [
                  55,
                  55
                ],
                "position": [
                  0,
                  0
                ]
              },
              {
                "id": 6107,
                "properties": {
                  "tlabel": "Accounts Receivable, Allowance for Credit Loss, Current",
                  "crdr": "U",
                  "datatype": "N/A",
                  "iord": "N/A",
                  "tag": "AllowanceForDoubtfulAccountsReceivableCurrent",
                  "version": "us-gaap/2016",
                  "label": "Tag"
                },
                "color": "#F44336",
                "styles": {},
                "label": "Tag",
                "scale_factor": 1,
                "type": "#F44336",
                "size": [
                  55,
                  55
                ],
                "position": [
                  0,
                  0
                ]
              },
              {
                "id": 6161,
                "properties": {
                  "tlabel": "Asset Retirement Obligations, Noncurrent",
                  "crdr": "U",
                  "datatype": "N/A",
                  "iord": "N/A",
                  "tag": "AssetRetirementObligationsNoncurrent",
                  "version": "us-gaap/2016",
                  "label": "Tag"
                },
                "color": "#F44336",
                "styles": {},
                "label": "Tag",
                "scale_factor": 1,
                "type": "#F44336",
                "size": [
                  55,
                  55
                ],
                "position": [
                  0,
                  0
                ]
              },
              {
                "id": 6162,
                "properties": {
                  "tlabel": "Assets",
                  "crdr": "U",
                  "datatype": "N/A",
                  "iord": "N/A",
                  "tag": "Assets",
                  "version": "us-gaap/2016",
                  "label": "Tag"
                },
                "color": "#F44336",
                "styles": {},
                "label": "Tag",
                "scale_factor": 1,
                "type": "#F44336",
                "size": [
                  55,
                  55
                ],
                "position": [
                  0,
                  0
                ]
              },
              {
                "id": 6163,
                "properties": {
                  "tlabel": "Assets, Current",
                  "crdr": "U",
                  "datatype": "N/A",
                  "iord": "N/A",
                  "tag": "AssetsCurrent",
                  "version": "us-gaap/2016",
                  "label": "Tag"
                },
                "color": "#F44336",
                "styles": {},
                "label": "Tag",
                "scale_factor": 1,
                "type": "#F44336",
                "size": [
                  55,
                  55
                ],
                "position": [
                  0,
                  0
                ]
              },
              {
                "id": 6251,
                "properties": {
                  "tlabel": "Capital Lease Obligations, Current",
                  "crdr": "U",
                  "datatype": "N/A",
                  "iord": "N/A",
                  "tag": "CapitalLeaseObligationsCurrent",
                  "version": "us-gaap/2016",
                  "label": "Tag"
                },
                "color": "#F44336",
                "styles": {},
                "label": "Tag",
                "scale_factor": 1,
                "type": "#F44336",
                "size": [
                  55,
                  55
                ],
                "position": [
                  0,
                  0
                ]
              },
              {
                "id": 6253,
                "properties": {
                  "tlabel": "Capital Lease Obligations, Noncurrent",
                  "crdr": "U",
                  "datatype": "N/A",
                  "iord": "N/A",
                  "tag": "CapitalLeaseObligationsNoncurrent",
                  "version": "us-gaap/2016",
                  "label": "Tag"
                },
                "color": "#F44336",
                "styles": {},
                "label": "Tag",
                "scale_factor": 1,
                "type": "#F44336",
                "size": [
                  55,
                  55
                ],
                "position": [
                  0,
                  0
                ]
              },
              {
                "id": 6286,
                "properties": {
                  "tlabel": "Cash and Cash Equivalents, at Carrying Value",
                  "crdr": "U",
                  "datatype": "N/A",
                  "iord": "N/A",
                  "tag": "CashAndCashEquivalentsAtCarryingValue",
                  "version": "us-gaap/2016",
                  "label": "Tag"
                },
                "color": "#F44336",
                "styles": {},
                "label": "Tag",
                "scale_factor": 1,
                "type": "#F44336",
                "size": [
                  55,
                  55
                ],
                "position": [
                  0,
                  0
                ]
              },
              {
                "id": 6287,
                "properties": {
                  "tlabel": "Cash and Cash Equivalents, Period Increase (Decrease)",
                  "crdr": "U",
                  "datatype": "N/A",
                  "iord": "N/A",
                  "tag": "CashAndCashEquivalentsPeriodIncreaseDecrease",
                  "version": "us-gaap/2016",
                  "label": "Tag"
                },
                "color": "#F44336",
                "styles": {},
                "label": "Tag",
                "scale_factor": 1,
                "type": "#F44336",
                "size": [
                  55,
                  55
                ],
                "position": [
                  0,
                  0
                ]
              },
              {
                "id": 6299,
                "properties": {
                  "tlabel": "Commitments and Contingencies",
                  "crdr": "U",
                  "datatype": "N/A",
                  "iord": "N/A",
                  "tag": "CommitmentsAndContingencies",
                  "version": "us-gaap/2016",
                  "label": "Tag"
                },
                "color": "#F44336",
                "styles": {},
                "label": "Tag",
                "scale_factor": 1,
                "type": "#F44336",
                "size": [
                  55,
                  55
                ],
                "position": [
                  0,
                  0
                ]
              },
              {
                "id": 6300,
                "properties": {
                  "tlabel": "Common Stock, Shares Authorized",
                  "crdr": "U",
                  "datatype": "N/A",
                  "iord": "N/A",
                  "tag": "CommonStockSharesAuthorized",
                  "version": "us-gaap/2016",
                  "label": "Tag"
                },
                "color": "#F44336",
                "styles": {},
                "label": "Tag",
                "scale_factor": 1,
                "type": "#F44336",
                "size": [
                  55,
                  55
                ],
                "position": [
                  0,
                  0
                ]
              },
              {
                "id": 6301,
                "properties": {
                  "tlabel": "Common Stock, Dividends, Per Share, Declared",
                  "crdr": "U",
                  "datatype": "N/A",
                  "iord": "N/A",
                  "tag": "CommonStockDividendsPerShareDeclared",
                  "version": "us-gaap/2016",
                  "label": "Tag"
                },
                "color": "#F44336",
                "styles": {},
                "label": "Tag",
                "scale_factor": 1,
                "type": "#F44336",
                "size": [
                  55,
                  55
                ],
                "position": [
                  0,
                  0
                ]
              },
              {
                "id": 6305,
                "properties": {
                  "tlabel": "Common Stock, Shares, Issued",
                  "crdr": "U",
                  "datatype": "N/A",
                  "iord": "N/A",
                  "tag": "CommonStockSharesIssued",
                  "version": "us-gaap/2016",
                  "label": "Tag"
                },
                "color": "#F44336",
                "styles": {},
                "label": "Tag",
                "scale_factor": 1,
                "type": "#F44336",
                "size": [
                  55,
                  55
                ],
                "position": [
                  0,
                  0
                ]
              },
              {
                "id": 6315,
                "properties": {
                  "tlabel": "Common Stock, Par or Stated Value Per Share",
                  "crdr": "U",
                  "datatype": "N/A",
                  "iord": "N/A",
                  "tag": "CommonStockParOrStatedValuePerShare",
                  "version": "us-gaap/2016",
                  "label": "Tag"
                },
                "color": "#F44336",
                "styles": {},
                "label": "Tag",
                "scale_factor": 1,
                "type": "#F44336",
                "size": [
                  55,
                  55
                ],
                "position": [
                  0,
                  0
                ]
              },
              {
                "id": 6318,
                "properties": {
                  "tlabel": "Common Stock, Value, Issued",
                  "crdr": "U",
                  "datatype": "N/A",
                  "iord": "N/A",
                  "tag": "CommonStockValue",
                  "version": "us-gaap/2016",
                  "label": "Tag"
                },
                "color": "#F44336",
                "styles": {},
                "label": "Tag",
                "scale_factor": 1,
                "type": "#F44336",
                "size": [
                  55,
                  55
                ],
                "position": [
                  0,
                  0
                ]
              },
              {
                "id": 6331,
                "properties": {
                  "tlabel": "Common Stock, Shares, Outstanding",
                  "crdr": "U",
                  "datatype": "N/A",
                  "iord": "N/A",
                  "tag": "CommonStockSharesOutstanding",
                  "version": "us-gaap/2016",
                  "label": "Tag"
                },
                "color": "#F44336",
                "styles": {},
                "label": "Tag",
                "scale_factor": 1,
                "type": "#F44336",
                "size": [
                  55,
                  55
                ],
                "position": [
                  0,
                  0
                ]
              },
              {
                "id": 6382,
                "properties": {
                  "tlabel": "Costs and Expenses",
                  "crdr": "U",
                  "datatype": "N/A",
                  "iord": "N/A",
                  "tag": "CostsAndExpenses",
                  "version": "us-gaap/2016",
                  "label": "Tag"
                },
                "color": "#F44336",
                "styles": {},
                "label": "Tag",
                "scale_factor": 1,
                "type": "#F44336",
                "size": [
                  55,
                  55
                ],
                "position": [
                  0,
                  0
                ]
              },
              {
                "id": 6422,
                "properties": {
                  "tlabel": "Current Income Tax Expense (Benefit)",
                  "crdr": "U",
                  "datatype": "N/A",
                  "iord": "N/A",
                  "tag": "CurrentIncomeTaxExpenseBenefit",
                  "version": "us-gaap/2016",
                  "label": "Tag"
                },
                "color": "#F44336",
                "styles": {},
                "label": "Tag",
                "scale_factor": 1,
                "type": "#F44336",
                "size": [
                  55,
                  55
                ],
                "position": [
                  0,
                  0
                ]
              },
              {
                "id": 6481,
                "properties": {
                  "tlabel": "Deconsolidation, Gain (Loss), Amount",
                  "crdr": "U",
                  "datatype": "N/A",
                  "iord": "N/A",
                  "tag": "DeconsolidationGainOrLossAmount",
                  "version": "us-gaap/2016",
                  "label": "Tag"
                },
                "color": "#F44336",
                "styles": {},
                "label": "Tag",
                "scale_factor": 1,
                "type": "#F44336",
                "size": [
                  55,
                  55
                ],
                "position": [
                  0,
                  0
                ]
              },
              {
                "id": 6488,
                "properties": {
                  "tlabel": "Deferred Income Taxes and Other Liabilities, Noncurrent",
                  "crdr": "U",
                  "datatype": "N/A",
                  "iord": "N/A",
                  "tag": "DeferredIncomeTaxesAndOtherLiabilitiesNoncurrent",
                  "version": "us-gaap/2016",
                  "label": "Tag"
                },
                "color": "#F44336",
                "styles": {},
                "label": "Tag",
                "scale_factor": 1,
                "type": "#F44336",
                "size": [
                  55,
                  55
                ],
                "position": [
                  0,
                  0
                ]
              },
              {
                "id": 6516,
                "properties": {
                  "tlabel": "Deferred Income Tax Expense (Benefit)",
                  "crdr": "U",
                  "datatype": "N/A",
                  "iord": "N/A",
                  "tag": "DeferredIncomeTaxExpenseBenefit",
                  "version": "us-gaap/2016",
                  "label": "Tag"
                },
                "color": "#F44336",
                "styles": {},
                "label": "Tag",
                "scale_factor": 1,
                "type": "#F44336",
                "size": [
                  55,
                  55
                ],
                "position": [
                  0,
                  0
                ]
              },
              {
                "id": 6574,
                "properties": {
                  "tlabel": "Depreciation, Depletion and Amortization",
                  "crdr": "U",
                  "datatype": "N/A",
                  "iord": "N/A",
                  "tag": "DepreciationDepletionAndAmortization",
                  "version": "us-gaap/2016",
                  "label": "Tag"
                },
                "color": "#F44336",
                "styles": {},
                "label": "Tag",
                "scale_factor": 1,
                "type": "#F44336",
                "size": [
                  55,
                  55
                ],
                "position": [
                  0,
                  0
                ]
              },
              {
                "id": 6691,
                "properties": {
                  "tlabel": "Dividends, Common Stock, Cash",
                  "crdr": "U",
                  "datatype": "N/A",
                  "iord": "N/A",
                  "tag": "DividendsCommonStockCash",
                  "version": "us-gaap/2016",
                  "label": "Tag"
                },
                "color": "#F44336",
                "styles": {},
                "label": "Tag",
                "scale_factor": 1,
                "type": "#F44336",
                "size": [
                  55,
                  55
                ],
                "position": [
                  0,
                  0
                ]
              },
              {
                "id": 6700,
                "properties": {
                  "tlabel": "Earnings Per Share, Basic and Diluted",
                  "crdr": "U",
                  "datatype": "N/A",
                  "iord": "N/A",
                  "tag": "EarningsPerShareBasicAndDiluted",
                  "version": "us-gaap/2016",
                  "label": "Tag"
                },
                "color": "#F44336",
                "styles": {},
                "label": "Tag",
                "scale_factor": 1,
                "type": "#F44336",
                "size": [
                  55,
                  55
                ],
                "position": [
                  0,
                  0
                ]
              },
              {
                "id": 6712,
                "properties": {
                  "tlabel": "Energy Marketing Contracts Assets, Current",
                  "crdr": "U",
                  "datatype": "N/A",
                  "iord": "N/A",
                  "tag": "EnergyMarketingContractsAssetsCurrent",
                  "version": "us-gaap/2016",
                  "label": "Tag"
                },
                "color": "#F44336",
                "styles": {},
                "label": "Tag",
                "scale_factor": 1,
                "type": "#F44336",
                "size": [
                  55,
                  55
                ],
                "position": [
                  0,
                  0
                ]
              },
              {
                "id": 6716,
                "properties": {
                  "tlabel": "Energy Marketing Contract Liabilities, Current",
                  "crdr": "U",
                  "datatype": "N/A",
                  "iord": "N/A",
                  "tag": "EnergyMarketingContractLiabilitiesCurrent",
                  "version": "us-gaap/2016",
                  "label": "Tag"
                },
                "color": "#F44336",
                "styles": {},
                "label": "Tag",
                "scale_factor": 1,
                "type": "#F44336",
                "size": [
                  55,
                  55
                ],
                "position": [
                  0,
                  0
                ]
              },
              {
                "id": 6728,
                "properties": {
                  "tlabel": "Energy Related Inventory",
                  "crdr": "U",
                  "datatype": "N/A",
                  "iord": "N/A",
                  "tag": "EnergyRelatedInventory",
                  "version": "us-gaap/2016",
                  "label": "Tag"
                },
                "color": "#F44336",
                "styles": {},
                "label": "Tag",
                "scale_factor": 1,
                "type": "#F44336",
                "size": [
                  55,
                  55
                ],
                "position": [
                  0,
                  0
                ]
              },
              {
                "id": 6733,
                "properties": {
                  "tlabel": "Equity Method Investment, Other than Temporary Impairment",
                  "crdr": "U",
                  "datatype": "N/A",
                  "iord": "N/A",
                  "tag": "EquityMethodInvestmentOtherThanTemporaryImpairment",
                  "version": "us-gaap/2016",
                  "label": "Tag"
                },
                "color": "#F44336",
                "styles": {},
                "label": "Tag",
                "scale_factor": 1,
                "type": "#F44336",
                "size": [
                  55,
                  55
                ],
                "position": [
                  0,
                  0
                ]
              },
              {
                "id": 6835,
                "properties": {
                  "tlabel": "Gain (Loss) on Disposition of Property Plant Equipment, Excluding Oil and Gas Property and Timber Property",
                  "crdr": "U",
                  "datatype": "N/A",
                  "iord": "N/A",
                  "tag": "GainLossOnDispositionOfAssets",
                  "version": "us-gaap/2016",
                  "label": "Tag"
                },
                "color": "#F44336",
                "styles": {},
                "label": "Tag",
                "scale_factor": 1,
                "type": "#F44336",
                "size": [
                  55,
                  55
                ],
                "position": [
                  0,
                  0
                ]
              },
              {
                "id": 6896,
                "properties": {
                  "tlabel": "General and Administrative Expense",
                  "crdr": "U",
                  "datatype": "N/A",
                  "iord": "N/A",
                  "tag": "GeneralAndAdministrativeExpense",
                  "version": "us-gaap/2016",
                  "label": "Tag"
                },
                "color": "#F44336",
                "styles": {},
                "label": "Tag",
                "scale_factor": 1,
                "type": "#F44336",
                "size": [
                  55,
                  55
                ],
                "position": [
                  0,
                  0
                ]
              },
              {
                "id": 6919,
                "properties": {
                  "tlabel": "Impairment of Oil and Gas Properties",
                  "crdr": "U",
                  "datatype": "N/A",
                  "iord": "N/A",
                  "tag": "ImpairmentOfOilAndGasProperties",
                  "version": "us-gaap/2016",
                  "label": "Tag"
                },
                "color": "#F44336",
                "styles": {},
                "label": "Tag",
                "scale_factor": 1,
                "type": "#F44336",
                "size": [
                  55,
                  55
                ],
                "position": [
                  0,
                  0
                ]
              },
              {
                "id": 6927,
                "properties": {
                  "tlabel": "Income (Loss) from Continuing Operations, Per Basic and Diluted Share",
                  "crdr": "U",
                  "datatype": "N/A",
                  "iord": "N/A",
                  "tag": "IncomeLossFromContinuingOperationsPerBasicAndDilutedShare",
                  "version": "us-gaap/2016",
                  "label": "Tag"
                },
                "color": "#F44336",
                "styles": {},
                "label": "Tag",
                "scale_factor": 1,
                "type": "#F44336",
                "size": [
                  55,
                  55
                ],
                "position": [
                  0,
                  0
                ]
              },
              {
                "id": 6942,
                "properties": {
                  "tlabel": "Income (Loss) from Continuing Operations, Net of Tax, Including Portion Attributable to Noncontrolling Interest",
                  "crdr": "U",
                  "datatype": "N/A",
                  "iord": "N/A",
                  "tag": "IncomeLossFromContinuingOperationsIncludingPortionAttributableToNoncontrollingInterest",
                  "version": "us-gaap/2016",
                  "label": "Tag"
                },
                "color": "#F44336",
                "styles": {},
                "label": "Tag",
                "scale_factor": 1,
                "type": "#F44336",
                "size": [
                  55,
                  55
                ],
                "position": [
                  0,
                  0
                ]
              },
              {
                "id": 6955,
                "properties": {
                  "tlabel": "Income Tax Expense (Benefit)",
                  "crdr": "U",
                  "datatype": "N/A",
                  "iord": "N/A",
                  "tag": "IncomeTaxExpenseBenefit",
                  "version": "us-gaap/2016",
                  "label": "Tag"
                },
                "color": "#F44336",
                "styles": {},
                "label": "Tag",
                "scale_factor": 1,
                "type": "#F44336",
                "size": [
                  55,
                  55
                ],
                "position": [
                  0,
                  0
                ]
              },
              {
                "id": 6958,
                "properties": {
                  "tlabel": "Effective Income Tax Rate Reconciliation, Noncontrolling Interest Income (Loss), Amount",
                  "crdr": "U",
                  "datatype": "N/A",
                  "iord": "N/A",
                  "tag": "IncomeTaxReconciliationMinorityInterestIncomeExpense",
                  "version": "us-gaap/2016",
                  "label": "Tag"
                },
                "color": "#F44336",
                "styles": {},
                "label": "Tag",
                "scale_factor": 1,
                "type": "#F44336",
                "size": [
                  55,
                  55
                ],
                "position": [
                  0,
                  0
                ]
              },
              {
                "id": 6961,
                "properties": {
                  "tlabel": "Increase (Decrease) in Accounts Receivable",
                  "crdr": "U",
                  "datatype": "N/A",
                  "iord": "N/A",
                  "tag": "IncreaseDecreaseInAccountsReceivable",
                  "version": "us-gaap/2016",
                  "label": "Tag"
                },
                "color": "#F44336",
                "styles": {},
                "label": "Tag",
                "scale_factor": 1,
                "type": "#F44336",
                "size": [
                  55,
                  55
                ],
                "position": [
                  0,
                  0
                ]
              },
              {
                "id": 6965,
                "properties": {
                  "tlabel": "Increase (Decrease) in Accounts Payable",
                  "crdr": "U",
                  "datatype": "N/A",
                  "iord": "N/A",
                  "tag": "IncreaseDecreaseInAccountsPayable",
                  "version": "us-gaap/2016",
                  "label": "Tag"
                },
                "color": "#F44336",
                "styles": {},
                "label": "Tag",
                "scale_factor": 1,
                "type": "#F44336",
                "size": [
                  55,
                  55
                ],
                "position": [
                  0,
                  0
                ]
              },
              {
                "id": 6971,
                "properties": {
                  "tlabel": "Increase (Decrease) in Accrued Liabilities",
                  "crdr": "U",
                  "datatype": "N/A",
                  "iord": "N/A",
                  "tag": "IncreaseDecreaseInAccruedLiabilities",
                  "version": "us-gaap/2016",
                  "label": "Tag"
                },
                "color": "#F44336",
                "styles": {},
                "label": "Tag",
                "scale_factor": 1,
                "type": "#F44336",
                "size": [
                  55,
                  55
                ],
                "position": [
                  0,
                  0
                ]
              },
              {
                "id": 6978,
                "properties": {
                  "tlabel": "Income (Loss) from Continuing Operations before Equity Method Investments, Income Taxes, Noncontrolling Interest",
                  "crdr": "U",
                  "datatype": "N/A",
                  "iord": "N/A",
                  "tag": "IncomeLossFromContinuingOperationsBeforeIncomeTaxesMinorityInterestAndIncomeLossFromEquityMethodInvestments",
                  "version": "us-gaap/2016",
                  "label": "Tag"
                },
                "color": "#F44336",
                "styles": {},
                "label": "Tag",
                "scale_factor": 1,
                "type": "#F44336",
                "size": [
                  55,
                  55
                ],
                "position": [
                  0,
                  0
                ]
              },
              {
                "id": 6982,
                "properties": {
                  "tlabel": "Income (Loss) from Equity Method Investments",
                  "crdr": "U",
                  "datatype": "N/A",
                  "iord": "N/A",
                  "tag": "IncomeLossFromEquityMethodInvestments",
                  "version": "us-gaap/2016",
                  "label": "Tag"
                },
                "color": "#F44336",
                "styles": {},
                "label": "Tag",
                "scale_factor": 1,
                "type": "#F44336",
                "size": [
                  55,
                  55
                ],
                "position": [
                  0,
                  0
                ]
              },
              {
                "id": 6986,
                "properties": {
                  "tlabel": "Income Taxes Receivable, Current",
                  "crdr": "U",
                  "datatype": "N/A",
                  "iord": "N/A",
                  "tag": "IncomeTaxesReceivable",
                  "version": "us-gaap/2016",
                  "label": "Tag"
                },
                "color": "#F44336",
                "styles": {},
                "label": "Tag",
                "scale_factor": 1,
                "type": "#F44336",
                "size": [
                  55,
                  55
                ],
                "position": [
                  0,
                  0
                ]
              },
              {
                "id": 6990,
                "properties": {
                  "tlabel": "Increase (Decrease) Due from Affiliates",
                  "crdr": "U",
                  "datatype": "N/A",
                  "iord": "N/A",
                  "tag": "IncreaseDecreaseDueFromAffiliates",
                  "version": "us-gaap/2016",
                  "label": "Tag"
                },
                "color": "#F44336",
                "styles": {},
                "label": "Tag",
                "scale_factor": 1,
                "type": "#F44336",
                "size": [
                  55,
                  55
                ],
                "position": [
                  0,
                  0
                ]
              },
              {
                "id": 7004,
                "properties": {
                  "tlabel": "Increase (Decrease) in Deposit Assets",
                  "crdr": "U",
                  "datatype": "N/A",
                  "iord": "N/A",
                  "tag": "IncreaseDecreaseInDepositOtherAssets",
                  "version": "us-gaap/2016",
                  "label": "Tag"
                },
                "color": "#F44336",
                "styles": {},
                "label": "Tag",
                "scale_factor": 1,
                "type": "#F44336",
                "size": [
                  55,
                  55
                ],
                "position": [
                  0,
                  0
                ]
              },
              {
                "id": 7041,
                "properties": {
                  "tlabel": "Increase (Decrease) in Income Taxes Receivable",
                  "crdr": "U",
                  "datatype": "N/A",
                  "iord": "N/A",
                  "tag": "IncreaseDecreaseInIncomeTaxesReceivable",
                  "version": "us-gaap/2016",
                  "label": "Tag"
                },
                "color": "#F44336",
                "styles": {},
                "label": "Tag",
                "scale_factor": 1,
                "type": "#F44336",
                "size": [
                  55,
                  55
                ],
                "position": [
                  0,
                  0
                ]
              },
              {
                "id": 7061,
                "properties": {
                  "tlabel": "Increase (Decrease) in Inventories",
                  "crdr": "U",
                  "datatype": "N/A",
                  "iord": "N/A",
                  "tag": "IncreaseDecreaseInInventories",
                  "version": "us-gaap/2016",
                  "label": "Tag"
                },
                "color": "#F44336",
                "styles": {},
                "label": "Tag",
                "scale_factor": 1,
                "type": "#F44336",
                "size": [
                  55,
                  55
                ],
                "position": [
                  0,
                  0
                ]
              },
              {
                "id": 7119,
                "properties": {
                  "tlabel": "Increase (Decrease) in Prepaid Expense",
                  "crdr": "U",
                  "datatype": "N/A",
                  "iord": "N/A",
                  "tag": "IncreaseDecreaseInPrepaidExpense",
                  "version": "us-gaap/2016",
                  "label": "Tag"
                },
                "color": "#F44336",
                "styles": {},
                "label": "Tag",
                "scale_factor": 1,
                "type": "#F44336",
                "size": [
                  55,
                  55
                ],
                "position": [
                  0,
                  0
                ]
              }
            ],
            "_overview": {
              "enabled": null,
              "overview_set": false
            },
            "_selected_graph": [
              [],
              []
            ],
            "_sidebar": {
              "enabled": false,
              "start_with": null
            },
            "_view_count": null,
            "_view_module": "yfiles-jupyter-graphs",
            "_view_module_version": "^1.10.1",
            "_view_name": "GraphView",
            "layout": "IPY_MODEL_8c75806d226d4964bcd5339feb9e722d",
            "tabbable": null,
            "tooltip": null
          }
        },
        "8c75806d226d4964bcd5339feb9e722d": {
          "model_module": "@jupyter-widgets/base",
          "model_name": "LayoutModel",
          "model_module_version": "2.0.0",
          "state": {
            "_model_module": "@jupyter-widgets/base",
            "_model_module_version": "2.0.0",
            "_model_name": "LayoutModel",
            "_view_count": null,
            "_view_module": "@jupyter-widgets/base",
            "_view_module_version": "2.0.0",
            "_view_name": "LayoutView",
            "align_content": null,
            "align_items": null,
            "align_self": null,
            "border_bottom": null,
            "border_left": null,
            "border_right": null,
            "border_top": null,
            "bottom": null,
            "display": null,
            "flex": null,
            "flex_flow": null,
            "grid_area": null,
            "grid_auto_columns": null,
            "grid_auto_flow": null,
            "grid_auto_rows": null,
            "grid_column": null,
            "grid_gap": null,
            "grid_row": null,
            "grid_template_areas": null,
            "grid_template_columns": null,
            "grid_template_rows": null,
            "height": "800px",
            "justify_content": null,
            "justify_items": null,
            "left": null,
            "margin": null,
            "max_height": null,
            "max_width": null,
            "min_height": null,
            "min_width": null,
            "object_fit": null,
            "object_position": null,
            "order": null,
            "overflow": null,
            "padding": null,
            "right": null,
            "top": null,
            "visibility": null,
            "width": "100%"
          }
        },
        "c0abf862e35b49a2af070df7f32fca61": {
          "model_module": "yfiles-jupyter-graphs",
          "model_name": "GraphModel",
          "model_module_version": "^1.10.1",
          "state": {
            "_context_pane_mapping": [
              {
                "id": "Neighborhood",
                "title": "Neighborhood"
              },
              {
                "id": "Data",
                "title": "Data"
              },
              {
                "id": "Search",
                "title": "Search"
              },
              {
                "id": "About",
                "title": "About"
              }
            ],
            "_data_importer": "neo4j",
            "_directed": true,
            "_dom_classes": [],
            "_edges": [
              {
                "id": 6917529027641158000,
                "start": 0,
                "end": 75784,
                "properties": {
                  "label": "HAS_FACT"
                },
                "color": "#607D8B",
                "thickness_factor": 1,
                "directed": true,
                "styles": {},
                "label": "HAS_FACT"
              },
              {
                "id": 1152922604118550500,
                "start": 75784,
                "end": 11964,
                "properties": {
                  "label": "USES_TAG"
                },
                "color": "#673AB7",
                "thickness_factor": 1,
                "directed": true,
                "styles": {},
                "label": "USES_TAG"
              },
              {
                "id": 6917529027641143000,
                "start": 0,
                "end": 61620,
                "properties": {
                  "label": "HAS_FACT"
                },
                "color": "#607D8B",
                "thickness_factor": 1,
                "directed": true,
                "styles": {},
                "label": "HAS_FACT"
              },
              {
                "id": 1152922604118536400,
                "start": 61620,
                "end": 16396,
                "properties": {
                  "label": "USES_TAG"
                },
                "color": "#673AB7",
                "thickness_factor": 1,
                "directed": true,
                "styles": {},
                "label": "USES_TAG"
              },
              {
                "id": 6917529027641138000,
                "start": 0,
                "end": 56538,
                "properties": {
                  "label": "HAS_FACT"
                },
                "color": "#607D8B",
                "thickness_factor": 1,
                "directed": true,
                "styles": {},
                "label": "HAS_FACT"
              },
              {
                "id": 1152922604118531300,
                "start": 56538,
                "end": 13320,
                "properties": {
                  "label": "USES_TAG"
                },
                "color": "#673AB7",
                "thickness_factor": 1,
                "directed": true,
                "styles": {},
                "label": "USES_TAG"
              }
            ],
            "_graph_layout": {
              "algorithm": "organic",
              "options": {}
            },
            "_highlight": [],
            "_license": {},
            "_model_module": "yfiles-jupyter-graphs",
            "_model_module_version": "^1.10.1",
            "_model_name": "GraphModel",
            "_neighborhood": {},
            "_nodes": [
              {
                "id": 0,
                "properties": {
                  "period": 20171031,
                  "cik": 72205,
                  "form": "10-K",
                  "adsh": "0001193125-18-020970",
                  "filed": 20180126,
                  "name": "NOBILITY HOMES INC",
                  "fp": "N/A",
                  "prevrpt": 0,
                  "detail": 0,
                  "sic": 0,
                  "wksi": 0,
                  "afs": "N/A",
                  "label": "Submission"
                },
                "color": "#2196F3",
                "styles": {},
                "label": "NOBILITY HOMES INC",
                "scale_factor": 1,
                "type": "#2196F3",
                "size": [
                  55,
                  55
                ],
                "position": [
                  0,
                  0
                ]
              },
              {
                "id": 75784,
                "properties": {
                  "qtrs": 0,
                  "ddate": 20171031,
                  "uom": "N/A",
                  "adsh": "0001193125-18-020970",
                  "tag": "OtherLongTermInvestments",
                  "version": "us-gaap/2017",
                  "value": 1471029,
                  "segments": "N/A",
                  "coreg": "N/A",
                  "label": "NumericFact"
                },
                "color": "#4CAF50",
                "styles": {},
                "label": "NumericFact",
                "scale_factor": 1,
                "type": "#4CAF50",
                "size": [
                  55,
                  55
                ],
                "position": [
                  0,
                  0
                ]
              },
              {
                "id": 11964,
                "properties": {
                  "tlabel": "Other Long-term Investments",
                  "crdr": "U",
                  "datatype": "N/A",
                  "iord": "N/A",
                  "tag": "OtherLongTermInvestments",
                  "version": "us-gaap/2017",
                  "label": "Tag"
                },
                "color": "#F44336",
                "styles": {},
                "label": "Tag",
                "scale_factor": 1,
                "type": "#F44336",
                "size": [
                  55,
                  55
                ],
                "position": [
                  0,
                  0
                ]
              },
              {
                "id": 61620,
                "properties": {
                  "qtrs": 0,
                  "ddate": 20171031,
                  "uom": "N/A",
                  "adsh": "0001193125-18-020970",
                  "tag": "StockIssuedDuringPeriodValueShareBasedCompensationAndAdjustmentsToAdditionalPaidInCapitalShareBasedCompensationRequisiteServicePeriodRecognitionValue",
                  "version": "0001193125-18-020970",
                  "value": 7218,
                  "segments": "N/A",
                  "coreg": "N/A",
                  "label": "NumericFact"
                },
                "color": "#4CAF50",
                "styles": {},
                "label": "NumericFact",
                "scale_factor": 1,
                "type": "#4CAF50",
                "size": [
                  55,
                  55
                ],
                "position": [
                  0,
                  0
                ]
              },
              {
                "id": 16396,
                "properties": {
                  "tlabel": "Stock Issued During Period Value Share Based Compensation And Adjustments To Additional Paid In Capital Share Based Compensation Requisite Service Period Recognition Value",
                  "crdr": "U",
                  "datatype": "N/A",
                  "iord": "N/A",
                  "tag": "StockIssuedDuringPeriodValueShareBasedCompensationAndAdjustmentsToAdditionalPaidInCapitalShareBasedCompensationRequisiteServicePeriodRecognitionValue",
                  "version": "0001193125-18-020970",
                  "label": "Tag"
                },
                "color": "#F44336",
                "styles": {},
                "label": "Tag",
                "scale_factor": 1,
                "type": "#F44336",
                "size": [
                  55,
                  55
                ],
                "position": [
                  0,
                  0
                ]
              },
              {
                "id": 56538,
                "properties": {
                  "qtrs": 0,
                  "ddate": 20161031,
                  "uom": "N/A",
                  "adsh": "0001193125-18-020970",
                  "tag": "StockIssuedDuringPeriodSharesShareBasedCompensationGross",
                  "version": "us-gaap/2017",
                  "value": 413,
                  "segments": "N/A",
                  "coreg": "N/A",
                  "label": "NumericFact"
                },
                "color": "#4CAF50",
                "styles": {},
                "label": "NumericFact",
                "scale_factor": 1,
                "type": "#4CAF50",
                "size": [
                  55,
                  55
                ],
                "position": [
                  0,
                  0
                ]
              },
              {
                "id": 13320,
                "properties": {
                  "tlabel": "Shares Issued, Shares, Share-based Payment Arrangement, before Forfeiture",
                  "crdr": "U",
                  "datatype": "N/A",
                  "iord": "N/A",
                  "tag": "StockIssuedDuringPeriodSharesShareBasedCompensationGross",
                  "version": "us-gaap/2017",
                  "label": "Tag"
                },
                "color": "#F44336",
                "styles": {},
                "label": "Tag",
                "scale_factor": 1,
                "type": "#F44336",
                "size": [
                  55,
                  55
                ],
                "position": [
                  0,
                  0
                ]
              }
            ],
            "_overview": {
              "enabled": null,
              "overview_set": false
            },
            "_selected_graph": [
              [
                {
                  "id": 0,
                  "properties": {
                    "period": 20171031,
                    "cik": 72205,
                    "form": "10-K",
                    "adsh": "0001193125-18-020970",
                    "filed": 20180126,
                    "name": "NOBILITY HOMES INC",
                    "fp": "N/A",
                    "prevrpt": 0,
                    "detail": 0,
                    "sic": 0,
                    "wksi": 0,
                    "afs": "N/A",
                    "label": "Submission"
                  }
                }
              ],
              []
            ],
            "_sidebar": {
              "enabled": false,
              "start_with": null
            },
            "_view_count": null,
            "_view_module": "yfiles-jupyter-graphs",
            "_view_module_version": "^1.10.1",
            "_view_name": "GraphView",
            "layout": "IPY_MODEL_a83518bb1af146ecaf72469fc4abc6ed",
            "tabbable": null,
            "tooltip": null
          }
        },
        "a83518bb1af146ecaf72469fc4abc6ed": {
          "model_module": "@jupyter-widgets/base",
          "model_name": "LayoutModel",
          "model_module_version": "2.0.0",
          "state": {
            "_model_module": "@jupyter-widgets/base",
            "_model_module_version": "2.0.0",
            "_model_name": "LayoutModel",
            "_view_count": null,
            "_view_module": "@jupyter-widgets/base",
            "_view_module_version": "2.0.0",
            "_view_name": "LayoutView",
            "align_content": null,
            "align_items": null,
            "align_self": null,
            "border_bottom": null,
            "border_left": null,
            "border_right": null,
            "border_top": null,
            "bottom": null,
            "display": null,
            "flex": null,
            "flex_flow": null,
            "grid_area": null,
            "grid_auto_columns": null,
            "grid_auto_flow": null,
            "grid_auto_rows": null,
            "grid_column": null,
            "grid_gap": null,
            "grid_row": null,
            "grid_template_areas": null,
            "grid_template_columns": null,
            "grid_template_rows": null,
            "height": "500px",
            "justify_content": null,
            "justify_items": null,
            "left": null,
            "margin": null,
            "max_height": null,
            "max_width": null,
            "min_height": null,
            "min_width": null,
            "object_fit": null,
            "object_position": null,
            "order": null,
            "overflow": null,
            "padding": null,
            "right": null,
            "top": null,
            "visibility": null,
            "width": "100%"
          }
        }
      }
    }
  },
  "nbformat": 4,
  "nbformat_minor": 0
}